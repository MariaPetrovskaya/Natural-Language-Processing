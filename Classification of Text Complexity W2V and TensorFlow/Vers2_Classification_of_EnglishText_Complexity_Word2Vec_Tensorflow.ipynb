{
  "cells": [
    {
      "cell_type": "markdown",
      "metadata": {
        "id": "view-in-github",
        "colab_type": "text"
      },
      "source": [
        "<a href=\"https://colab.research.google.com/github/MariaPetrovskaya/Natural-Language-Processing/blob/main/Classification%20of%20Text%20Complexity%20W2V%20and%20TensorFlow/Vers2_Classification_of_EnglishText_Complexity_Word2Vec_Tensorflow.ipynb\" target=\"_parent\"><img src=\"https://colab.research.google.com/assets/colab-badge.svg\" alt=\"Open In Colab\"/></a>"
      ]
    },
    {
      "cell_type": "markdown",
      "metadata": {
        "id": "MbfbpePQ9Ma-"
      },
      "source": [
        "#About project"
      ]
    },
    {
      "cell_type": "markdown",
      "metadata": {
        "id": "CpvC4BxW9eUw"
      },
      "source": [
        "###Introduction\n",
        "\n",
        "*   Watching films in the original language is a popular and effective method  for training languages skills.\n",
        "*   It is important to choose a film that suits actual level of difficulty, (possible to understood 50-70% of the dialogues).\n",
        "*   To fulfill this condition, the expert must watch the new film and decide what level it corresponds to. However, this requires a lot of time.\n",
        "\n",
        "\n",
        "###Business task\n",
        "\n",
        "*   Customer of this product: the foreign language courses.\n",
        "*   Develop an ML solution (multi-class classification) for prediction of difficulty levels for English-language films.\n",
        "\n",
        "\n",
        "\n",
        "\n",
        "\n",
        "\n",
        "\n"
      ]
    },
    {
      "cell_type": "markdown",
      "metadata": {
        "id": "dZ0Hs08o9eqj"
      },
      "source": [
        "###Initial data\n",
        "*   The study was experimental stage, dataset was of limited size (200 + records).\n",
        "*   Subtitles of films saved in directories with names as level of difficulty according to the CEFR ([Common European Framework of Reference]('https://ru.wikipedia.org/wiki/%D0%9E%D0%B1%D1%89%D0%B5%D0%B5%D0%B2%D1%80%D0%BE%D0%BF%D0%B5%D0%B9%D1%81%D0%BA%D0%B8%D0%B5_%D0%BA%D0%BE%D0%BC%D0%BF%D0%B5%D1%82%D0%B5%D0%BD%D1%86%D0%B8%D0%B8_%D0%B2%D0%BB%D0%B0%D0%B4%D0%B5%D0%BD%D0%B8%D1%8F_%D0%B8%D0%BD%D0%BE%D1%81%D1%82%D1%80%D0%B0%D0%BD%D0%BD%D1%8B%D0%BC_%D1%8F%D0%B7%D1%8B%D0%BA%D0%BE%D0%BC' 'wikipedia')).\n",
        "*   Movie subtitles in XLSX files containing the name of the movies and the degree of difficulty according to the CEFR scale.\n",
        "\n",
        "\n"
      ]
    },
    {
      "cell_type": "markdown",
      "source": [
        "\n",
        "\n",
        "---\n",
        "\n"
      ],
      "metadata": {
        "id": "sXhSaiqGXZqF"
      }
    },
    {
      "cell_type": "code",
      "execution_count": null,
      "metadata": {
        "id": "uqK0WGwwqCZ-"
      },
      "outputs": [],
      "source": [
        "# ! pip install gensim # better to install this library first, if work in colab"
      ]
    },
    {
      "cell_type": "code",
      "execution_count": null,
      "metadata": {
        "collapsed": true,
        "id": "V6TEEaYjSK1U"
      },
      "outputs": [],
      "source": [
        "# import modules & set up logging\n",
        "import gensim, logging\n",
        "logging.basicConfig(format='%(asctime)s : %(levelname)s : %(message)s', level=logging.INFO)"
      ]
    },
    {
      "cell_type": "code",
      "source": [
        "import multiprocessing\n",
        "\n",
        "from gensim.models import Word2Vec"
      ],
      "metadata": {
        "id": "ncdP9005jpna"
      },
      "execution_count": null,
      "outputs": []
    },
    {
      "cell_type": "code",
      "source": [
        "from gensim import models"
      ],
      "metadata": {
        "id": "rmYcKH4Wat8U"
      },
      "execution_count": null,
      "outputs": []
    },
    {
      "cell_type": "code",
      "source": [
        "from gensim.utils import keep_vocab_item, call_on_class_only, deprecated\n",
        "from gensim.models.keyedvectors import KeyedVectors, pseudorandom_weak_vector\n",
        "from gensim import utils, matutils\n",
        "\n",
        "# This import is required by pickle to load models stored by Gensim < 4.0, such as Gensim 3.8.3.\n",
        "from gensim.models.keyedvectors import Vocab  # noqa"
      ],
      "metadata": {
        "id": "5hRcpCRNcM_S"
      },
      "execution_count": null,
      "outputs": []
    },
    {
      "cell_type": "code",
      "execution_count": null,
      "metadata": {
        "id": "MtS057fXx4x6"
      },
      "outputs": [],
      "source": [
        "# %%capture\n",
        "# # need to install in colab\n",
        "# !pip install pysrt\n",
        "\n",
        "# !pip install tabula-py\n"
      ]
    },
    {
      "cell_type": "code",
      "execution_count": null,
      "metadata": {
        "id": "uMRfn1-enCDd"
      },
      "outputs": [],
      "source": [
        "import tensorflow as tf"
      ]
    },
    {
      "cell_type": "code",
      "execution_count": null,
      "metadata": {
        "id": "18l1QFennae5"
      },
      "outputs": [],
      "source": [
        "from string import punctuation\n",
        "\n",
        "from collections import Counter\n",
        "import matplotlib.pyplot as plt\n",
        "\n",
        "from IPython.display import Image\n",
        "from IPython.core.display import HTML\n",
        "%matplotlib inline"
      ]
    },
    {
      "cell_type": "code",
      "execution_count": null,
      "metadata": {
        "id": "w82swcw6x8ga"
      },
      "outputs": [],
      "source": [
        "# imports\n",
        "import os\n",
        "import re\n",
        "\n",
        "import numpy as np\n",
        "import pandas as pd\n",
        "import matplotlib.pyplot as plt\n",
        "from sklearn.model_selection import (train_test_split,\n",
        "                                     StratifiedShuffleSplit,\n",
        "                                     GridSearchCV\n",
        "                                     )\n",
        "\n",
        "\n",
        "from sklearn.metrics import (classification_report,\n",
        "                             f1_score,\n",
        "                             confusion_matrix,\n",
        "                             ConfusionMatrixDisplay\n",
        "                             )\n",
        "\n",
        "from sklearn.base import (BaseEstimator,\n",
        "                          TransformerMixin\n",
        "                          )\n",
        "import pickle\n",
        "import pysrt\n",
        "\n",
        "import requests\n",
        "import urllib\n",
        "import json\n",
        "import zipfile\n",
        "from zipfile import ZipFile\n",
        "import tabula\n",
        "from tabula import read_pdf\n"
      ]
    },
    {
      "cell_type": "markdown",
      "metadata": {
        "id": "AiHI0EbwIGz6"
      },
      "source": [
        "# Data Loading and Preprocessing\n",
        "\n"
      ]
    },
    {
      "cell_type": "markdown",
      "metadata": {
        "id": "Ekgb6imsL3UA"
      },
      "source": [
        "###Loadind data with movies"
      ]
    },
    {
      "cell_type": "code",
      "execution_count": null,
      "metadata": {
        "colab": {
          "base_uri": "https://localhost:8080/"
        },
        "id": "zkbXe0uwywjz",
        "outputId": "a292b15a-a3cc-4442-d1c1-6ffac00d0df3"
      },
      "outputs": [
        {
          "output_type": "stream",
          "name": "stdout",
          "text": [
            "Mounted at /content/drive\n"
          ]
        }
      ],
      "source": [
        "#import from с Google Disk to Colab\n",
        "from google.colab import drive\n",
        "drive.mount('/content/drive')"
      ]
    },
    {
      "cell_type": "code",
      "execution_count": null,
      "metadata": {
        "colab": {
          "base_uri": "https://localhost:8080/",
          "height": 36
        },
        "id": "0OzYY61-zPnX",
        "outputId": "5d5ac6ec-2352-4517-a002-0c4161004ddc"
      },
      "outputs": [
        {
          "output_type": "execute_result",
          "data": {
            "text/plain": [
              "'/content/drive/MyDrive/datasets/English_scores.zip'"
            ],
            "application/vnd.google.colaboratory.intrinsic+json": {
              "type": "string"
            }
          },
          "metadata": {},
          "execution_count": 12
        }
      ],
      "source": [
        "PATH = '/content/drive/MyDrive/datasets'\n",
        "path_to_zip_file = f'{PATH}/English_scores.zip'\n",
        "path_to_zip_file"
      ]
    },
    {
      "cell_type": "code",
      "execution_count": null,
      "metadata": {
        "id": "e-lGYMV7zmxk"
      },
      "outputs": [],
      "source": [
        "with ZipFile(path_to_zip_file, 'r') as zObject:\n",
        "  znm = zObject.namelist()"
      ]
    },
    {
      "cell_type": "code",
      "execution_count": null,
      "metadata": {
        "id": "kW15nSoUzfoZ"
      },
      "outputs": [],
      "source": [
        "with ZipFile(path_to_zip_file, 'r') as zObject:\n",
        "  movies_labels = zObject.extract('movies_labels.xlsx')"
      ]
    },
    {
      "cell_type": "code",
      "execution_count": null,
      "metadata": {
        "colab": {
          "base_uri": "https://localhost:8080/",
          "height": 203
        },
        "id": "ixrEVKaeICdT",
        "outputId": "7362e020-7fb2-4143-c745-58063cf9bbb0"
      },
      "outputs": [
        {
          "output_type": "execute_result",
          "data": {
            "text/plain": [
              "<bound method DataFrame.info of                                 Movie   Level\n",
              "id                                           \n",
              "0           10_Cloverfield_lane(2016)      B1\n",
              "1    10_things_I_hate_about_you(1999)      B1\n",
              "2                A_knights_tale(2001)      B2\n",
              "3                A_star_is_born(2018)      B2\n",
              "4                       Aladdin(1992)  A2/A2+\n",
              "..                                ...     ...\n",
              "236                     Matilda(2022)      C1\n",
              "237                      Bullet train      B1\n",
              "238            Thor: love and thunder      B2\n",
              "239                         Lightyear      B2\n",
              "240                        The Grinch      B1\n",
              "\n",
              "[241 rows x 2 columns]>"
            ],
            "text/html": [
              "<div style=\"max-width:800px; border: 1px solid var(--colab-border-color);\"><style>\n",
              "      pre.function-repr-contents {\n",
              "        overflow-x: auto;\n",
              "        padding: 8px 12px;\n",
              "        max-height: 500px;\n",
              "      }\n",
              "\n",
              "      pre.function-repr-contents.function-repr-contents-collapsed {\n",
              "        cursor: pointer;\n",
              "        max-height: 100px;\n",
              "      }\n",
              "    </style>\n",
              "    <pre style=\"white-space: initial; background:\n",
              "         var(--colab-secondary-surface-color); padding: 8px 12px;\n",
              "         border-bottom: 1px solid var(--colab-border-color);\"><b>pandas.core.frame.DataFrame.info</b><br/>def info(verbose: bool | None=None, buf: WriteBuffer[str] | None=None, max_cols: int | None=None, memory_usage: bool | str | None=None, show_counts: bool | None=None) -&gt; None</pre><pre class=\"function-repr-contents function-repr-contents-collapsed\" style=\"\"><a class=\"filepath\" style=\"display:none\" href=\"#\">/usr/local/lib/python3.10/dist-packages/pandas/core/frame.py</a>Print a concise summary of a DataFrame.\n",
              "\n",
              "This method prints information about a DataFrame including\n",
              "the index dtype and columns, non-null values and memory usage.\n",
              "\n",
              "Parameters\n",
              "----------\n",
              "verbose : bool, optional\n",
              "    Whether to print the full summary. By default, the setting in\n",
              "    ``pandas.options.display.max_info_columns`` is followed.\n",
              "buf : writable buffer, defaults to sys.stdout\n",
              "    Where to send the output. By default, the output is printed to\n",
              "    sys.stdout. Pass a writable buffer if you need to further process\n",
              "    the output.\n",
              "max_cols : int, optional\n",
              "    When to switch from the verbose to the truncated output. If the\n",
              "    DataFrame has more than `max_cols` columns, the truncated output\n",
              "    is used. By default, the setting in\n",
              "    ``pandas.options.display.max_info_columns`` is used.\n",
              "memory_usage : bool, str, optional\n",
              "    Specifies whether total memory usage of the DataFrame\n",
              "    elements (including the index) should be displayed. By default,\n",
              "    this follows the ``pandas.options.display.memory_usage`` setting.\n",
              "\n",
              "    True always show memory usage. False never shows memory usage.\n",
              "    A value of &#x27;deep&#x27; is equivalent to &quot;True with deep introspection&quot;.\n",
              "    Memory usage is shown in human-readable units (base-2\n",
              "    representation). Without deep introspection a memory estimation is\n",
              "    made based in column dtype and number of rows assuming values\n",
              "    consume the same memory amount for corresponding dtypes. With deep\n",
              "    memory introspection, a real memory usage calculation is performed\n",
              "    at the cost of computational resources. See the\n",
              "    :ref:`Frequently Asked Questions &lt;df-memory-usage&gt;` for more\n",
              "    details.\n",
              "show_counts : bool, optional\n",
              "    Whether to show the non-null counts. By default, this is shown\n",
              "    only if the DataFrame is smaller than\n",
              "    ``pandas.options.display.max_info_rows`` and\n",
              "    ``pandas.options.display.max_info_columns``. A value of True always\n",
              "    shows the counts, and False never shows the counts.\n",
              "\n",
              "Returns\n",
              "-------\n",
              "None\n",
              "    This method prints a summary of a DataFrame and returns None.\n",
              "\n",
              "See Also\n",
              "--------\n",
              "DataFrame.describe: Generate descriptive statistics of DataFrame\n",
              "    columns.\n",
              "DataFrame.memory_usage: Memory usage of DataFrame columns.\n",
              "\n",
              "Examples\n",
              "--------\n",
              "&gt;&gt;&gt; int_values = [1, 2, 3, 4, 5]\n",
              "&gt;&gt;&gt; text_values = [&#x27;alpha&#x27;, &#x27;beta&#x27;, &#x27;gamma&#x27;, &#x27;delta&#x27;, &#x27;epsilon&#x27;]\n",
              "&gt;&gt;&gt; float_values = [0.0, 0.25, 0.5, 0.75, 1.0]\n",
              "&gt;&gt;&gt; df = pd.DataFrame({&quot;int_col&quot;: int_values, &quot;text_col&quot;: text_values,\n",
              "...                   &quot;float_col&quot;: float_values})\n",
              "&gt;&gt;&gt; df\n",
              "    int_col text_col  float_col\n",
              "0        1    alpha       0.00\n",
              "1        2     beta       0.25\n",
              "2        3    gamma       0.50\n",
              "3        4    delta       0.75\n",
              "4        5  epsilon       1.00\n",
              "\n",
              "Prints information of all columns:\n",
              "\n",
              "&gt;&gt;&gt; df.info(verbose=True)\n",
              "&lt;class &#x27;pandas.core.frame.DataFrame&#x27;&gt;\n",
              "RangeIndex: 5 entries, 0 to 4\n",
              "Data columns (total 3 columns):\n",
              " #   Column     Non-Null Count  Dtype\n",
              "---  ------     --------------  -----\n",
              " 0   int_col    5 non-null      int64\n",
              " 1   text_col   5 non-null      object\n",
              " 2   float_col  5 non-null      float64\n",
              "dtypes: float64(1), int64(1), object(1)\n",
              "memory usage: 248.0+ bytes\n",
              "\n",
              "Prints a summary of columns count and its dtypes but not per column\n",
              "information:\n",
              "\n",
              "&gt;&gt;&gt; df.info(verbose=False)\n",
              "&lt;class &#x27;pandas.core.frame.DataFrame&#x27;&gt;\n",
              "RangeIndex: 5 entries, 0 to 4\n",
              "Columns: 3 entries, int_col to float_col\n",
              "dtypes: float64(1), int64(1), object(1)\n",
              "memory usage: 248.0+ bytes\n",
              "\n",
              "Pipe output of DataFrame.info to buffer instead of sys.stdout, get\n",
              "buffer content and writes to a text file:\n",
              "\n",
              "&gt;&gt;&gt; import io\n",
              "&gt;&gt;&gt; buffer = io.StringIO()\n",
              "&gt;&gt;&gt; df.info(buf=buffer)\n",
              "&gt;&gt;&gt; s = buffer.getvalue()\n",
              "&gt;&gt;&gt; with open(&quot;df_info.txt&quot;, &quot;w&quot;,\n",
              "...           encoding=&quot;utf-8&quot;) as f:  # doctest: +SKIP\n",
              "...     f.write(s)\n",
              "260\n",
              "\n",
              "The `memory_usage` parameter allows deep introspection mode, specially\n",
              "useful for big DataFrames and fine-tune memory optimization:\n",
              "\n",
              "&gt;&gt;&gt; random_strings_array = np.random.choice([&#x27;a&#x27;, &#x27;b&#x27;, &#x27;c&#x27;], 10 ** 6)\n",
              "&gt;&gt;&gt; df = pd.DataFrame({\n",
              "...     &#x27;column_1&#x27;: np.random.choice([&#x27;a&#x27;, &#x27;b&#x27;, &#x27;c&#x27;], 10 ** 6),\n",
              "...     &#x27;column_2&#x27;: np.random.choice([&#x27;a&#x27;, &#x27;b&#x27;, &#x27;c&#x27;], 10 ** 6),\n",
              "...     &#x27;column_3&#x27;: np.random.choice([&#x27;a&#x27;, &#x27;b&#x27;, &#x27;c&#x27;], 10 ** 6)\n",
              "... })\n",
              "&gt;&gt;&gt; df.info()\n",
              "&lt;class &#x27;pandas.core.frame.DataFrame&#x27;&gt;\n",
              "RangeIndex: 1000000 entries, 0 to 999999\n",
              "Data columns (total 3 columns):\n",
              " #   Column    Non-Null Count    Dtype\n",
              "---  ------    --------------    -----\n",
              " 0   column_1  1000000 non-null  object\n",
              " 1   column_2  1000000 non-null  object\n",
              " 2   column_3  1000000 non-null  object\n",
              "dtypes: object(3)\n",
              "memory usage: 22.9+ MB\n",
              "\n",
              "&gt;&gt;&gt; df.info(memory_usage=&#x27;deep&#x27;)\n",
              "&lt;class &#x27;pandas.core.frame.DataFrame&#x27;&gt;\n",
              "RangeIndex: 1000000 entries, 0 to 999999\n",
              "Data columns (total 3 columns):\n",
              " #   Column    Non-Null Count    Dtype\n",
              "---  ------    --------------    -----\n",
              " 0   column_1  1000000 non-null  object\n",
              " 1   column_2  1000000 non-null  object\n",
              " 2   column_3  1000000 non-null  object\n",
              "dtypes: object(3)\n",
              "memory usage: 165.9 MB</pre>\n",
              "      <script>\n",
              "      if (google.colab.kernel.accessAllowed && google.colab.files && google.colab.files.view) {\n",
              "        for (const element of document.querySelectorAll('.filepath')) {\n",
              "          element.style.display = 'block'\n",
              "          element.onclick = (event) => {\n",
              "            event.preventDefault();\n",
              "            event.stopPropagation();\n",
              "            google.colab.files.view(element.textContent, 3345);\n",
              "          };\n",
              "        }\n",
              "      }\n",
              "      for (const element of document.querySelectorAll('.function-repr-contents')) {\n",
              "        element.onclick = (event) => {\n",
              "          event.preventDefault();\n",
              "          event.stopPropagation();\n",
              "          element.classList.toggle('function-repr-contents-collapsed');\n",
              "        };\n",
              "      }\n",
              "      </script>\n",
              "      </div>"
            ]
          },
          "metadata": {},
          "execution_count": 15
        }
      ],
      "source": [
        "#loading dataset with movies levels\n",
        "df = pd.read_excel(movies_labels, index_col='id')\n",
        "df.info"
      ]
    },
    {
      "cell_type": "code",
      "execution_count": null,
      "metadata": {
        "colab": {
          "base_uri": "https://localhost:8080/"
        },
        "id": "KKLdf10GyLSx",
        "outputId": "edac29eb-771b-4e5d-9499-30041e7aba69"
      },
      "outputs": [
        {
          "output_type": "execute_result",
          "data": {
            "text/plain": [
              "array(['B1', 'B2', 'A2/A2+', 'C1', 'B1, B2', 'A2/A2+, B1', 'A2'],\n",
              "      dtype=object)"
            ]
          },
          "metadata": {},
          "execution_count": 16
        }
      ],
      "source": [
        "# looking list of levels\n",
        "df['Level'].unique()"
      ]
    },
    {
      "cell_type": "code",
      "execution_count": null,
      "metadata": {
        "id": "OcBS-bUdId7H"
      },
      "outputs": [],
      "source": [
        "# assign a numeric values to the levels\n",
        "label_dict = {'A2': 1,\n",
        "              'A2/A2+': 1,\n",
        "              'B1': 2,\n",
        "              'A2/A2+, B1': 2,\n",
        "              'B2': 3,\n",
        "              'B1, B2': 3,\n",
        "              'C1': 4}\n",
        "# change levels to numeric values\n",
        "df['Level'] = df['Level'].replace(label_dict)"
      ]
    },
    {
      "cell_type": "code",
      "execution_count": null,
      "metadata": {
        "colab": {
          "base_uri": "https://localhost:8080/"
        },
        "id": "XCL8yqqrIguv",
        "outputId": "ffb4d2d2-6c2a-47a9-89f0-7b7d9bbc4ab6"
      },
      "outputs": [
        {
          "output_type": "execute_result",
          "data": {
            "text/plain": [
              "(238, 2)"
            ]
          },
          "metadata": {},
          "execution_count": 18
        }
      ],
      "source": [
        "# drop duplicates\n",
        "df = df.drop_duplicates()\n",
        "df.shape"
      ]
    },
    {
      "cell_type": "markdown",
      "metadata": {
        "id": "2dZzlkUDL-qo"
      },
      "source": [
        "###Loading subtitles"
      ]
    },
    {
      "cell_type": "code",
      "execution_count": null,
      "metadata": {
        "colab": {
          "base_uri": "https://localhost:8080/"
        },
        "id": "utNQY7MNIjVn",
        "outputId": "5860aafe-1339-4d3f-b984-bfeeff80543f"
      },
      "outputs": [
        {
          "output_type": "stream",
          "name": "stdout",
          "text": [
            "278\n"
          ]
        }
      ],
      "source": [
        "films_name = {}\n",
        "for srt in znm:\n",
        "  if srt.find('.srt') != -1 and srt.find('__MACOSX') == -1:\n",
        "    films_name[srt.split('/')[-1]] = srt\n",
        "print(len(films_name))"
      ]
    },
    {
      "cell_type": "code",
      "execution_count": null,
      "metadata": {
        "colab": {
          "base_uri": "https://localhost:8080/"
        },
        "id": "9pisUGAmMB3w",
        "outputId": "32ab98b7-5192-4295-c514-b97f2144ae08"
      },
      "outputs": [
        {
          "output_type": "execute_result",
          "data": {
            "text/plain": [
              "229"
            ]
          },
          "metadata": {},
          "execution_count": 20
        }
      ],
      "source": [
        "# checking number of films from table with subtitles\n",
        "films_filtr = set(films_name.keys()) & set(df['Movie'] + '.srt')\n",
        "len(films_filtr)"
      ]
    },
    {
      "cell_type": "code",
      "execution_count": null,
      "metadata": {
        "id": "r_uC_be_MebK"
      },
      "outputs": [],
      "source": [
        "def load_subs(film):\n",
        "  \"\"\"loading subtitles function\"\"\"\n",
        "  fsrt = f'{film}.srt'\n",
        "  if fsrt not in set(films_name.keys()):\n",
        "    return None\n",
        "  with ZipFile(path_to_zip_file, 'r') as zObject:\n",
        "    f = zObject.extract(films_name[fsrt])\n",
        "    try:\n",
        "      subs = pysrt.open(f)\n",
        "    except:\n",
        "      subs = pysrt.open(f,encoding='iso-8859-1')\n",
        "  return subs"
      ]
    },
    {
      "cell_type": "code",
      "execution_count": null,
      "metadata": {
        "colab": {
          "base_uri": "https://localhost:8080/"
        },
        "id": "itG8oMQlMFog",
        "outputId": "1169a890-4c19-495d-b2ba-db0386211aee"
      },
      "outputs": [
        {
          "output_type": "stream",
          "name": "stdout",
          "text": [
            "CPU times: user 11.2 s, sys: 383 ms, total: 11.5 s\n",
            "Wall time: 16.5 s\n"
          ]
        },
        {
          "output_type": "stream",
          "name": "stderr",
          "text": [
            "<timed exec>:2: SettingWithCopyWarning: \n",
            "A value is trying to be set on a copy of a slice from a DataFrame.\n",
            "Try using .loc[row_indexer,col_indexer] = value instead\n",
            "\n",
            "See the caveats in the documentation: https://pandas.pydata.org/pandas-docs/stable/user_guide/indexing.html#returning-a-view-versus-a-copy\n"
          ]
        }
      ],
      "source": [
        "%%time\n",
        "#loading subtitles\n",
        "df['subs'] = df['Movie'].apply(load_subs)"
      ]
    },
    {
      "cell_type": "code",
      "execution_count": null,
      "metadata": {
        "id": "EshUSy2yMUDn"
      },
      "outputs": [],
      "source": [
        "df['subs']"
      ]
    },
    {
      "cell_type": "code",
      "execution_count": null,
      "metadata": {
        "id": "R7URjKeJNDoN"
      },
      "outputs": [],
      "source": [
        "#dropping gaps\n",
        "df = df.dropna().reset_index(drop=True)"
      ]
    },
    {
      "cell_type": "code",
      "execution_count": null,
      "metadata": {
        "colab": {
          "base_uri": "https://localhost:8080/",
          "height": 423
        },
        "id": "eN9D-Ek2HoCu",
        "outputId": "75b33bb3-e313-43d1-8366-f12d11b69e37"
      },
      "outputs": [
        {
          "output_type": "execute_result",
          "data": {
            "text/plain": [
              "                                Movie  Level  \\\n",
              "0           10_Cloverfield_lane(2016)      2   \n",
              "1    10_things_I_hate_about_you(1999)      2   \n",
              "2                A_knights_tale(2001)      3   \n",
              "3                A_star_is_born(2018)      3   \n",
              "4                       Aladdin(1992)      1   \n",
              "..                                ...    ...   \n",
              "225   Suits.S03E06.720p.HDTV.x264-mSD      4   \n",
              "226        Suits.S03E07.HDTV.x264-mSD      4   \n",
              "227   Suits.S03E08.480p.HDTV.x264-mSD      4   \n",
              "228   Suits.S03E09.480p.HDTV.x264-mSD      4   \n",
              "229        Suits.S03E10.HDTV.x264-mSD      4   \n",
              "\n",
              "                                                  subs  \n",
              "0    [1\\n00:00:55,279 --> 00:01:07,279\\n<font color...  \n",
              "1    [1\\n00:01:54,281 --> 00:01:55,698\\nHey!\\n, 2\\n...  \n",
              "2    [1\\n00:00:15,089 --> 00:00:21,229\\nResync: Xen...  \n",
              "3    [1\\n00:00:17,610 --> 00:00:22,610\\n- <i><font ...  \n",
              "4    [1\\n00:00:27,240 --> 00:00:30,879\\n<i>Oh, I co...  \n",
              "..                                                 ...  \n",
              "225  [1\\n00:00:01,383 --> 00:00:02,751\\nI lost Ava ...  \n",
              "226  [1\\n00:00:00,052 --> 00:00:01,352\\nPreviously ...  \n",
              "227  [1\\n00:00:01,436 --> 00:00:03,028\\nI get Ava H...  \n",
              "228  [1\\n00:00:00,024 --> 00:00:01,478\\nPreviously ...  \n",
              "229  [1\\n00:00:00,015 --> 00:00:01,196\\nPreviously ...  \n",
              "\n",
              "[230 rows x 3 columns]"
            ],
            "text/html": [
              "\n",
              "  <div id=\"df-b4040231-1cd1-4aa0-8a1e-8eb4c43c297c\" class=\"colab-df-container\">\n",
              "    <div>\n",
              "<style scoped>\n",
              "    .dataframe tbody tr th:only-of-type {\n",
              "        vertical-align: middle;\n",
              "    }\n",
              "\n",
              "    .dataframe tbody tr th {\n",
              "        vertical-align: top;\n",
              "    }\n",
              "\n",
              "    .dataframe thead th {\n",
              "        text-align: right;\n",
              "    }\n",
              "</style>\n",
              "<table border=\"1\" class=\"dataframe\">\n",
              "  <thead>\n",
              "    <tr style=\"text-align: right;\">\n",
              "      <th></th>\n",
              "      <th>Movie</th>\n",
              "      <th>Level</th>\n",
              "      <th>subs</th>\n",
              "    </tr>\n",
              "  </thead>\n",
              "  <tbody>\n",
              "    <tr>\n",
              "      <th>0</th>\n",
              "      <td>10_Cloverfield_lane(2016)</td>\n",
              "      <td>2</td>\n",
              "      <td>[1\\n00:00:55,279 --&gt; 00:01:07,279\\n&lt;font color...</td>\n",
              "    </tr>\n",
              "    <tr>\n",
              "      <th>1</th>\n",
              "      <td>10_things_I_hate_about_you(1999)</td>\n",
              "      <td>2</td>\n",
              "      <td>[1\\n00:01:54,281 --&gt; 00:01:55,698\\nHey!\\n, 2\\n...</td>\n",
              "    </tr>\n",
              "    <tr>\n",
              "      <th>2</th>\n",
              "      <td>A_knights_tale(2001)</td>\n",
              "      <td>3</td>\n",
              "      <td>[1\\n00:00:15,089 --&gt; 00:00:21,229\\nResync: Xen...</td>\n",
              "    </tr>\n",
              "    <tr>\n",
              "      <th>3</th>\n",
              "      <td>A_star_is_born(2018)</td>\n",
              "      <td>3</td>\n",
              "      <td>[1\\n00:00:17,610 --&gt; 00:00:22,610\\n- &lt;i&gt;&lt;font ...</td>\n",
              "    </tr>\n",
              "    <tr>\n",
              "      <th>4</th>\n",
              "      <td>Aladdin(1992)</td>\n",
              "      <td>1</td>\n",
              "      <td>[1\\n00:00:27,240 --&gt; 00:00:30,879\\n&lt;i&gt;Oh, I co...</td>\n",
              "    </tr>\n",
              "    <tr>\n",
              "      <th>...</th>\n",
              "      <td>...</td>\n",
              "      <td>...</td>\n",
              "      <td>...</td>\n",
              "    </tr>\n",
              "    <tr>\n",
              "      <th>225</th>\n",
              "      <td>Suits.S03E06.720p.HDTV.x264-mSD</td>\n",
              "      <td>4</td>\n",
              "      <td>[1\\n00:00:01,383 --&gt; 00:00:02,751\\nI lost Ava ...</td>\n",
              "    </tr>\n",
              "    <tr>\n",
              "      <th>226</th>\n",
              "      <td>Suits.S03E07.HDTV.x264-mSD</td>\n",
              "      <td>4</td>\n",
              "      <td>[1\\n00:00:00,052 --&gt; 00:00:01,352\\nPreviously ...</td>\n",
              "    </tr>\n",
              "    <tr>\n",
              "      <th>227</th>\n",
              "      <td>Suits.S03E08.480p.HDTV.x264-mSD</td>\n",
              "      <td>4</td>\n",
              "      <td>[1\\n00:00:01,436 --&gt; 00:00:03,028\\nI get Ava H...</td>\n",
              "    </tr>\n",
              "    <tr>\n",
              "      <th>228</th>\n",
              "      <td>Suits.S03E09.480p.HDTV.x264-mSD</td>\n",
              "      <td>4</td>\n",
              "      <td>[1\\n00:00:00,024 --&gt; 00:00:01,478\\nPreviously ...</td>\n",
              "    </tr>\n",
              "    <tr>\n",
              "      <th>229</th>\n",
              "      <td>Suits.S03E10.HDTV.x264-mSD</td>\n",
              "      <td>4</td>\n",
              "      <td>[1\\n00:00:00,015 --&gt; 00:00:01,196\\nPreviously ...</td>\n",
              "    </tr>\n",
              "  </tbody>\n",
              "</table>\n",
              "<p>230 rows × 3 columns</p>\n",
              "</div>\n",
              "    <div class=\"colab-df-buttons\">\n",
              "\n",
              "  <div class=\"colab-df-container\">\n",
              "    <button class=\"colab-df-convert\" onclick=\"convertToInteractive('df-b4040231-1cd1-4aa0-8a1e-8eb4c43c297c')\"\n",
              "            title=\"Convert this dataframe to an interactive table.\"\n",
              "            style=\"display:none;\">\n",
              "\n",
              "  <svg xmlns=\"http://www.w3.org/2000/svg\" height=\"24px\" viewBox=\"0 -960 960 960\">\n",
              "    <path d=\"M120-120v-720h720v720H120Zm60-500h600v-160H180v160Zm220 220h160v-160H400v160Zm0 220h160v-160H400v160ZM180-400h160v-160H180v160Zm440 0h160v-160H620v160ZM180-180h160v-160H180v160Zm440 0h160v-160H620v160Z\"/>\n",
              "  </svg>\n",
              "    </button>\n",
              "\n",
              "  <style>\n",
              "    .colab-df-container {\n",
              "      display:flex;\n",
              "      gap: 12px;\n",
              "    }\n",
              "\n",
              "    .colab-df-convert {\n",
              "      background-color: #E8F0FE;\n",
              "      border: none;\n",
              "      border-radius: 50%;\n",
              "      cursor: pointer;\n",
              "      display: none;\n",
              "      fill: #1967D2;\n",
              "      height: 32px;\n",
              "      padding: 0 0 0 0;\n",
              "      width: 32px;\n",
              "    }\n",
              "\n",
              "    .colab-df-convert:hover {\n",
              "      background-color: #E2EBFA;\n",
              "      box-shadow: 0px 1px 2px rgba(60, 64, 67, 0.3), 0px 1px 3px 1px rgba(60, 64, 67, 0.15);\n",
              "      fill: #174EA6;\n",
              "    }\n",
              "\n",
              "    .colab-df-buttons div {\n",
              "      margin-bottom: 4px;\n",
              "    }\n",
              "\n",
              "    [theme=dark] .colab-df-convert {\n",
              "      background-color: #3B4455;\n",
              "      fill: #D2E3FC;\n",
              "    }\n",
              "\n",
              "    [theme=dark] .colab-df-convert:hover {\n",
              "      background-color: #434B5C;\n",
              "      box-shadow: 0px 1px 3px 1px rgba(0, 0, 0, 0.15);\n",
              "      filter: drop-shadow(0px 1px 2px rgba(0, 0, 0, 0.3));\n",
              "      fill: #FFFFFF;\n",
              "    }\n",
              "  </style>\n",
              "\n",
              "    <script>\n",
              "      const buttonEl =\n",
              "        document.querySelector('#df-b4040231-1cd1-4aa0-8a1e-8eb4c43c297c button.colab-df-convert');\n",
              "      buttonEl.style.display =\n",
              "        google.colab.kernel.accessAllowed ? 'block' : 'none';\n",
              "\n",
              "      async function convertToInteractive(key) {\n",
              "        const element = document.querySelector('#df-b4040231-1cd1-4aa0-8a1e-8eb4c43c297c');\n",
              "        const dataTable =\n",
              "          await google.colab.kernel.invokeFunction('convertToInteractive',\n",
              "                                                    [key], {});\n",
              "        if (!dataTable) return;\n",
              "\n",
              "        const docLinkHtml = 'Like what you see? Visit the ' +\n",
              "          '<a target=\"_blank\" href=https://colab.research.google.com/notebooks/data_table.ipynb>data table notebook</a>'\n",
              "          + ' to learn more about interactive tables.';\n",
              "        element.innerHTML = '';\n",
              "        dataTable['output_type'] = 'display_data';\n",
              "        await google.colab.output.renderOutput(dataTable, element);\n",
              "        const docLink = document.createElement('div');\n",
              "        docLink.innerHTML = docLinkHtml;\n",
              "        element.appendChild(docLink);\n",
              "      }\n",
              "    </script>\n",
              "  </div>\n",
              "\n",
              "\n",
              "<div id=\"df-864a8ae2-49a0-4ea2-93e4-7cb7ac0cb815\">\n",
              "  <button class=\"colab-df-quickchart\" onclick=\"quickchart('df-864a8ae2-49a0-4ea2-93e4-7cb7ac0cb815')\"\n",
              "            title=\"Suggest charts\"\n",
              "            style=\"display:none;\">\n",
              "\n",
              "<svg xmlns=\"http://www.w3.org/2000/svg\" height=\"24px\"viewBox=\"0 0 24 24\"\n",
              "     width=\"24px\">\n",
              "    <g>\n",
              "        <path d=\"M19 3H5c-1.1 0-2 .9-2 2v14c0 1.1.9 2 2 2h14c1.1 0 2-.9 2-2V5c0-1.1-.9-2-2-2zM9 17H7v-7h2v7zm4 0h-2V7h2v10zm4 0h-2v-4h2v4z\"/>\n",
              "    </g>\n",
              "</svg>\n",
              "  </button>\n",
              "\n",
              "<style>\n",
              "  .colab-df-quickchart {\n",
              "      --bg-color: #E8F0FE;\n",
              "      --fill-color: #1967D2;\n",
              "      --hover-bg-color: #E2EBFA;\n",
              "      --hover-fill-color: #174EA6;\n",
              "      --disabled-fill-color: #AAA;\n",
              "      --disabled-bg-color: #DDD;\n",
              "  }\n",
              "\n",
              "  [theme=dark] .colab-df-quickchart {\n",
              "      --bg-color: #3B4455;\n",
              "      --fill-color: #D2E3FC;\n",
              "      --hover-bg-color: #434B5C;\n",
              "      --hover-fill-color: #FFFFFF;\n",
              "      --disabled-bg-color: #3B4455;\n",
              "      --disabled-fill-color: #666;\n",
              "  }\n",
              "\n",
              "  .colab-df-quickchart {\n",
              "    background-color: var(--bg-color);\n",
              "    border: none;\n",
              "    border-radius: 50%;\n",
              "    cursor: pointer;\n",
              "    display: none;\n",
              "    fill: var(--fill-color);\n",
              "    height: 32px;\n",
              "    padding: 0;\n",
              "    width: 32px;\n",
              "  }\n",
              "\n",
              "  .colab-df-quickchart:hover {\n",
              "    background-color: var(--hover-bg-color);\n",
              "    box-shadow: 0 1px 2px rgba(60, 64, 67, 0.3), 0 1px 3px 1px rgba(60, 64, 67, 0.15);\n",
              "    fill: var(--button-hover-fill-color);\n",
              "  }\n",
              "\n",
              "  .colab-df-quickchart-complete:disabled,\n",
              "  .colab-df-quickchart-complete:disabled:hover {\n",
              "    background-color: var(--disabled-bg-color);\n",
              "    fill: var(--disabled-fill-color);\n",
              "    box-shadow: none;\n",
              "  }\n",
              "\n",
              "  .colab-df-spinner {\n",
              "    border: 2px solid var(--fill-color);\n",
              "    border-color: transparent;\n",
              "    border-bottom-color: var(--fill-color);\n",
              "    animation:\n",
              "      spin 1s steps(1) infinite;\n",
              "  }\n",
              "\n",
              "  @keyframes spin {\n",
              "    0% {\n",
              "      border-color: transparent;\n",
              "      border-bottom-color: var(--fill-color);\n",
              "      border-left-color: var(--fill-color);\n",
              "    }\n",
              "    20% {\n",
              "      border-color: transparent;\n",
              "      border-left-color: var(--fill-color);\n",
              "      border-top-color: var(--fill-color);\n",
              "    }\n",
              "    30% {\n",
              "      border-color: transparent;\n",
              "      border-left-color: var(--fill-color);\n",
              "      border-top-color: var(--fill-color);\n",
              "      border-right-color: var(--fill-color);\n",
              "    }\n",
              "    40% {\n",
              "      border-color: transparent;\n",
              "      border-right-color: var(--fill-color);\n",
              "      border-top-color: var(--fill-color);\n",
              "    }\n",
              "    60% {\n",
              "      border-color: transparent;\n",
              "      border-right-color: var(--fill-color);\n",
              "    }\n",
              "    80% {\n",
              "      border-color: transparent;\n",
              "      border-right-color: var(--fill-color);\n",
              "      border-bottom-color: var(--fill-color);\n",
              "    }\n",
              "    90% {\n",
              "      border-color: transparent;\n",
              "      border-bottom-color: var(--fill-color);\n",
              "    }\n",
              "  }\n",
              "</style>\n",
              "\n",
              "  <script>\n",
              "    async function quickchart(key) {\n",
              "      const quickchartButtonEl =\n",
              "        document.querySelector('#' + key + ' button');\n",
              "      quickchartButtonEl.disabled = true;  // To prevent multiple clicks.\n",
              "      quickchartButtonEl.classList.add('colab-df-spinner');\n",
              "      try {\n",
              "        const charts = await google.colab.kernel.invokeFunction(\n",
              "            'suggestCharts', [key], {});\n",
              "      } catch (error) {\n",
              "        console.error('Error during call to suggestCharts:', error);\n",
              "      }\n",
              "      quickchartButtonEl.classList.remove('colab-df-spinner');\n",
              "      quickchartButtonEl.classList.add('colab-df-quickchart-complete');\n",
              "    }\n",
              "    (() => {\n",
              "      let quickchartButtonEl =\n",
              "        document.querySelector('#df-864a8ae2-49a0-4ea2-93e4-7cb7ac0cb815 button');\n",
              "      quickchartButtonEl.style.display =\n",
              "        google.colab.kernel.accessAllowed ? 'block' : 'none';\n",
              "    })();\n",
              "  </script>\n",
              "</div>\n",
              "    </div>\n",
              "  </div>\n"
            ],
            "application/vnd.google.colaboratory.intrinsic+json": {
              "type": "dataframe",
              "variable_name": "df",
              "summary": "{\n  \"name\": \"df\",\n  \"rows\": 230,\n  \"fields\": [\n    {\n      \"column\": \"Movie\",\n      \"properties\": {\n        \"dtype\": \"string\",\n        \"num_unique_values\": 229,\n        \"samples\": [\n          \"Suits S04E14 EngSub\",\n          \"Pleasantville(1998)\",\n          \"Banking_On_Bitcoin(2016)\"\n        ],\n        \"semantic_type\": \"\",\n        \"description\": \"\"\n      }\n    },\n    {\n      \"column\": \"Level\",\n      \"properties\": {\n        \"dtype\": \"number\",\n        \"std\": 0,\n        \"min\": 1,\n        \"max\": 4,\n        \"num_unique_values\": 4,\n        \"samples\": [\n          3,\n          4,\n          2\n        ],\n        \"semantic_type\": \"\",\n        \"description\": \"\"\n      }\n    },\n    {\n      \"column\": \"subs\",\n      \"properties\": {\n        \"dtype\": \"object\",\n        \"semantic_type\": \"\",\n        \"description\": \"\"\n      }\n    }\n  ]\n}"
            }
          },
          "metadata": {},
          "execution_count": 25
        }
      ],
      "source": [
        "df"
      ]
    },
    {
      "cell_type": "markdown",
      "metadata": {
        "id": "1Jpj9-fA4h1K"
      },
      "source": [
        "###Data imbalances"
      ]
    },
    {
      "cell_type": "code",
      "execution_count": null,
      "metadata": {
        "colab": {
          "base_uri": "https://localhost:8080/"
        },
        "id": "cgkQRkDc3d0w",
        "outputId": "f700adc9-6400-46ba-c526-c6c9a125e804"
      },
      "outputs": [
        {
          "output_type": "execute_result",
          "data": {
            "text/plain": [
              "Level\n",
              "3    105\n",
              "2     55\n",
              "4     39\n",
              "1     31\n",
              "Name: count, dtype: int64"
            ]
          },
          "metadata": {},
          "execution_count": 26
        }
      ],
      "source": [
        "df['Level'].value_counts()"
      ]
    },
    {
      "cell_type": "markdown",
      "source": [
        "##Classification task\n"
      ],
      "metadata": {
        "id": "YCzbbxdhoTBT"
      }
    },
    {
      "cell_type": "markdown",
      "metadata": {
        "id": "F1bs_FYK1NWK"
      },
      "source": [
        "###Subtitle text preprocessing"
      ]
    },
    {
      "cell_type": "code",
      "execution_count": null,
      "metadata": {
        "id": "mCNbZ8QroTLr"
      },
      "outputs": [],
      "source": [
        "# import re\n",
        "def preprocess(text):\n",
        "    tokens = re.sub('#+', ' ', text.lower()).split()\n",
        "    tokens = [token.strip(punctuation) for token in tokens]\n",
        "    tokens = [token for token in tokens if token]\n",
        "    return tokens"
      ]
    },
    {
      "cell_type": "markdown",
      "source": [
        "При рассмотрении текстов после лемматизации были обнаружены лишние токены (например _x000В_), поэтому добавляется дополнительная функция обработки текста с помощью регулярных выражений."
      ],
      "metadata": {
        "id": "N4k5sCg_JaPd"
      }
    },
    {
      "cell_type": "code",
      "execution_count": null,
      "metadata": {
        "id": "v1nhj2Y8IqAd"
      },
      "outputs": [],
      "source": [
        "# set regular expressions for text preprocessing\n",
        "HTML = r'<.*?>' # html tags\n",
        "#TAG = r'{.*?}' # change tags to spaces\n",
        "COMMENTS = r'[\\(\\[][A-Za-z ]+[\\)\\]]' # comments in parentheses\n",
        "LETTERS = r'[^\\w\\s]' # anything that isn't a letter\n",
        "SPACES = r'([ ])\\1+' # repeated spaces\n",
        "DOTS = r'[\\.]+' # punctuation mark ellipsis\n",
        "SYMB = r\"[^\\w\\d'\\s]\" # punctuation marks other than apostrophe\n",
        "def clean_subs(subs):\n",
        "  \"\"\"subtitle text preprocessing\"\"\"\n",
        "  subs = subs[1:] # remove the first promotional subtitle\n",
        "  txt = re.sub(HTML, ' ', subs.text) # html tags change to spaces\n",
        "  # txt = re.sub(COMMENTS, ' ', txt) # comments in parentheses change to spaces\n",
        "  # txt = re.sub(LETTERS, ' ', txt) # anything that isn't a letter is a space\n",
        "  # txt = re.sub(DOTS, r'.', txt) # punctuation mark ellipsis change to dots\n",
        "  # txt = re.sub(SPACES, r'\\1', txt) # repeated spaces change to one space\n",
        "  # txt = re.sub(SYMB, '', txt) # punctuation marks other than apostrophe change to an empty string\n",
        "  # txt = re.sub('www', '', txt) # 'www' change to an empty string\n",
        "  # txt = txt.lstrip().rstrip().replace(\"\\n\",\"\") # left space trimming\n",
        "  # txt = txt.encode('ascii', 'ignore').decode() # remove all non-ascii characters\n",
        "  #txt = txt.lower() # to lowercase\n",
        "  txt = ' '.join(txt.split())\n",
        "  return txt"
      ]
    },
    {
      "cell_type": "code",
      "source": [
        "df"
      ],
      "metadata": {
        "id": "BR-H1udVoboE"
      },
      "execution_count": null,
      "outputs": []
    },
    {
      "cell_type": "code",
      "source": [
        "df['Level'].info()"
      ],
      "metadata": {
        "colab": {
          "base_uri": "https://localhost:8080/"
        },
        "id": "jWXqlnOlaOv0",
        "outputId": "da72c1c2-cf2c-43fc-e77e-d831ae6da6e9"
      },
      "execution_count": null,
      "outputs": [
        {
          "output_type": "stream",
          "name": "stdout",
          "text": [
            "<class 'pandas.core.series.Series'>\n",
            "RangeIndex: 230 entries, 0 to 229\n",
            "Series name: Level\n",
            "Non-Null Count  Dtype\n",
            "--------------  -----\n",
            "230 non-null    int64\n",
            "dtypes: int64(1)\n",
            "memory usage: 1.9 KB\n"
          ]
        }
      ]
    },
    {
      "cell_type": "code",
      "source": [
        "df['clean_text'] = df.subs.apply(clean_subs)"
      ],
      "metadata": {
        "id": "HxcuL7Zyolf3"
      },
      "execution_count": null,
      "outputs": []
    },
    {
      "cell_type": "code",
      "source": [
        "df['norm_text'] = df.clean_text.apply(preprocess)"
      ],
      "metadata": {
        "id": "kqzzFxUKXW_n"
      },
      "execution_count": null,
      "outputs": []
    },
    {
      "cell_type": "code",
      "source": [
        "df"
      ],
      "metadata": {
        "id": "woq2xpGKpzai"
      },
      "execution_count": null,
      "outputs": []
    },
    {
      "cell_type": "markdown",
      "metadata": {
        "id": "a7af3bf3"
      },
      "source": [
        "### Word2Vec for embedding"
      ]
    },
    {
      "cell_type": "markdown",
      "metadata": {
        "id": "9Op6jha8gcxX"
      },
      "source": [
        "Word vectors: will use **Word2Vec** to train word embeddings, using **gensim**,   NLP library that features many vector-based models incuding word2vec."
      ]
    },
    {
      "cell_type": "markdown",
      "source": [
        "The input must be a tokenized text"
      ],
      "metadata": {
        "id": "80djS6a00Pdi"
      }
    },
    {
      "cell_type": "code",
      "source": [
        "all_text = ' '.join(df['clean_text'])"
      ],
      "metadata": {
        "id": "XaDl6h731mxu"
      },
      "execution_count": null,
      "outputs": []
    },
    {
      "cell_type": "code",
      "source": [
        "all_text"
      ],
      "metadata": {
        "id": "1LDk25W8qbB2"
      },
      "execution_count": null,
      "outputs": []
    },
    {
      "cell_type": "code",
      "source": [
        "texts = [preprocess(text) for text in df['clean_text']]"
      ],
      "metadata": {
        "id": "Vfa1-G3J1NpQ"
      },
      "execution_count": null,
      "outputs": []
    },
    {
      "cell_type": "code",
      "source": [
        "texts"
      ],
      "metadata": {
        "id": "t4ep-M-RsQOO"
      },
      "execution_count": null,
      "outputs": []
    },
    {
      "cell_type": "code",
      "source": [
        "gensim.__version__"
      ],
      "metadata": {
        "colab": {
          "base_uri": "https://localhost:8080/",
          "height": 36
        },
        "id": "Z0NhBnwbyP_N",
        "outputId": "a4d841e4-0ab1-4361-ddfd-0e82e74b449b"
      },
      "execution_count": null,
      "outputs": [
        {
          "output_type": "execute_result",
          "data": {
            "text/plain": [
              "'4.3.2'"
            ],
            "application/vnd.google.colaboratory.intrinsic+json": {
              "type": "string"
            }
          },
          "metadata": {},
          "execution_count": 43
        }
      ]
    },
    {
      "cell_type": "markdown",
      "source": [
        "It is necessary to transfer the corpus for training to model; for other parameters there are default values."
      ],
      "metadata": {
        "id": "wMTnjsFD04b6"
      }
    },
    {
      "cell_type": "code",
      "source": [
        "%%time\n",
        "w2v = gensim.models.Word2Vec(texts, )"
      ],
      "metadata": {
        "colab": {
          "base_uri": "https://localhost:8080/"
        },
        "id": "1NXWy068ya2S",
        "outputId": "2f7828b7-269f-4959-d4aa-5f2896f1a5b8"
      },
      "execution_count": null,
      "outputs": [
        {
          "output_type": "stream",
          "name": "stdout",
          "text": [
            "CPU times: user 20.5 s, sys: 134 ms, total: 20.6 s\n",
            "Wall time: 13.4 s\n"
          ]
        }
      ]
    },
    {
      "cell_type": "markdown",
      "source": [
        "To check the model work"
      ],
      "metadata": {
        "id": "V-pmTs8O1nzm"
      }
    },
    {
      "cell_type": "code",
      "source": [
        "w2v.wv.most_similar('future')"
      ],
      "metadata": {
        "colab": {
          "base_uri": "https://localhost:8080/"
        },
        "id": "6J-8RD4bynsY",
        "outputId": "c4e42885-4b30-4ac2-a043-038bd408ecd8"
      },
      "execution_count": null,
      "outputs": [
        {
          "output_type": "execute_result",
          "data": {
            "text/plain": [
              "[('marriage', 0.752711832523346),\n",
              " ('body', 0.7490952610969543),\n",
              " ('career', 0.7403905987739563),\n",
              " ('spark', 0.740052342414856),\n",
              " ('secretary', 0.737733781337738),\n",
              " ('diary', 0.7268183827400208),\n",
              " ('strength', 0.7214212417602539),\n",
              " ('gut', 0.7169687747955322),\n",
              " ('pocket', 0.7049973607063293),\n",
              " ('clan', 0.6966613531112671)]"
            ]
          },
          "metadata": {},
          "execution_count": 45
        }
      ]
    },
    {
      "cell_type": "code",
      "source": [
        "%%time\n",
        "w2v = gensim.models.Word2Vec(texts,\n",
        "                             vector_size=300,\n",
        "                             min_count=30,\n",
        "                             max_vocab_size=10000,\n",
        "                             window=5,\n",
        "                             epochs=7)"
      ],
      "metadata": {
        "colab": {
          "base_uri": "https://localhost:8080/"
        },
        "id": "rtQVsnYAywL5",
        "outputId": "afa227ea-4c88-444b-93a9-02289d4a83c3"
      },
      "execution_count": null,
      "outputs": [
        {
          "output_type": "stream",
          "name": "stdout",
          "text": [
            "CPU times: user 36 s, sys: 299 ms, total: 36.3 s\n",
            "Wall time: 23.2 s\n"
          ]
        }
      ]
    },
    {
      "cell_type": "code",
      "source": [
        "w2v.wv.most_similar('future')"
      ],
      "metadata": {
        "colab": {
          "base_uri": "https://localhost:8080/"
        },
        "outputId": "2f39b9f7-d904-4aef-c785-02d44d863a1d",
        "id": "fQ-1cQe1zFAd"
      },
      "execution_count": null,
      "outputs": [
        {
          "output_type": "execute_result",
          "data": {
            "text/plain": [
              "[('career', 0.5777560472488403),\n",
              " ('marriage', 0.5529298186302185),\n",
              " ('thoughts', 0.5378314256668091),\n",
              " ('beyond', 0.5338180065155029),\n",
              " ('freedom', 0.5316739678382874),\n",
              " ('ability', 0.5224693417549133),\n",
              " ('minds', 0.512201726436615),\n",
              " ('memory', 0.509645938873291),\n",
              " ('family', 0.5082769989967346),\n",
              " ('opinion', 0.5069559812545776)]"
            ]
          },
          "metadata": {},
          "execution_count": 47
        }
      ]
    },
    {
      "cell_type": "markdown",
      "source": [
        "At next step we collect the dictionary"
      ],
      "metadata": {
        "id": "aX49hPeG1ftX"
      }
    },
    {
      "cell_type": "code",
      "source": [
        "vocab = Counter()\n",
        "\n",
        "for text in df['norm_text']:\n",
        "    vocab.update(text)\n",
        "\n",
        "filtered_vocab = set()\n",
        "\n",
        "for word in vocab:\n",
        "    if vocab[word] > 5:\n",
        "        filtered_vocab.add(word)\n",
        "\n",
        "len(filtered_vocab)"
      ],
      "metadata": {
        "colab": {
          "base_uri": "https://localhost:8080/"
        },
        "id": "aKUMrAHYp_HQ",
        "outputId": "40561e3f-7466-4ba4-830b-88141a2a90ca"
      },
      "execution_count": null,
      "outputs": [
        {
          "output_type": "execute_result",
          "data": {
            "text/plain": [
              "10561"
            ]
          },
          "metadata": {},
          "execution_count": 48
        }
      ]
    },
    {
      "cell_type": "code",
      "source": [
        "word2id = { 'PAD':0}\n",
        "\n",
        "for word in filtered_vocab:\n",
        "    word2id[word] = len(word2id)\n",
        "id2word = {i:word for word, i in word2id.items()}"
      ],
      "metadata": {
        "id": "8jdjSJojvn2f"
      },
      "execution_count": null,
      "outputs": []
    },
    {
      "cell_type": "markdown",
      "source": [
        "Next step is to set indexes for tokens"
      ],
      "metadata": {
        "id": "tvoxs0Xu2_6L"
      }
    },
    {
      "cell_type": "code",
      "source": [
        "X = []\n",
        "\n",
        "for tokens in df['norm_text']:\n",
        "    ids = [word2id[token] for token in tokens if token in word2id]\n",
        "    X.append(ids)"
      ],
      "metadata": {
        "id": "y8PdhwHVwEPy"
      },
      "execution_count": null,
      "outputs": []
    },
    {
      "cell_type": "markdown",
      "metadata": {
        "id": "NJy8-kV-1ZDt"
      },
      "source": [
        "###Splitting data into training and test samples"
      ]
    },
    {
      "cell_type": "code",
      "source": [
        "X = tf.keras.preprocessing.sequence.pad_sequences(X, maxlen=100)\n",
        "y = df.Level.values"
      ],
      "metadata": {
        "id": "QZbQgL3xwNLF"
      },
      "execution_count": null,
      "outputs": []
    },
    {
      "cell_type": "code",
      "source": [
        "X_train, X_valid, y_train, y_valid = train_test_split(X, y, test_size=0.05)"
      ],
      "metadata": {
        "id": "SZMt2vE_gDYP"
      },
      "execution_count": null,
      "outputs": []
    },
    {
      "cell_type": "markdown",
      "source": [
        "###TensorFlow model"
      ],
      "metadata": {
        "id": "BuN-cPwvKsj5"
      }
    },
    {
      "cell_type": "code",
      "source": [
        "inputs = tf.keras.layers.Input(shape=(100,))\n",
        "\n",
        "embeddings = tf.keras.layers.Embedding(input_dim=len(word2id), output_dim=100)(inputs, )\n",
        "# embedding layer returns a sequence of vectors\n",
        "# in this task we need to classify all text at once\n",
        "# for this will get mean of single vectors as 1 text vector\n",
        "mean = tf.keras.layers.Lambda(lambda x: tf.keras.backend.mean(x,  axis=1))(embeddings)\n",
        "# mean vector, fully connected layer, return the class probability\n",
        "outputs = tf.keras.layers.Dense(5, activation='softmax')(mean)\n",
        "\n",
        "model = tf.keras.Model(inputs=inputs, outputs=outputs)\n",
        "optimizer = tf.keras.optimizers.Adam()\n",
        "model.compile(optimizer=optimizer,\n",
        "              loss='sparse_categorical_crossentropy',\n",
        "              metrics=['sparse_categorical_accuracy'])"
      ],
      "metadata": {
        "id": "i7vCj3Vx0Hjh"
      },
      "execution_count": null,
      "outputs": []
    },
    {
      "cell_type": "code",
      "source": [
        "model.fit(X_train, y_train,\n",
        "          validation_data=(X_valid, y_valid),\n",
        "          batch_size=32,\n",
        "         epochs=10)"
      ],
      "metadata": {
        "id": "RXFM-FaD0R0P"
      },
      "execution_count": null,
      "outputs": []
    },
    {
      "cell_type": "markdown",
      "source": [
        "In this model, vector representations are training from scratch.  To make it better, we can add pretrained vectors from word2vec to the embedding layer"
      ],
      "metadata": {
        "id": "TGH-G7a-4rFV"
      }
    },
    {
      "cell_type": "code",
      "source": [
        "%%time\n",
        "ft = gensim.models.Word2Vec(texts + df['norm_text'].values.tolist(), window=10, epochs=200) #epochs=1000 same result"
      ],
      "metadata": {
        "colab": {
          "base_uri": "https://localhost:8080/"
        },
        "id": "Ip0zgqeu0IME",
        "outputId": "019415da-13b4-4418-910a-7717a258c2dd"
      },
      "execution_count": null,
      "outputs": [
        {
          "output_type": "stream",
          "name": "stdout",
          "text": [
            "CPU times: user 31min 36s, sys: 10.6 s, total: 31min 46s\n",
            "Wall time: 19min 18s\n"
          ]
        }
      ]
    },
    {
      "cell_type": "markdown",
      "source": [
        "Forming the matrix with vectors. The indices of the rows in this matrix are similar with the indices of the words in the dictionary."
      ],
      "metadata": {
        "id": "rTQdVgkk6Zd7"
      }
    },
    {
      "cell_type": "code",
      "source": [
        "weights = np.zeros((len(word2id), 100))\n",
        "\n",
        "for word, i in word2id.items():\n",
        "    # padding vector as zero\n",
        "    if word == 'PAD':\n",
        "        continue\n",
        "\n",
        "    try:\n",
        "        weights[i] = ft.wv[word]\n",
        "\n",
        "\n",
        "    except KeyError:\n",
        "        # for words that are not in the models, set some random vector\n",
        "        continue\n",
        "        weights[i] = ft.wv['rwwatandomhm']"
      ],
      "metadata": {
        "id": "0OwNZMHA0Ijw"
      },
      "execution_count": null,
      "outputs": []
    },
    {
      "cell_type": "code",
      "source": [
        "inputs = tf.keras.layers.Input(shape=(100,))\n",
        "\n",
        "# enter matrix to the embedding layer\n",
        "# set trainable=False, so that vectors don’t learn\n",
        "# Note: if this is not done, embedding will learn again\n",
        "\n",
        "embeddings = tf.keras.layers.Embedding(input_dim=len(word2id), output_dim=100,\n",
        "                                       trainable=False,\n",
        "                                       weights=[weights])(inputs, )\n",
        "mean = tf.keras.layers.Lambda(lambda x: tf.keras.backend.mean(x,  axis=1))(embeddings)\n",
        "\n",
        "outputs = tf.keras.layers.Dense(5, activation='softmax')(mean)\n",
        "\n",
        "model = tf.keras.Model(inputs=inputs, outputs=outputs)\n",
        "optimizer = tf.keras.optimizers.Adam()\n",
        "model.compile(optimizer=optimizer,\n",
        "              loss='SparseCategoricalCrossentropy',\n",
        "              metrics=['sparse_categorical_accuracy'])"
      ],
      "metadata": {
        "id": "Wm1CiMxV2C0A"
      },
      "execution_count": null,
      "outputs": []
    },
    {
      "cell_type": "code",
      "source": [
        "model.fit(X_train, y_train,\n",
        "          validation_data=(X_valid, y_valid),\n",
        "          batch_size=32,\n",
        "         epochs=30)"
      ],
      "metadata": {
        "id": "NqsHnWG12MO0"
      },
      "execution_count": null,
      "outputs": []
    },
    {
      "cell_type": "code",
      "source": [
        "print(model.history.history.keys())\n",
        "# summarize history for accuracy\n",
        "plt.plot(model.history.history['sparse_categorical_accuracy'])\n",
        "plt.plot(model.history.history['val_sparse_categorical_accuracy'])\n",
        "plt.title('model accuracy')\n",
        "plt.ylabel('accuracy')\n",
        "plt.xlabel('epoch')\n",
        "plt.legend(['train', 'val'], loc='upper left')\n",
        "plt.show()"
      ],
      "metadata": {
        "colab": {
          "base_uri": "https://localhost:8080/",
          "height": 490
        },
        "id": "QLR7Fwhv2dPg",
        "outputId": "2c1941b3-4fc3-4aa6-d32e-d9a0379c1102"
      },
      "execution_count": null,
      "outputs": [
        {
          "output_type": "stream",
          "name": "stdout",
          "text": [
            "dict_keys(['loss', 'sparse_categorical_accuracy', 'val_loss', 'val_sparse_categorical_accuracy'])\n"
          ]
        },
        {
          "output_type": "display_data",
          "data": {
            "text/plain": [
              "<Figure size 640x480 with 1 Axes>"
            ],
            "image/png": "[encoded data removed]"
          },
          "metadata": {}
        }
      ]
    },
    {
      "cell_type": "markdown",
      "source": [
        "The resulting metric sparse_categorical_accuracy = 0,75 is not bad for a small experimental dataset (230 items)"
      ],
      "metadata": {
        "id": "8AxjjDC07tvY"
      }
    },
    {
      "cell_type": "markdown",
      "metadata": {
        "id": "XZvMmfJh64JI"
      },
      "source": [
        "#Summary results\n",
        "\n",
        "#### Conclusions\n",
        "- The project is completed.\n",
        "- Data was loaded and unpacked.\n",
        "- Text data was preprocessed by .re (Regular expression operations).\n",
        "- Word2Vec embeddings were trained using gensim library.\n",
        "- A solution with TensorFlow has been implemented  ( using pretrained Word2Vec embeddings and also without them).\n",
        "- The sparse_categorical_accuracy metric on validation was 0,75.\n",
        "- To build a model with better metrics and practical application, a larger dataset is desirable.  \n",
        "\n"
      ]
    },
    {
      "cell_type": "code",
      "execution_count": null,
      "metadata": {
        "id": "FVNozPvmUvkq"
      },
      "outputs": [],
      "source": []
    }
  ],
  "metadata": {
    "colab": {
      "provenance": [],
      "include_colab_link": true
    },
    "kernelspec": {
      "display_name": "Python 3",
      "name": "python3"
    },
    "language_info": {
      "name": "python"
    }
  },
  "nbformat": 4,
  "nbformat_minor": 0
}