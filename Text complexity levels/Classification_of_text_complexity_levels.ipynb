{
  "nbformat": 4,
  "nbformat_minor": 0,
  "metadata": {
    "colab": {
      "provenance": [],
      "toc_visible": true,
      "include_colab_link": true
    },
    "kernelspec": {
      "name": "python3",
      "display_name": "Python 3"
    },
    "language_info": {
      "name": "python"
    }
  },
  "cells": [
    {
      "cell_type": "markdown",
      "metadata": {
        "id": "view-in-github",
        "colab_type": "text"
      },
      "source": [
        "<a href=\"https://colab.research.google.com/github/MariaPetrovskaya/Natural-Language-Processing/blob/main/Text%20complexity%20levels/Classification_of_text_complexity_levels.ipynb\" target=\"_parent\"><img src=\"https://colab.research.google.com/assets/colab-badge.svg\" alt=\"Open In Colab\"/></a>"
      ]
    },
    {
      "cell_type": "markdown",
      "source": [
        "#About project"
      ],
      "metadata": {
        "id": "MbfbpePQ9Ma-"
      }
    },
    {
      "cell_type": "markdown",
      "source": [
        "###Introduction\n",
        "\n",
        "*   Watching films in the original language is a popular and effective method  for training languages skills.\n",
        "*   It is important to choose a film that suits actual level of difficulty, (possible to understood 50-70% of the dialogues).\n",
        "*   To fulfill this condition, the expert must watch the new film and decide what level it corresponds to. However, this requires a lot of time.\n",
        "\n",
        "\n",
        "###Business task\n",
        "\n",
        "*   Customer of this product: the foreign language courses.\n",
        "*   Develop an ML solution (multi-class classification) for prediction of difficulty levels for English-language films.\n",
        "\n",
        "\n",
        "\n",
        "\n",
        "\n",
        "\n",
        "\n"
      ],
      "metadata": {
        "id": "CpvC4BxW9eUw"
      }
    },
    {
      "cell_type": "markdown",
      "source": [
        "###Initial data\n",
        "\n",
        "*   Subtitles of films saved in directories with names as level of difficulty according to the CEFR ([Common European Framework of Reference]('https://ru.wikipedia.org/wiki/%D0%9E%D0%B1%D1%89%D0%B5%D0%B5%D0%B2%D1%80%D0%BE%D0%BF%D0%B5%D0%B9%D1%81%D0%BA%D0%B8%D0%B5_%D0%BA%D0%BE%D0%BC%D0%BF%D0%B5%D1%82%D0%B5%D0%BD%D1%86%D0%B8%D0%B8_%D0%B2%D0%BB%D0%B0%D0%B4%D0%B5%D0%BD%D0%B8%D1%8F_%D0%B8%D0%BD%D0%BE%D1%81%D1%82%D1%80%D0%B0%D0%BD%D0%BD%D1%8B%D0%BC_%D1%8F%D0%B7%D1%8B%D0%BA%D0%BE%D0%BC' 'wikipedia'))\n",
        "*   Movie subtitles in XLSX files containing the name of the movies and the degree of difficulty according to the CEFR scale\n",
        "*   List of words, according to Oxford level of difficulty\n",
        "\n"
      ],
      "metadata": {
        "id": "dZ0Hs08o9eqj"
      }
    },
    {
      "cell_type": "code",
      "execution_count": null,
      "metadata": {
        "id": "MtS057fXx4x6"
      },
      "outputs": [],
      "source": [
        "%%capture\n",
        "# need to install in colab\n",
        "!pip install pysrt\n",
        "!pip install spacy\n",
        "!pip install tabula-py\n",
        "!pip install catboost # open source library for gradient boosting on decision trees"
      ]
    },
    {
      "cell_type": "code",
      "source": [
        "# imports\n",
        "import os\n",
        "import re\n",
        "\n",
        "import numpy as np\n",
        "import pandas as pd\n",
        "import matplotlib.pyplot as plt\n",
        "from sklearn.model_selection import (train_test_split,\n",
        "                                     StratifiedShuffleSplit,\n",
        "                                     GridSearchCV\n",
        "                                     )\n",
        "from sklearn.pipeline import (Pipeline,\n",
        "                              FeatureUnion\n",
        "                              )\n",
        "\n",
        "from sklearn.metrics import (classification_report,\n",
        "                             f1_score,\n",
        "                             confusion_matrix,\n",
        "                             ConfusionMatrixDisplay\n",
        "                             )\n",
        "from sklearn.compose import ColumnTransformer\n",
        "from sklearn.preprocessing import MinMaxScaler\n",
        "from sklearn.naive_bayes import MultinomialNB\n",
        "from sklearn.linear_model import SGDClassifier\n",
        "from sklearn.feature_extraction.text import (TfidfVectorizer,\n",
        "                                             CountVectorizer\n",
        "                                             )\n",
        "from sklearn.base import (BaseEstimator,\n",
        "                          TransformerMixin\n",
        "                          )\n",
        "import pickle\n",
        "import pysrt\n",
        "import spacy\n",
        "import nltk\n",
        "from nltk.corpus import stopwords\n",
        "\n",
        "import requests\n",
        "import urllib\n",
        "import json\n",
        "import zipfile\n",
        "from zipfile import ZipFile\n",
        "import tabula\n",
        "from tabula import read_pdf\n",
        "from catboost import Pool, CatBoostClassifier"
      ],
      "metadata": {
        "id": "w82swcw6x8ga"
      },
      "execution_count": null,
      "outputs": []
    },
    {
      "cell_type": "code",
      "source": [
        "class NumberSelector(BaseEstimator, TransformerMixin):\n",
        "    \"\"\"\n",
        "    Transformer for selecting column for\n",
        "    additional transformations,\n",
        "    for numeric columns\n",
        "    \"\"\"\n",
        "    def __init__(self, key):\n",
        "        self.key = key\n",
        "\n",
        "    def fit(self, X, y=None):\n",
        "        return self\n",
        "\n",
        "    def transform(self, X):\n",
        "        return X[[self.key]]\n",
        "\n",
        "class TextSelector(BaseEstimator, TransformerMixin):\n",
        "    \"\"\"\n",
        "    Transformer for selecting column for\n",
        "    additional transformations,\n",
        "    for text columns\n",
        "    \"\"\"\n",
        "    def __init__(self, key):\n",
        "        self.key = key\n",
        "\n",
        "    def fit(self, X, y=None):\n",
        "        return self\n",
        "\n",
        "    def transform(self, X):\n",
        "        return X[self.key]\n",
        "\n",
        "\n"
      ],
      "metadata": {
        "id": "37Ob2h78IN9_"
      },
      "execution_count": null,
      "outputs": []
    },
    {
      "cell_type": "markdown",
      "source": [
        "# Data Loading and Preprocessing\n",
        "\n"
      ],
      "metadata": {
        "id": "AiHI0EbwIGz6"
      }
    },
    {
      "cell_type": "markdown",
      "source": [
        "###Loadind data with movies"
      ],
      "metadata": {
        "id": "Ekgb6imsL3UA"
      }
    },
    {
      "cell_type": "code",
      "source": [
        "#import from с Google Disk to Colab\n",
        "from google.colab import drive\n",
        "drive.mount('/content/drive')"
      ],
      "metadata": {
        "colab": {
          "base_uri": "https://localhost:8080/"
        },
        "id": "zkbXe0uwywjz",
        "outputId": "79935051-8fb9-403f-a337-712ed272b735"
      },
      "execution_count": null,
      "outputs": [
        {
          "output_type": "stream",
          "name": "stdout",
          "text": [
            "Mounted at /content/drive\n"
          ]
        }
      ]
    },
    {
      "cell_type": "code",
      "source": [
        "PATH = '/content/drive/MyDrive/datasets'\n",
        "path_to_zip_file = f'{PATH}/English_scores.zip'\n",
        "path_to_zip_file"
      ],
      "metadata": {
        "colab": {
          "base_uri": "https://localhost:8080/",
          "height": 35
        },
        "id": "0OzYY61-zPnX",
        "outputId": "97032c85-527c-4a57-a1c4-6775c719597d"
      },
      "execution_count": null,
      "outputs": [
        {
          "output_type": "execute_result",
          "data": {
            "text/plain": [
              "'/content/drive/MyDrive/datasets/English_scores.zip'"
            ],
            "application/vnd.google.colaboratory.intrinsic+json": {
              "type": "string"
            }
          },
          "metadata": {},
          "execution_count": 5
        }
      ]
    },
    {
      "cell_type": "code",
      "source": [
        "with ZipFile(path_to_zip_file, 'r') as zObject:\n",
        "  znm = zObject.namelist()"
      ],
      "metadata": {
        "id": "e-lGYMV7zmxk"
      },
      "execution_count": null,
      "outputs": []
    },
    {
      "cell_type": "code",
      "source": [
        "with ZipFile(path_to_zip_file, 'r') as zObject:\n",
        "  movies_labels = zObject.extract('movies_labels.xlsx')"
      ],
      "metadata": {
        "id": "kW15nSoUzfoZ"
      },
      "execution_count": null,
      "outputs": []
    },
    {
      "cell_type": "code",
      "source": [
        "#loading dataset with movies levels\n",
        "df = pd.read_excel(movies_labels, index_col='id')\n",
        "df.info"
      ],
      "metadata": {
        "id": "ixrEVKaeICdT",
        "colab": {
          "base_uri": "https://localhost:8080/"
        },
        "outputId": "c088f396-1f61-4dcf-96dd-c8eab52a173a"
      },
      "execution_count": null,
      "outputs": [
        {
          "output_type": "execute_result",
          "data": {
            "text/plain": [
              "<bound method DataFrame.info of                                 Movie   Level\n",
              "id                                           \n",
              "0           10_Cloverfield_lane(2016)      B1\n",
              "1    10_things_I_hate_about_you(1999)      B1\n",
              "2                A_knights_tale(2001)      B2\n",
              "3                A_star_is_born(2018)      B2\n",
              "4                       Aladdin(1992)  A2/A2+\n",
              "..                                ...     ...\n",
              "236                     Matilda(2022)      C1\n",
              "237                      Bullet train      B1\n",
              "238            Thor: love and thunder      B2\n",
              "239                         Lightyear      B2\n",
              "240                        The Grinch      B1\n",
              "\n",
              "[241 rows x 2 columns]>"
            ]
          },
          "metadata": {},
          "execution_count": 8
        }
      ]
    },
    {
      "cell_type": "code",
      "source": [
        "# looking list of levels\n",
        "df['Level'].unique()"
      ],
      "metadata": {
        "id": "KKLdf10GyLSx",
        "colab": {
          "base_uri": "https://localhost:8080/"
        },
        "outputId": "c26227d0-13e6-49c0-9aca-1b168337adc1"
      },
      "execution_count": null,
      "outputs": [
        {
          "output_type": "execute_result",
          "data": {
            "text/plain": [
              "array(['B1', 'B2', 'A2/A2+', 'C1', 'B1, B2', 'A2/A2+, B1', 'A2'],\n",
              "      dtype=object)"
            ]
          },
          "metadata": {},
          "execution_count": 9
        }
      ]
    },
    {
      "cell_type": "code",
      "source": [
        "# assign a numeric values to the levels\n",
        "label_dict = {'A2': 1,\n",
        "              'A2/A2+': 1,\n",
        "              'B1': 2,\n",
        "              'A2/A2+, B1': 2,\n",
        "              'B2': 3,\n",
        "              'B1, B2': 3,\n",
        "              'C1': 4}\n",
        "# change levels to numeric values\n",
        "df['Level'] = df['Level'].replace(label_dict)"
      ],
      "metadata": {
        "id": "OcBS-bUdId7H"
      },
      "execution_count": null,
      "outputs": []
    },
    {
      "cell_type": "code",
      "source": [
        "# drop duplicates\n",
        "df = df.drop_duplicates()\n",
        "df.shape"
      ],
      "metadata": {
        "id": "XCL8yqqrIguv",
        "colab": {
          "base_uri": "https://localhost:8080/"
        },
        "outputId": "33a82213-ea8a-4dee-a873-d423eb153a5e"
      },
      "execution_count": null,
      "outputs": [
        {
          "output_type": "execute_result",
          "data": {
            "text/plain": [
              "(238, 2)"
            ]
          },
          "metadata": {},
          "execution_count": 11
        }
      ]
    },
    {
      "cell_type": "markdown",
      "source": [
        "###Loading subtitles"
      ],
      "metadata": {
        "id": "2dZzlkUDL-qo"
      }
    },
    {
      "cell_type": "code",
      "source": [
        "films_name = {}\n",
        "for srt in znm:\n",
        "  if srt.find('.srt') != -1 and srt.find('__MACOSX') == -1:\n",
        "    films_name[srt.split('/')[-1]] = srt\n",
        "print(len(films_name))"
      ],
      "metadata": {
        "id": "utNQY7MNIjVn",
        "colab": {
          "base_uri": "https://localhost:8080/"
        },
        "outputId": "ac851c56-ad7c-4d26-8b85-dbc35b1e401f"
      },
      "execution_count": null,
      "outputs": [
        {
          "output_type": "stream",
          "name": "stdout",
          "text": [
            "278\n"
          ]
        }
      ]
    },
    {
      "cell_type": "code",
      "source": [
        "# checking number of films from table with subtitles\n",
        "films_filtr = set(films_name.keys()) & set(df['Movie'] + '.srt')\n",
        "len(films_filtr)"
      ],
      "metadata": {
        "id": "9pisUGAmMB3w",
        "colab": {
          "base_uri": "https://localhost:8080/"
        },
        "outputId": "67f5f1d0-59b1-479b-c3d2-7a0ff19432bc"
      },
      "execution_count": null,
      "outputs": [
        {
          "output_type": "execute_result",
          "data": {
            "text/plain": [
              "229"
            ]
          },
          "metadata": {},
          "execution_count": 13
        }
      ]
    },
    {
      "cell_type": "code",
      "source": [
        "def load_subs(film):\n",
        "  \"\"\"loading subtitles function\"\"\"\n",
        "  fsrt = f'{film}.srt'\n",
        "  if fsrt not in set(films_name.keys()):\n",
        "    return None\n",
        "  with ZipFile(path_to_zip_file, 'r') as zObject:\n",
        "    f = zObject.extract(films_name[fsrt])\n",
        "    try:\n",
        "      subs = pysrt.open(f)\n",
        "    except:\n",
        "      subs = pysrt.open(f,encoding='iso-8859-1')\n",
        "  return subs"
      ],
      "metadata": {
        "id": "r_uC_be_MebK"
      },
      "execution_count": null,
      "outputs": []
    },
    {
      "cell_type": "code",
      "source": [
        "%%time\n",
        "#loading subtitles\n",
        "df['subs'] = df['Movie'].apply(load_subs)"
      ],
      "metadata": {
        "id": "itG8oMQlMFog",
        "colab": {
          "base_uri": "https://localhost:8080/"
        },
        "outputId": "761a7611-7823-4bd3-b1d0-7028c5bca353"
      },
      "execution_count": null,
      "outputs": [
        {
          "output_type": "stream",
          "name": "stdout",
          "text": [
            "CPU times: user 11 s, sys: 342 ms, total: 11.4 s\n",
            "Wall time: 15.5 s\n"
          ]
        },
        {
          "output_type": "stream",
          "name": "stderr",
          "text": [
            "<timed exec>:2: SettingWithCopyWarning: \n",
            "A value is trying to be set on a copy of a slice from a DataFrame.\n",
            "Try using .loc[row_indexer,col_indexer] = value instead\n",
            "\n",
            "See the caveats in the documentation: https://pandas.pydata.org/pandas-docs/stable/user_guide/indexing.html#returning-a-view-versus-a-copy\n"
          ]
        }
      ]
    },
    {
      "cell_type": "code",
      "source": [
        "df['subs']"
      ],
      "metadata": {
        "id": "EshUSy2yMUDn",
        "colab": {
          "base_uri": "https://localhost:8080/"
        },
        "outputId": "078b628c-8af9-4122-d753-e6e228c317e8"
      },
      "execution_count": null,
      "outputs": [
        {
          "output_type": "execute_result",
          "data": {
            "text/plain": [
              "id\n",
              "0      [1\\n00:00:55,279 --> 00:01:07,279\\n<font color...\n",
              "1      [1\\n00:01:54,281 --> 00:01:55,698\\nHey!\\n, 2\\n...\n",
              "2      [1\\n00:00:15,089 --> 00:00:21,229\\nResync: Xen...\n",
              "3      [1\\n00:00:17,610 --> 00:00:22,610\\n- <i><font ...\n",
              "4      [1\\n00:00:27,240 --> 00:00:30,879\\n<i>Oh, I co...\n",
              "                             ...                        \n",
              "236                                                 None\n",
              "237                                                 None\n",
              "238                                                 None\n",
              "239                                                 None\n",
              "240                                                 None\n",
              "Name: subs, Length: 238, dtype: object"
            ]
          },
          "metadata": {},
          "execution_count": 16
        }
      ]
    },
    {
      "cell_type": "code",
      "source": [
        "#dropping gaps\n",
        "df = df.dropna().reset_index(drop=True)"
      ],
      "metadata": {
        "id": "R7URjKeJNDoN"
      },
      "execution_count": null,
      "outputs": []
    },
    {
      "cell_type": "code",
      "source": [
        "df"
      ],
      "metadata": {
        "id": "eN9D-Ek2HoCu",
        "colab": {
          "base_uri": "https://localhost:8080/",
          "height": 423
        },
        "outputId": "ef67fc02-96a8-4c3b-cbe1-e6d695924084"
      },
      "execution_count": null,
      "outputs": [
        {
          "output_type": "execute_result",
          "data": {
            "text/plain": [
              "                                Movie  Level  \\\n",
              "0           10_Cloverfield_lane(2016)      2   \n",
              "1    10_things_I_hate_about_you(1999)      2   \n",
              "2                A_knights_tale(2001)      3   \n",
              "3                A_star_is_born(2018)      3   \n",
              "4                       Aladdin(1992)      1   \n",
              "..                                ...    ...   \n",
              "225   Suits.S03E06.720p.HDTV.x264-mSD      4   \n",
              "226        Suits.S03E07.HDTV.x264-mSD      4   \n",
              "227   Suits.S03E08.480p.HDTV.x264-mSD      4   \n",
              "228   Suits.S03E09.480p.HDTV.x264-mSD      4   \n",
              "229        Suits.S03E10.HDTV.x264-mSD      4   \n",
              "\n",
              "                                                  subs  \n",
              "0    [1\\n00:00:55,279 --> 00:01:07,279\\n<font color...  \n",
              "1    [1\\n00:01:54,281 --> 00:01:55,698\\nHey!\\n, 2\\n...  \n",
              "2    [1\\n00:00:15,089 --> 00:00:21,229\\nResync: Xen...  \n",
              "3    [1\\n00:00:17,610 --> 00:00:22,610\\n- <i><font ...  \n",
              "4    [1\\n00:00:27,240 --> 00:00:30,879\\n<i>Oh, I co...  \n",
              "..                                                 ...  \n",
              "225  [1\\n00:00:01,383 --> 00:00:02,751\\nI lost Ava ...  \n",
              "226  [1\\n00:00:00,052 --> 00:00:01,352\\nPreviously ...  \n",
              "227  [1\\n00:00:01,436 --> 00:00:03,028\\nI get Ava H...  \n",
              "228  [1\\n00:00:00,024 --> 00:00:01,478\\nPreviously ...  \n",
              "229  [1\\n00:00:00,015 --> 00:00:01,196\\nPreviously ...  \n",
              "\n",
              "[230 rows x 3 columns]"
            ],
            "text/html": [
              "\n",
              "  <div id=\"df-0ceb369b-75d6-45e2-abf6-00023268238b\" class=\"colab-df-container\">\n",
              "    <div>\n",
              "<style scoped>\n",
              "    .dataframe tbody tr th:only-of-type {\n",
              "        vertical-align: middle;\n",
              "    }\n",
              "\n",
              "    .dataframe tbody tr th {\n",
              "        vertical-align: top;\n",
              "    }\n",
              "\n",
              "    .dataframe thead th {\n",
              "        text-align: right;\n",
              "    }\n",
              "</style>\n",
              "<table border=\"1\" class=\"dataframe\">\n",
              "  <thead>\n",
              "    <tr style=\"text-align: right;\">\n",
              "      <th></th>\n",
              "      <th>Movie</th>\n",
              "      <th>Level</th>\n",
              "      <th>subs</th>\n",
              "    </tr>\n",
              "  </thead>\n",
              "  <tbody>\n",
              "    <tr>\n",
              "      <th>0</th>\n",
              "      <td>10_Cloverfield_lane(2016)</td>\n",
              "      <td>2</td>\n",
              "      <td>[1\\n00:00:55,279 --&gt; 00:01:07,279\\n&lt;font color...</td>\n",
              "    </tr>\n",
              "    <tr>\n",
              "      <th>1</th>\n",
              "      <td>10_things_I_hate_about_you(1999)</td>\n",
              "      <td>2</td>\n",
              "      <td>[1\\n00:01:54,281 --&gt; 00:01:55,698\\nHey!\\n, 2\\n...</td>\n",
              "    </tr>\n",
              "    <tr>\n",
              "      <th>2</th>\n",
              "      <td>A_knights_tale(2001)</td>\n",
              "      <td>3</td>\n",
              "      <td>[1\\n00:00:15,089 --&gt; 00:00:21,229\\nResync: Xen...</td>\n",
              "    </tr>\n",
              "    <tr>\n",
              "      <th>3</th>\n",
              "      <td>A_star_is_born(2018)</td>\n",
              "      <td>3</td>\n",
              "      <td>[1\\n00:00:17,610 --&gt; 00:00:22,610\\n- &lt;i&gt;&lt;font ...</td>\n",
              "    </tr>\n",
              "    <tr>\n",
              "      <th>4</th>\n",
              "      <td>Aladdin(1992)</td>\n",
              "      <td>1</td>\n",
              "      <td>[1\\n00:00:27,240 --&gt; 00:00:30,879\\n&lt;i&gt;Oh, I co...</td>\n",
              "    </tr>\n",
              "    <tr>\n",
              "      <th>...</th>\n",
              "      <td>...</td>\n",
              "      <td>...</td>\n",
              "      <td>...</td>\n",
              "    </tr>\n",
              "    <tr>\n",
              "      <th>225</th>\n",
              "      <td>Suits.S03E06.720p.HDTV.x264-mSD</td>\n",
              "      <td>4</td>\n",
              "      <td>[1\\n00:00:01,383 --&gt; 00:00:02,751\\nI lost Ava ...</td>\n",
              "    </tr>\n",
              "    <tr>\n",
              "      <th>226</th>\n",
              "      <td>Suits.S03E07.HDTV.x264-mSD</td>\n",
              "      <td>4</td>\n",
              "      <td>[1\\n00:00:00,052 --&gt; 00:00:01,352\\nPreviously ...</td>\n",
              "    </tr>\n",
              "    <tr>\n",
              "      <th>227</th>\n",
              "      <td>Suits.S03E08.480p.HDTV.x264-mSD</td>\n",
              "      <td>4</td>\n",
              "      <td>[1\\n00:00:01,436 --&gt; 00:00:03,028\\nI get Ava H...</td>\n",
              "    </tr>\n",
              "    <tr>\n",
              "      <th>228</th>\n",
              "      <td>Suits.S03E09.480p.HDTV.x264-mSD</td>\n",
              "      <td>4</td>\n",
              "      <td>[1\\n00:00:00,024 --&gt; 00:00:01,478\\nPreviously ...</td>\n",
              "    </tr>\n",
              "    <tr>\n",
              "      <th>229</th>\n",
              "      <td>Suits.S03E10.HDTV.x264-mSD</td>\n",
              "      <td>4</td>\n",
              "      <td>[1\\n00:00:00,015 --&gt; 00:00:01,196\\nPreviously ...</td>\n",
              "    </tr>\n",
              "  </tbody>\n",
              "</table>\n",
              "<p>230 rows × 3 columns</p>\n",
              "</div>\n",
              "    <div class=\"colab-df-buttons\">\n",
              "\n",
              "  <div class=\"colab-df-container\">\n",
              "    <button class=\"colab-df-convert\" onclick=\"convertToInteractive('df-0ceb369b-75d6-45e2-abf6-00023268238b')\"\n",
              "            title=\"Convert this dataframe to an interactive table.\"\n",
              "            style=\"display:none;\">\n",
              "\n",
              "  <svg xmlns=\"http://www.w3.org/2000/svg\" height=\"24px\" viewBox=\"0 -960 960 960\">\n",
              "    <path d=\"M120-120v-720h720v720H120Zm60-500h600v-160H180v160Zm220 220h160v-160H400v160Zm0 220h160v-160H400v160ZM180-400h160v-160H180v160Zm440 0h160v-160H620v160ZM180-180h160v-160H180v160Zm440 0h160v-160H620v160Z\"/>\n",
              "  </svg>\n",
              "    </button>\n",
              "\n",
              "  <style>\n",
              "    .colab-df-container {\n",
              "      display:flex;\n",
              "      gap: 12px;\n",
              "    }\n",
              "\n",
              "    .colab-df-convert {\n",
              "      background-color: #E8F0FE;\n",
              "      border: none;\n",
              "      border-radius: 50%;\n",
              "      cursor: pointer;\n",
              "      display: none;\n",
              "      fill: #1967D2;\n",
              "      height: 32px;\n",
              "      padding: 0 0 0 0;\n",
              "      width: 32px;\n",
              "    }\n",
              "\n",
              "    .colab-df-convert:hover {\n",
              "      background-color: #E2EBFA;\n",
              "      box-shadow: 0px 1px 2px rgba(60, 64, 67, 0.3), 0px 1px 3px 1px rgba(60, 64, 67, 0.15);\n",
              "      fill: #174EA6;\n",
              "    }\n",
              "\n",
              "    .colab-df-buttons div {\n",
              "      margin-bottom: 4px;\n",
              "    }\n",
              "\n",
              "    [theme=dark] .colab-df-convert {\n",
              "      background-color: #3B4455;\n",
              "      fill: #D2E3FC;\n",
              "    }\n",
              "\n",
              "    [theme=dark] .colab-df-convert:hover {\n",
              "      background-color: #434B5C;\n",
              "      box-shadow: 0px 1px 3px 1px rgba(0, 0, 0, 0.15);\n",
              "      filter: drop-shadow(0px 1px 2px rgba(0, 0, 0, 0.3));\n",
              "      fill: #FFFFFF;\n",
              "    }\n",
              "  </style>\n",
              "\n",
              "    <script>\n",
              "      const buttonEl =\n",
              "        document.querySelector('#df-0ceb369b-75d6-45e2-abf6-00023268238b button.colab-df-convert');\n",
              "      buttonEl.style.display =\n",
              "        google.colab.kernel.accessAllowed ? 'block' : 'none';\n",
              "\n",
              "      async function convertToInteractive(key) {\n",
              "        const element = document.querySelector('#df-0ceb369b-75d6-45e2-abf6-00023268238b');\n",
              "        const dataTable =\n",
              "          await google.colab.kernel.invokeFunction('convertToInteractive',\n",
              "                                                    [key], {});\n",
              "        if (!dataTable) return;\n",
              "\n",
              "        const docLinkHtml = 'Like what you see? Visit the ' +\n",
              "          '<a target=\"_blank\" href=https://colab.research.google.com/notebooks/data_table.ipynb>data table notebook</a>'\n",
              "          + ' to learn more about interactive tables.';\n",
              "        element.innerHTML = '';\n",
              "        dataTable['output_type'] = 'display_data';\n",
              "        await google.colab.output.renderOutput(dataTable, element);\n",
              "        const docLink = document.createElement('div');\n",
              "        docLink.innerHTML = docLinkHtml;\n",
              "        element.appendChild(docLink);\n",
              "      }\n",
              "    </script>\n",
              "  </div>\n",
              "\n",
              "\n",
              "<div id=\"df-354daa3e-98c8-4d3b-a00f-a753934c872a\">\n",
              "  <button class=\"colab-df-quickchart\" onclick=\"quickchart('df-354daa3e-98c8-4d3b-a00f-a753934c872a')\"\n",
              "            title=\"Suggest charts\"\n",
              "            style=\"display:none;\">\n",
              "\n",
              "<svg xmlns=\"http://www.w3.org/2000/svg\" height=\"24px\"viewBox=\"0 0 24 24\"\n",
              "     width=\"24px\">\n",
              "    <g>\n",
              "        <path d=\"M19 3H5c-1.1 0-2 .9-2 2v14c0 1.1.9 2 2 2h14c1.1 0 2-.9 2-2V5c0-1.1-.9-2-2-2zM9 17H7v-7h2v7zm4 0h-2V7h2v10zm4 0h-2v-4h2v4z\"/>\n",
              "    </g>\n",
              "</svg>\n",
              "  </button>\n",
              "\n",
              "<style>\n",
              "  .colab-df-quickchart {\n",
              "      --bg-color: #E8F0FE;\n",
              "      --fill-color: #1967D2;\n",
              "      --hover-bg-color: #E2EBFA;\n",
              "      --hover-fill-color: #174EA6;\n",
              "      --disabled-fill-color: #AAA;\n",
              "      --disabled-bg-color: #DDD;\n",
              "  }\n",
              "\n",
              "  [theme=dark] .colab-df-quickchart {\n",
              "      --bg-color: #3B4455;\n",
              "      --fill-color: #D2E3FC;\n",
              "      --hover-bg-color: #434B5C;\n",
              "      --hover-fill-color: #FFFFFF;\n",
              "      --disabled-bg-color: #3B4455;\n",
              "      --disabled-fill-color: #666;\n",
              "  }\n",
              "\n",
              "  .colab-df-quickchart {\n",
              "    background-color: var(--bg-color);\n",
              "    border: none;\n",
              "    border-radius: 50%;\n",
              "    cursor: pointer;\n",
              "    display: none;\n",
              "    fill: var(--fill-color);\n",
              "    height: 32px;\n",
              "    padding: 0;\n",
              "    width: 32px;\n",
              "  }\n",
              "\n",
              "  .colab-df-quickchart:hover {\n",
              "    background-color: var(--hover-bg-color);\n",
              "    box-shadow: 0 1px 2px rgba(60, 64, 67, 0.3), 0 1px 3px 1px rgba(60, 64, 67, 0.15);\n",
              "    fill: var(--button-hover-fill-color);\n",
              "  }\n",
              "\n",
              "  .colab-df-quickchart-complete:disabled,\n",
              "  .colab-df-quickchart-complete:disabled:hover {\n",
              "    background-color: var(--disabled-bg-color);\n",
              "    fill: var(--disabled-fill-color);\n",
              "    box-shadow: none;\n",
              "  }\n",
              "\n",
              "  .colab-df-spinner {\n",
              "    border: 2px solid var(--fill-color);\n",
              "    border-color: transparent;\n",
              "    border-bottom-color: var(--fill-color);\n",
              "    animation:\n",
              "      spin 1s steps(1) infinite;\n",
              "  }\n",
              "\n",
              "  @keyframes spin {\n",
              "    0% {\n",
              "      border-color: transparent;\n",
              "      border-bottom-color: var(--fill-color);\n",
              "      border-left-color: var(--fill-color);\n",
              "    }\n",
              "    20% {\n",
              "      border-color: transparent;\n",
              "      border-left-color: var(--fill-color);\n",
              "      border-top-color: var(--fill-color);\n",
              "    }\n",
              "    30% {\n",
              "      border-color: transparent;\n",
              "      border-left-color: var(--fill-color);\n",
              "      border-top-color: var(--fill-color);\n",
              "      border-right-color: var(--fill-color);\n",
              "    }\n",
              "    40% {\n",
              "      border-color: transparent;\n",
              "      border-right-color: var(--fill-color);\n",
              "      border-top-color: var(--fill-color);\n",
              "    }\n",
              "    60% {\n",
              "      border-color: transparent;\n",
              "      border-right-color: var(--fill-color);\n",
              "    }\n",
              "    80% {\n",
              "      border-color: transparent;\n",
              "      border-right-color: var(--fill-color);\n",
              "      border-bottom-color: var(--fill-color);\n",
              "    }\n",
              "    90% {\n",
              "      border-color: transparent;\n",
              "      border-bottom-color: var(--fill-color);\n",
              "    }\n",
              "  }\n",
              "</style>\n",
              "\n",
              "  <script>\n",
              "    async function quickchart(key) {\n",
              "      const quickchartButtonEl =\n",
              "        document.querySelector('#' + key + ' button');\n",
              "      quickchartButtonEl.disabled = true;  // To prevent multiple clicks.\n",
              "      quickchartButtonEl.classList.add('colab-df-spinner');\n",
              "      try {\n",
              "        const charts = await google.colab.kernel.invokeFunction(\n",
              "            'suggestCharts', [key], {});\n",
              "      } catch (error) {\n",
              "        console.error('Error during call to suggestCharts:', error);\n",
              "      }\n",
              "      quickchartButtonEl.classList.remove('colab-df-spinner');\n",
              "      quickchartButtonEl.classList.add('colab-df-quickchart-complete');\n",
              "    }\n",
              "    (() => {\n",
              "      let quickchartButtonEl =\n",
              "        document.querySelector('#df-354daa3e-98c8-4d3b-a00f-a753934c872a button');\n",
              "      quickchartButtonEl.style.display =\n",
              "        google.colab.kernel.accessAllowed ? 'block' : 'none';\n",
              "    })();\n",
              "  </script>\n",
              "</div>\n",
              "    </div>\n",
              "  </div>\n"
            ]
          },
          "metadata": {},
          "execution_count": 18
        }
      ]
    },
    {
      "cell_type": "markdown",
      "source": [
        "###Data imbalances"
      ],
      "metadata": {
        "id": "1Jpj9-fA4h1K"
      }
    },
    {
      "cell_type": "code",
      "source": [
        "df['Level'].value_counts()"
      ],
      "metadata": {
        "colab": {
          "base_uri": "https://localhost:8080/"
        },
        "id": "cgkQRkDc3d0w",
        "outputId": "1ef348ae-9615-4c2e-9ee0-433c48cdaa52"
      },
      "execution_count": null,
      "outputs": [
        {
          "output_type": "execute_result",
          "data": {
            "text/plain": [
              "3    105\n",
              "2     55\n",
              "4     39\n",
              "1     31\n",
              "Name: Level, dtype: int64"
            ]
          },
          "metadata": {},
          "execution_count": 19
        }
      ]
    },
    {
      "cell_type": "markdown",
      "source": [
        "###Splitting data into training and test samples"
      ],
      "metadata": {
        "id": "NJy8-kV-1ZDt"
      }
    },
    {
      "cell_type": "code",
      "source": [
        "STATE = 0\n",
        "df_train, df_test = train_test_split(df, random_state=STATE,\n",
        "                                    test_size=0.25,\n",
        "                                    stratify=df['Level'])\n",
        "X = df_train.drop(['Level','Movie'], axis=1)\n",
        "y = df_train['Level']\n",
        "X_test = df_test.drop(['Level','Movie'], axis=1)\n",
        "y_test = df_test['Level']\n",
        "print(f'train size: {X.shape, y.shape}')\n",
        "print(f'test size: {X_test.shape, y_test.shape}')"
      ],
      "metadata": {
        "colab": {
          "base_uri": "https://localhost:8080/"
        },
        "id": "nIaAqXTqjcZ4",
        "outputId": "f6f9ed0d-3e62-48e3-80c2-028657d4ac98"
      },
      "execution_count": null,
      "outputs": [
        {
          "output_type": "stream",
          "name": "stdout",
          "text": [
            "train size: ((172, 1), (172,))\n",
            "test size: ((58, 1), (58,))\n"
          ]
        }
      ]
    },
    {
      "cell_type": "markdown",
      "source": [
        "###Subtitle text preprocessing"
      ],
      "metadata": {
        "id": "F1bs_FYK1NWK"
      }
    },
    {
      "cell_type": "code",
      "source": [
        "# set regular expressions for text preprocessing\n",
        "HTML = r'<.*?>' # html tags\n",
        "#TAG = r'{.*?}' # change tags to spaces\n",
        "COMMENTS = r'[\\(\\[][A-Za-z ]+[\\)\\]]' # comments in parentheses\n",
        "LETTERS = r'[^\\w\\s]' # anything that isn't a letter\n",
        "SPACES = r'([ ])\\1+' # repeated spaces\n",
        "DOTS = r'[\\.]+' # punctuation mark ellipsis\n",
        "SYMB = r\"[^\\w\\d'\\s]\" # punctuation marks other than apostrophe\n",
        "def clean_subs(subs):\n",
        "  \"\"\"subtitle text preprocessing\"\"\"\n",
        "  subs = subs[1:] # remove the first promotional subtitle\n",
        "  txt = re.sub(HTML, ' ', subs.text) # html tags change to spaces\n",
        "  txt = re.sub(COMMENTS, ' ', txt) # comments in parentheses change to spaces\n",
        "  txt = re.sub(LETTERS, ' ', txt) # anything that isn't a letter is a space\n",
        "  txt = re.sub(DOTS, r'.', txt) # punctuation mark ellipsis change to dots\n",
        "  txt = re.sub(SPACES, r'\\1', txt) # repeated spaces change to one space\n",
        "  txt = re.sub(SYMB, '', txt) # punctuation marks other than apostrophe change to an empty string\n",
        "  txt = re.sub('www', '', txt) # 'www' change to an empty string\n",
        "  txt = txt.lstrip().rstrip().replace(\"\\n\",\"\") # left space trimming\n",
        "  txt = txt.encode('ascii', 'ignore').decode() # remove all non-ascii characters\n",
        "  txt = txt.lower() # to lowercase\n",
        "  txt = ' '.join(txt.split())\n",
        "  return txt"
      ],
      "metadata": {
        "id": "9cPutFs0MnsF"
      },
      "execution_count": null,
      "outputs": []
    },
    {
      "cell_type": "code",
      "source": [
        "%%time\n",
        "X['subs'] = X['subs'].apply(clean_subs)\n",
        "X['subs']"
      ],
      "metadata": {
        "id": "lt-po1-2M32x",
        "colab": {
          "base_uri": "https://localhost:8080/"
        },
        "outputId": "4e65f116-e446-4f3e-9a43-c9813c781954"
      },
      "execution_count": null,
      "outputs": [
        {
          "output_type": "stream",
          "name": "stdout",
          "text": [
            "CPU times: user 1.13 s, sys: 4.62 ms, total: 1.14 s\n",
            "Wall time: 1.15 s\n"
          ]
        },
        {
          "output_type": "execute_result",
          "data": {
            "text/plain": [
              "20     our first guest he s made a career outof being...\n",
              "163    i ever brought into the firm i have stacked my...\n",
              "28     rhythmic thumping musicplaying my planetarraki...\n",
              "35     my name s forrest forrest gump do you want a c...\n",
              "166    i am placing harvey specteron immediate unpaid...\n",
              "                             ...                        \n",
              "226    it s going upon the wall tomorrow and this is ...\n",
              "26     what gives you that idea you want to know the ...\n",
              "57     thank you so how does it feelbeing back after ...\n",
              "220    you win you get what you want you lose you sta...\n",
              "119    our planet looked very differentfrom what it d...\n",
              "Name: subs, Length: 172, dtype: object"
            ]
          },
          "metadata": {},
          "execution_count": 22
        }
      ]
    },
    {
      "cell_type": "markdown",
      "source": [
        "###Loading dictionaries"
      ],
      "metadata": {
        "id": "Yw3BdvXDiKBS"
      }
    },
    {
      "cell_type": "code",
      "source": [
        "path_to_zip_file = f'{PATH}/Oxford_CEFR_level.zip'\n",
        "with ZipFile(path_to_zip_file, 'r') as zObject:\n",
        "  Oxf3 = zObject.extract('The_Oxford_3000_by_CEFR_level.pdf')\n",
        "  Oxf5 = zObject.extract('The_Oxford_5000_by_CEFR_level.pdf')"
      ],
      "metadata": {
        "id": "fgeVmzUzbhwp"
      },
      "execution_count": null,
      "outputs": []
    },
    {
      "cell_type": "code",
      "source": [
        "pdf3000 = tabula.read_pdf(Oxf3,\n",
        "                      pages='all',\n",
        "                      stream=True,\n",
        "                      guess=False,\n",
        "                      pandas_options={'header': None})\n",
        "print(f'number of pages The_Oxford_3000_by_CEFR_level: {len(pdf3000)}')"
      ],
      "metadata": {
        "colab": {
          "base_uri": "https://localhost:8080/"
        },
        "id": "ypPU-OD1cqRX",
        "outputId": "199a01a4-95ff-41de-e368-03c6c229476b"
      },
      "execution_count": null,
      "outputs": [
        {
          "output_type": "stream",
          "name": "stderr",
          "text": [
            "WARNING:tabula.backend:Error importing jpype dependencies. Fallback to subprocess.\n",
            "WARNING:tabula.backend:No module named 'jpype'\n"
          ]
        },
        {
          "output_type": "stream",
          "name": "stdout",
          "text": [
            "number of pages The_Oxford_3000_by_CEFR_level: 12\n"
          ]
        }
      ]
    },
    {
      "cell_type": "code",
      "source": [
        "pdf5000 = tabula.read_pdf(Oxf5,\n",
        "                      pages='all',\n",
        "                      stream=True,\n",
        "                      guess=False,\n",
        "                      pandas_options={'header': None})\n",
        "print(f'number of pages The_Oxford_5000_by_CEFR_level в tabula: {len(pdf5000)}')"
      ],
      "metadata": {
        "colab": {
          "base_uri": "https://localhost:8080/"
        },
        "id": "5gpIK2_Yc8hu",
        "outputId": "56bf2379-0fb3-4e1a-8ceb-330a4751e8da"
      },
      "execution_count": null,
      "outputs": [
        {
          "output_type": "stream",
          "name": "stdout",
          "text": [
            "number of pages The_Oxford_5000_by_CEFR_level в tabula: 8\n"
          ]
        }
      ]
    },
    {
      "cell_type": "code",
      "source": [
        "wordlist = []\n",
        "\n",
        "def df_to_list(df,wordlist):\n",
        "  \"\"\"selects all words from the dictionary and put them in the list\"\"\"\n",
        "  for col in df.columns:\n",
        "    #tabula can put several rows in one cell, we need to separate them\n",
        "    tmpdf = df[col].astype('string').str.split(' ', expand= True)\n",
        "    for col in tmpdf.columns:\n",
        "      rcol = tmpdf[tmpdf[col].notna()][col].str.lower()\n",
        "      #leaving only the words\n",
        "      rcol = rcol[rcol.str.isalpha()]\n",
        "      wordlist = wordlist + list(rcol.unique())\n",
        "  return  wordlist\n",
        "\n",
        "for i in range(0,len(pdf3000)):\n",
        "  wordlist = df_to_list(pdf3000[i], wordlist)\n",
        "\n",
        "for i in range(0,len(pdf5000)):\n",
        "  wordlist = df_to_list(pdf5000[i], wordlist)"
      ],
      "metadata": {
        "id": "EG-rGROoc-cz"
      },
      "execution_count": null,
      "outputs": []
    },
    {
      "cell_type": "code",
      "source": [
        "a2 = wordlist.index('ability') #first word index of level a2\n",
        "b1 = wordlist.index('absolutely')#first word index of level b1\n",
        "b2 = wordlist.index('abandon')#first word index of level b2\n",
        "c1 = wordlist.index('abolish')#first word index of level с1\n",
        "levels = ['A2','B1','B2','C1']\n",
        "vlev = {levels[0] : set(wordlist[a2:b1]),\n",
        "        levels[1]: set(wordlist[b1:b2]),\n",
        "        levels[2]: set(wordlist[b2:c1]),\n",
        "        levels[3]: set(wordlist[c1:]),\n",
        "        }"
      ],
      "metadata": {
        "id": "U0ztz_hndR5r"
      },
      "execution_count": null,
      "outputs": []
    },
    {
      "cell_type": "markdown",
      "source": [
        "###Imbalance of dictionary classes"
      ],
      "metadata": {
        "id": "C5CtGwQf18eo"
      }
    },
    {
      "cell_type": "code",
      "source": [
        "for level in levels:\n",
        "  print(level,'=',len(vlev[level]))"
      ],
      "metadata": {
        "colab": {
          "base_uri": "https://localhost:8080/"
        },
        "id": "EayWq6O_h2Mq",
        "outputId": "7eda93dd-2b55-4cbe-b17c-416a2e280844"
      },
      "execution_count": null,
      "outputs": [
        {
          "output_type": "stream",
          "name": "stdout",
          "text": [
            "A2 = 866\n",
            "B1 = 807\n",
            "B2 = 1433\n",
            "C1 = 1308\n"
          ]
        }
      ]
    },
    {
      "cell_type": "markdown",
      "source": [
        "#Machine Learning"
      ],
      "metadata": {
        "id": "77mqZk9Fnj0K"
      }
    },
    {
      "cell_type": "markdown",
      "source": [
        "###Feature modeling"
      ],
      "metadata": {
        "id": "qjpkWK-H2Cew"
      }
    },
    {
      "cell_type": "code",
      "source": [
        "def count_percent_words_dictionar(sub):\n",
        "  \"\"\"counts the percentage of lemms in dictionaries\"\"\"\n",
        "  nlp = spacy.load('en_core_web_sm' )\n",
        "  doc = nlp(sub)\n",
        "  lms = set([token.lemma_ for token in doc])\n",
        "  lem_per = [(len(lms&vlev[level])/len(lms))*100 for level in levels]\n",
        "  return lem_per"
      ],
      "metadata": {
        "id": "NPBh4488i0eY"
      },
      "execution_count": null,
      "outputs": []
    },
    {
      "cell_type": "code",
      "source": [
        "%%time\n",
        "levpercent = [f'{_}+percent' for _ in levels]\n",
        "X.loc[:,levpercent] = X['subs'].apply(count_percent_words_dictionar).to_list()\n",
        "X"
      ],
      "metadata": {
        "colab": {
          "base_uri": "https://localhost:8080/",
          "height": 458
        },
        "id": "4YeE3MUzjz50",
        "outputId": "84f463d8-4032-45cd-e183-5132a9abcf11"
      },
      "execution_count": null,
      "outputs": [
        {
          "output_type": "stream",
          "name": "stdout",
          "text": [
            "CPU times: user 6min 11s, sys: 8.32 s, total: 6min 19s\n",
            "Wall time: 6min 24s\n"
          ]
        },
        {
          "output_type": "execute_result",
          "data": {
            "text/plain": [
              "                                                  subs  A2+percent  \\\n",
              "20   our first guest he s made a career outof being...   15.127701   \n",
              "163  i ever brought into the firm i have stacked my...   12.868440   \n",
              "28   rhythmic thumping musicplaying my planetarraki...   14.320242   \n",
              "35   my name s forrest forrest gump do you want a c...   15.362812   \n",
              "166  i am placing harvey specteron immediate unpaid...   11.126374   \n",
              "..                                                 ...         ...   \n",
              "226  it s going upon the wall tomorrow and this is ...   11.973244   \n",
              "26   what gives you that idea you want to know the ...   14.508929   \n",
              "57   thank you so how does it feelbeing back after ...   16.900093   \n",
              "220  you win you get what you want you lose you sta...   11.989101   \n",
              "119  our planet looked very differentfrom what it d...   16.438356   \n",
              "\n",
              "     B1+percent  B2+percent  C1+percent  \n",
              "20     9.282908    8.398821    3.732809  \n",
              "163    7.979871    7.692308    2.300503  \n",
              "28     8.640483    9.788520    4.048338  \n",
              "35     9.013605    7.312925    2.721088  \n",
              "166    7.348901    7.829670    3.228022  \n",
              "..          ...         ...         ...  \n",
              "226    7.959866    7.491639    3.478261  \n",
              "26     9.263393    9.207589    3.962054  \n",
              "57    10.457516   12.418301    4.761905  \n",
              "220    7.493188    8.106267    3.133515  \n",
              "119   10.834371   12.951432    4.483188  \n",
              "\n",
              "[172 rows x 5 columns]"
            ],
            "text/html": [
              "\n",
              "  <div id=\"df-a25473a3-2223-4b6a-8815-75f2d1711f85\" class=\"colab-df-container\">\n",
              "    <div>\n",
              "<style scoped>\n",
              "    .dataframe tbody tr th:only-of-type {\n",
              "        vertical-align: middle;\n",
              "    }\n",
              "\n",
              "    .dataframe tbody tr th {\n",
              "        vertical-align: top;\n",
              "    }\n",
              "\n",
              "    .dataframe thead th {\n",
              "        text-align: right;\n",
              "    }\n",
              "</style>\n",
              "<table border=\"1\" class=\"dataframe\">\n",
              "  <thead>\n",
              "    <tr style=\"text-align: right;\">\n",
              "      <th></th>\n",
              "      <th>subs</th>\n",
              "      <th>A2+percent</th>\n",
              "      <th>B1+percent</th>\n",
              "      <th>B2+percent</th>\n",
              "      <th>C1+percent</th>\n",
              "    </tr>\n",
              "  </thead>\n",
              "  <tbody>\n",
              "    <tr>\n",
              "      <th>20</th>\n",
              "      <td>our first guest he s made a career outof being...</td>\n",
              "      <td>15.127701</td>\n",
              "      <td>9.282908</td>\n",
              "      <td>8.398821</td>\n",
              "      <td>3.732809</td>\n",
              "    </tr>\n",
              "    <tr>\n",
              "      <th>163</th>\n",
              "      <td>i ever brought into the firm i have stacked my...</td>\n",
              "      <td>12.868440</td>\n",
              "      <td>7.979871</td>\n",
              "      <td>7.692308</td>\n",
              "      <td>2.300503</td>\n",
              "    </tr>\n",
              "    <tr>\n",
              "      <th>28</th>\n",
              "      <td>rhythmic thumping musicplaying my planetarraki...</td>\n",
              "      <td>14.320242</td>\n",
              "      <td>8.640483</td>\n",
              "      <td>9.788520</td>\n",
              "      <td>4.048338</td>\n",
              "    </tr>\n",
              "    <tr>\n",
              "      <th>35</th>\n",
              "      <td>my name s forrest forrest gump do you want a c...</td>\n",
              "      <td>15.362812</td>\n",
              "      <td>9.013605</td>\n",
              "      <td>7.312925</td>\n",
              "      <td>2.721088</td>\n",
              "    </tr>\n",
              "    <tr>\n",
              "      <th>166</th>\n",
              "      <td>i am placing harvey specteron immediate unpaid...</td>\n",
              "      <td>11.126374</td>\n",
              "      <td>7.348901</td>\n",
              "      <td>7.829670</td>\n",
              "      <td>3.228022</td>\n",
              "    </tr>\n",
              "    <tr>\n",
              "      <th>...</th>\n",
              "      <td>...</td>\n",
              "      <td>...</td>\n",
              "      <td>...</td>\n",
              "      <td>...</td>\n",
              "      <td>...</td>\n",
              "    </tr>\n",
              "    <tr>\n",
              "      <th>226</th>\n",
              "      <td>it s going upon the wall tomorrow and this is ...</td>\n",
              "      <td>11.973244</td>\n",
              "      <td>7.959866</td>\n",
              "      <td>7.491639</td>\n",
              "      <td>3.478261</td>\n",
              "    </tr>\n",
              "    <tr>\n",
              "      <th>26</th>\n",
              "      <td>what gives you that idea you want to know the ...</td>\n",
              "      <td>14.508929</td>\n",
              "      <td>9.263393</td>\n",
              "      <td>9.207589</td>\n",
              "      <td>3.962054</td>\n",
              "    </tr>\n",
              "    <tr>\n",
              "      <th>57</th>\n",
              "      <td>thank you so how does it feelbeing back after ...</td>\n",
              "      <td>16.900093</td>\n",
              "      <td>10.457516</td>\n",
              "      <td>12.418301</td>\n",
              "      <td>4.761905</td>\n",
              "    </tr>\n",
              "    <tr>\n",
              "      <th>220</th>\n",
              "      <td>you win you get what you want you lose you sta...</td>\n",
              "      <td>11.989101</td>\n",
              "      <td>7.493188</td>\n",
              "      <td>8.106267</td>\n",
              "      <td>3.133515</td>\n",
              "    </tr>\n",
              "    <tr>\n",
              "      <th>119</th>\n",
              "      <td>our planet looked very differentfrom what it d...</td>\n",
              "      <td>16.438356</td>\n",
              "      <td>10.834371</td>\n",
              "      <td>12.951432</td>\n",
              "      <td>4.483188</td>\n",
              "    </tr>\n",
              "  </tbody>\n",
              "</table>\n",
              "<p>172 rows × 5 columns</p>\n",
              "</div>\n",
              "    <div class=\"colab-df-buttons\">\n",
              "\n",
              "  <div class=\"colab-df-container\">\n",
              "    <button class=\"colab-df-convert\" onclick=\"convertToInteractive('df-a25473a3-2223-4b6a-8815-75f2d1711f85')\"\n",
              "            title=\"Convert this dataframe to an interactive table.\"\n",
              "            style=\"display:none;\">\n",
              "\n",
              "  <svg xmlns=\"http://www.w3.org/2000/svg\" height=\"24px\" viewBox=\"0 -960 960 960\">\n",
              "    <path d=\"M120-120v-720h720v720H120Zm60-500h600v-160H180v160Zm220 220h160v-160H400v160Zm0 220h160v-160H400v160ZM180-400h160v-160H180v160Zm440 0h160v-160H620v160ZM180-180h160v-160H180v160Zm440 0h160v-160H620v160Z\"/>\n",
              "  </svg>\n",
              "    </button>\n",
              "\n",
              "  <style>\n",
              "    .colab-df-container {\n",
              "      display:flex;\n",
              "      gap: 12px;\n",
              "    }\n",
              "\n",
              "    .colab-df-convert {\n",
              "      background-color: #E8F0FE;\n",
              "      border: none;\n",
              "      border-radius: 50%;\n",
              "      cursor: pointer;\n",
              "      display: none;\n",
              "      fill: #1967D2;\n",
              "      height: 32px;\n",
              "      padding: 0 0 0 0;\n",
              "      width: 32px;\n",
              "    }\n",
              "\n",
              "    .colab-df-convert:hover {\n",
              "      background-color: #E2EBFA;\n",
              "      box-shadow: 0px 1px 2px rgba(60, 64, 67, 0.3), 0px 1px 3px 1px rgba(60, 64, 67, 0.15);\n",
              "      fill: #174EA6;\n",
              "    }\n",
              "\n",
              "    .colab-df-buttons div {\n",
              "      margin-bottom: 4px;\n",
              "    }\n",
              "\n",
              "    [theme=dark] .colab-df-convert {\n",
              "      background-color: #3B4455;\n",
              "      fill: #D2E3FC;\n",
              "    }\n",
              "\n",
              "    [theme=dark] .colab-df-convert:hover {\n",
              "      background-color: #434B5C;\n",
              "      box-shadow: 0px 1px 3px 1px rgba(0, 0, 0, 0.15);\n",
              "      filter: drop-shadow(0px 1px 2px rgba(0, 0, 0, 0.3));\n",
              "      fill: #FFFFFF;\n",
              "    }\n",
              "  </style>\n",
              "\n",
              "    <script>\n",
              "      const buttonEl =\n",
              "        document.querySelector('#df-a25473a3-2223-4b6a-8815-75f2d1711f85 button.colab-df-convert');\n",
              "      buttonEl.style.display =\n",
              "        google.colab.kernel.accessAllowed ? 'block' : 'none';\n",
              "\n",
              "      async function convertToInteractive(key) {\n",
              "        const element = document.querySelector('#df-a25473a3-2223-4b6a-8815-75f2d1711f85');\n",
              "        const dataTable =\n",
              "          await google.colab.kernel.invokeFunction('convertToInteractive',\n",
              "                                                    [key], {});\n",
              "        if (!dataTable) return;\n",
              "\n",
              "        const docLinkHtml = 'Like what you see? Visit the ' +\n",
              "          '<a target=\"_blank\" href=https://colab.research.google.com/notebooks/data_table.ipynb>data table notebook</a>'\n",
              "          + ' to learn more about interactive tables.';\n",
              "        element.innerHTML = '';\n",
              "        dataTable['output_type'] = 'display_data';\n",
              "        await google.colab.output.renderOutput(dataTable, element);\n",
              "        const docLink = document.createElement('div');\n",
              "        docLink.innerHTML = docLinkHtml;\n",
              "        element.appendChild(docLink);\n",
              "      }\n",
              "    </script>\n",
              "  </div>\n",
              "\n",
              "\n",
              "<div id=\"df-91565321-908f-4a41-830f-6f3adfd58995\">\n",
              "  <button class=\"colab-df-quickchart\" onclick=\"quickchart('df-91565321-908f-4a41-830f-6f3adfd58995')\"\n",
              "            title=\"Suggest charts\"\n",
              "            style=\"display:none;\">\n",
              "\n",
              "<svg xmlns=\"http://www.w3.org/2000/svg\" height=\"24px\"viewBox=\"0 0 24 24\"\n",
              "     width=\"24px\">\n",
              "    <g>\n",
              "        <path d=\"M19 3H5c-1.1 0-2 .9-2 2v14c0 1.1.9 2 2 2h14c1.1 0 2-.9 2-2V5c0-1.1-.9-2-2-2zM9 17H7v-7h2v7zm4 0h-2V7h2v10zm4 0h-2v-4h2v4z\"/>\n",
              "    </g>\n",
              "</svg>\n",
              "  </button>\n",
              "\n",
              "<style>\n",
              "  .colab-df-quickchart {\n",
              "      --bg-color: #E8F0FE;\n",
              "      --fill-color: #1967D2;\n",
              "      --hover-bg-color: #E2EBFA;\n",
              "      --hover-fill-color: #174EA6;\n",
              "      --disabled-fill-color: #AAA;\n",
              "      --disabled-bg-color: #DDD;\n",
              "  }\n",
              "\n",
              "  [theme=dark] .colab-df-quickchart {\n",
              "      --bg-color: #3B4455;\n",
              "      --fill-color: #D2E3FC;\n",
              "      --hover-bg-color: #434B5C;\n",
              "      --hover-fill-color: #FFFFFF;\n",
              "      --disabled-bg-color: #3B4455;\n",
              "      --disabled-fill-color: #666;\n",
              "  }\n",
              "\n",
              "  .colab-df-quickchart {\n",
              "    background-color: var(--bg-color);\n",
              "    border: none;\n",
              "    border-radius: 50%;\n",
              "    cursor: pointer;\n",
              "    display: none;\n",
              "    fill: var(--fill-color);\n",
              "    height: 32px;\n",
              "    padding: 0;\n",
              "    width: 32px;\n",
              "  }\n",
              "\n",
              "  .colab-df-quickchart:hover {\n",
              "    background-color: var(--hover-bg-color);\n",
              "    box-shadow: 0 1px 2px rgba(60, 64, 67, 0.3), 0 1px 3px 1px rgba(60, 64, 67, 0.15);\n",
              "    fill: var(--button-hover-fill-color);\n",
              "  }\n",
              "\n",
              "  .colab-df-quickchart-complete:disabled,\n",
              "  .colab-df-quickchart-complete:disabled:hover {\n",
              "    background-color: var(--disabled-bg-color);\n",
              "    fill: var(--disabled-fill-color);\n",
              "    box-shadow: none;\n",
              "  }\n",
              "\n",
              "  .colab-df-spinner {\n",
              "    border: 2px solid var(--fill-color);\n",
              "    border-color: transparent;\n",
              "    border-bottom-color: var(--fill-color);\n",
              "    animation:\n",
              "      spin 1s steps(1) infinite;\n",
              "  }\n",
              "\n",
              "  @keyframes spin {\n",
              "    0% {\n",
              "      border-color: transparent;\n",
              "      border-bottom-color: var(--fill-color);\n",
              "      border-left-color: var(--fill-color);\n",
              "    }\n",
              "    20% {\n",
              "      border-color: transparent;\n",
              "      border-left-color: var(--fill-color);\n",
              "      border-top-color: var(--fill-color);\n",
              "    }\n",
              "    30% {\n",
              "      border-color: transparent;\n",
              "      border-left-color: var(--fill-color);\n",
              "      border-top-color: var(--fill-color);\n",
              "      border-right-color: var(--fill-color);\n",
              "    }\n",
              "    40% {\n",
              "      border-color: transparent;\n",
              "      border-right-color: var(--fill-color);\n",
              "      border-top-color: var(--fill-color);\n",
              "    }\n",
              "    60% {\n",
              "      border-color: transparent;\n",
              "      border-right-color: var(--fill-color);\n",
              "    }\n",
              "    80% {\n",
              "      border-color: transparent;\n",
              "      border-right-color: var(--fill-color);\n",
              "      border-bottom-color: var(--fill-color);\n",
              "    }\n",
              "    90% {\n",
              "      border-color: transparent;\n",
              "      border-bottom-color: var(--fill-color);\n",
              "    }\n",
              "  }\n",
              "</style>\n",
              "\n",
              "  <script>\n",
              "    async function quickchart(key) {\n",
              "      const quickchartButtonEl =\n",
              "        document.querySelector('#' + key + ' button');\n",
              "      quickchartButtonEl.disabled = true;  // To prevent multiple clicks.\n",
              "      quickchartButtonEl.classList.add('colab-df-spinner');\n",
              "      try {\n",
              "        const charts = await google.colab.kernel.invokeFunction(\n",
              "            'suggestCharts', [key], {});\n",
              "      } catch (error) {\n",
              "        console.error('Error during call to suggestCharts:', error);\n",
              "      }\n",
              "      quickchartButtonEl.classList.remove('colab-df-spinner');\n",
              "      quickchartButtonEl.classList.add('colab-df-quickchart-complete');\n",
              "    }\n",
              "    (() => {\n",
              "      let quickchartButtonEl =\n",
              "        document.querySelector('#df-91565321-908f-4a41-830f-6f3adfd58995 button');\n",
              "      quickchartButtonEl.style.display =\n",
              "        google.colab.kernel.accessAllowed ? 'block' : 'none';\n",
              "    })();\n",
              "  </script>\n",
              "</div>\n",
              "    </div>\n",
              "  </div>\n"
            ]
          },
          "metadata": {},
          "execution_count": 30
        }
      ]
    },
    {
      "cell_type": "markdown",
      "source": [
        "###Feature analysis\n"
      ],
      "metadata": {
        "id": "vETZtH0W2Lmj"
      }
    },
    {
      "cell_type": "code",
      "source": [
        "for lev in range(1,5):\n",
        "  print(f'Level-{lev}')\n",
        "  print(X[y==lev][levpercent].describe().round(2))\n",
        "  print()"
      ],
      "metadata": {
        "colab": {
          "base_uri": "https://localhost:8080/"
        },
        "id": "uPskJSW5p2Z1",
        "outputId": "83d5c403-3a1d-40f2-9071-80b4b56ca8de"
      },
      "execution_count": null,
      "outputs": [
        {
          "output_type": "stream",
          "name": "stdout",
          "text": [
            "Level-1\n",
            "       A2+percent  B1+percent  B2+percent  C1+percent\n",
            "count       23.00       23.00       23.00       23.00\n",
            "mean        15.89        9.43        9.30        3.64\n",
            "std          2.27        1.44        1.71        1.05\n",
            "min         11.61        6.84        6.67        2.22\n",
            "25%         14.74        8.36        8.15        2.81\n",
            "50%         16.36        9.61        9.24        3.60\n",
            "75%         17.08       10.31       10.64        4.15\n",
            "max         19.79       12.66       13.28        6.55\n",
            "\n",
            "Level-2\n",
            "       A2+percent  B1+percent  B2+percent  C1+percent\n",
            "count       41.00       41.00       41.00       41.00\n",
            "mean        15.72        9.63        9.63        3.55\n",
            "std          1.78        1.20        1.65        0.73\n",
            "min         12.34        7.00        6.95        1.41\n",
            "25%         14.60        8.80        8.51        3.15\n",
            "50%         15.44        9.46        9.21        3.71\n",
            "75%         16.90       10.62       10.36        3.98\n",
            "max         19.05       12.48       12.95        4.81\n",
            "\n",
            "Level-3\n",
            "       A2+percent  B1+percent  B2+percent  C1+percent\n",
            "count       79.00       79.00       79.00       79.00\n",
            "mean        13.93        8.72        8.74        3.33\n",
            "std          2.24        1.56        1.58        1.01\n",
            "min          9.71        6.35        5.76        1.67\n",
            "25%         12.21        7.56        7.64        2.65\n",
            "50%         13.66        8.43        8.53        3.19\n",
            "75%         15.19        9.28        9.65        3.83\n",
            "max         20.09       13.87       13.18        6.75\n",
            "\n",
            "Level-4\n",
            "       A2+percent  B1+percent  B2+percent  C1+percent\n",
            "count       29.00       29.00       29.00       29.00\n",
            "mean        13.55        8.55        8.32        3.03\n",
            "std          2.26        1.55        1.03        0.53\n",
            "min          8.61        5.77        6.79        2.31\n",
            "25%         12.28        7.72        7.64        2.69\n",
            "50%         12.67        8.01        8.21        2.85\n",
            "75%         13.83        8.92        8.66        3.37\n",
            "max         18.83       12.18       10.73        4.08\n",
            "\n"
          ]
        }
      ]
    },
    {
      "cell_type": "code",
      "source": [
        "title='Distribution of % of words according to level '\n",
        "ax = X.groupby(y).boxplot(subplots=False,\n",
        "                     fontsize=8,\n",
        "                     vert=False,\n",
        "                     grid =True,\n",
        "                     )\n",
        "ax.set_title(title)\n",
        "plt.show()"
      ],
      "metadata": {
        "id": "Ue5DzyJNVa9h",
        "outputId": "82322724-fc2f-4188-ba92-63e3b7d2e534",
        "colab": {
          "base_uri": "https://localhost:8080/",
          "height": 448
        }
      },
      "execution_count": null,
      "outputs": [
        {
          "output_type": "display_data",
          "data": {
            "text/plain": [
              "<Figure size 640x480 with 1 Axes>"
            ],
            "image/png": "[encoded data removed]"
          },
          "metadata": {}
        }
      ]
    },
    {
      "cell_type": "markdown",
      "source": [
        "###  Feature Importance with CatBoost"
      ],
      "metadata": {
        "id": "vfiEb2ILrvKE"
      }
    },
    {
      "cell_type": "code",
      "source": [
        "X_train, X_valid, y_train, y_valid = train_test_split(X, y, random_state=STATE,\n",
        "                                    test_size=0.25,\n",
        "                                    stratify=y)\n",
        "train_pool = Pool(X_train, y_train, text_features=['subs'])\n",
        "test_pool = Pool(X_valid, y_valid, text_features=['subs'])\n",
        "params = {\n",
        "    'objective': 'MultiClass',\n",
        "    'random_state': STATE,\n",
        "    'verbose': 1,\n",
        "    \"eval_metric\" : 'TotalF1',\n",
        "    \"early_stopping_rounds\" : 10\n",
        "    }\n",
        "model2 = CatBoostClassifier(**params)\n",
        "model2.fit(train_pool, eval_set=test_pool, plot=False)"
      ],
      "metadata": {
        "colab": {
          "base_uri": "https://localhost:8080/"
        },
        "id": "hZWP9geAjUsj",
        "outputId": "57274c16-4779-431b-f3b0-550e4e64fba6"
      },
      "execution_count": null,
      "outputs": [
        {
          "output_type": "stream",
          "name": "stdout",
          "text": [
            "Learning rate set to 0.103643\n",
            "0:\tlearn: 0.7166757\ttest: 0.3385013\tbest: 0.3385013 (0)\ttotal: 2.47s\tremaining: 41m 8s\n",
            "1:\tlearn: 0.7915310\ttest: 0.4031008\tbest: 0.4031008 (1)\ttotal: 5.15s\tremaining: 42m 52s\n",
            "2:\tlearn: 0.7562577\ttest: 0.3208560\tbest: 0.4031008 (1)\ttotal: 7.91s\tremaining: 43m 50s\n",
            "3:\tlearn: 0.7738980\ttest: 0.3641131\tbest: 0.4031008 (1)\ttotal: 9.51s\tremaining: 39m 28s\n",
            "4:\tlearn: 0.7856662\ttest: 0.3927980\tbest: 0.4031008 (1)\ttotal: 10.6s\tremaining: 35m 7s\n",
            "5:\tlearn: 0.7928679\ttest: 0.4406915\tbest: 0.4406915 (5)\ttotal: 11.6s\tremaining: 32m 2s\n",
            "6:\tlearn: 0.7836557\ttest: 0.4727191\tbest: 0.4727191 (6)\ttotal: 12.6s\tremaining: 29m 50s\n",
            "7:\tlearn: 0.7937018\ttest: 0.4919323\tbest: 0.4919323 (7)\ttotal: 13.6s\tremaining: 28m 10s\n",
            "8:\tlearn: 0.8022117\ttest: 0.4928778\tbest: 0.4928778 (8)\ttotal: 14.6s\tremaining: 26m 51s\n",
            "9:\tlearn: 0.8028860\ttest: 0.4928778\tbest: 0.4928778 (8)\ttotal: 15.7s\tremaining: 25m 51s\n",
            "10:\tlearn: 0.8061701\ttest: 0.4333333\tbest: 0.4928778 (8)\ttotal: 16.7s\tremaining: 25m 1s\n",
            "11:\tlearn: 0.8353665\ttest: 0.4518440\tbest: 0.4928778 (8)\ttotal: 17.7s\tremaining: 24m 18s\n",
            "12:\tlearn: 0.8518657\ttest: 0.4631237\tbest: 0.4928778 (8)\ttotal: 18.7s\tremaining: 23m 43s\n",
            "13:\tlearn: 0.8767386\ttest: 0.4809138\tbest: 0.4928778 (8)\ttotal: 19.8s\tremaining: 23m 16s\n",
            "14:\tlearn: 0.8857189\ttest: 0.5268969\tbest: 0.5268969 (14)\ttotal: 21.4s\tremaining: 23m 26s\n",
            "15:\tlearn: 0.9274424\ttest: 0.5268969\tbest: 0.5268969 (14)\ttotal: 23s\tremaining: 23m 31s\n",
            "16:\tlearn: 0.9274424\ttest: 0.5536809\tbest: 0.5536809 (16)\ttotal: 24.3s\tremaining: 23m 22s\n",
            "17:\tlearn: 0.9271024\ttest: 0.5784213\tbest: 0.5784213 (17)\ttotal: 25.3s\tremaining: 22m 59s\n",
            "18:\tlearn: 0.9273427\ttest: 0.5536809\tbest: 0.5784213 (17)\ttotal: 26.3s\tremaining: 22m 38s\n",
            "19:\tlearn: 0.9273427\ttest: 0.5536809\tbest: 0.5784213 (17)\ttotal: 27.3s\tremaining: 22m 19s\n",
            "20:\tlearn: 0.9271024\ttest: 0.4690248\tbest: 0.5784213 (17)\ttotal: 28.4s\tremaining: 22m 1s\n",
            "21:\tlearn: 0.9359478\ttest: 0.5157630\tbest: 0.5784213 (17)\ttotal: 29.4s\tremaining: 21m 45s\n",
            "22:\tlearn: 0.9604748\ttest: 0.4674654\tbest: 0.5784213 (17)\ttotal: 30.4s\tremaining: 21m 31s\n",
            "23:\tlearn: 0.9603157\ttest: 0.4914094\tbest: 0.5784213 (17)\ttotal: 31.4s\tremaining: 21m 17s\n",
            "24:\tlearn: 0.9684884\ttest: 0.4416650\tbest: 0.5784213 (17)\ttotal: 32.4s\tremaining: 21m 4s\n",
            "25:\tlearn: 0.9684884\ttest: 0.4884032\tbest: 0.5784213 (17)\ttotal: 33.4s\tremaining: 20m 52s\n",
            "26:\tlearn: 0.9602764\ttest: 0.5157630\tbest: 0.5784213 (17)\ttotal: 34.8s\tremaining: 20m 52s\n",
            "27:\tlearn: 0.9606928\ttest: 0.5182724\tbest: 0.5784213 (17)\ttotal: 36.4s\tremaining: 21m 2s\n",
            "Stopped by overfitting detector  (10 iterations wait)\n",
            "\n",
            "bestTest = 0.5784213349\n",
            "bestIteration = 17\n",
            "\n",
            "Shrink model to first 18 iterations.\n"
          ]
        },
        {
          "output_type": "execute_result",
          "data": {
            "text/plain": [
              "<catboost.core.CatBoostClassifier at 0x7fa51d2efa30>"
            ]
          },
          "metadata": {},
          "execution_count": 33
        }
      ]
    },
    {
      "cell_type": "code",
      "source": [
        "feature_importance = model2.feature_importances_\n",
        "sorted_idx = np.argsort(feature_importance)\n",
        "fig = plt.figure(figsize=(6, 6))\n",
        "plt.barh(range(len(sorted_idx)), feature_importance[sorted_idx], align='center')\n",
        "plt.yticks(range(len(sorted_idx)), np.array(X.columns)[sorted_idx])\n",
        "plt.title('Feature Importance')"
      ],
      "metadata": {
        "colab": {
          "base_uri": "https://localhost:8080/",
          "height": 562
        },
        "id": "aVF_yFHyloJ_",
        "outputId": "54484668-a3c9-42e6-e6d6-f056bd822ebe"
      },
      "execution_count": null,
      "outputs": [
        {
          "output_type": "execute_result",
          "data": {
            "text/plain": [
              "Text(0.5, 1.0, 'Feature Importance')"
            ]
          },
          "metadata": {},
          "execution_count": 34
        },
        {
          "output_type": "display_data",
          "data": {
            "text/plain": [
              "<Figure size 600x600 with 1 Axes>"
            ],
            "image/png": "[encoded data removed]"
          },
          "metadata": {}
        }
      ]
    },
    {
      "cell_type": "markdown",
      "source": [
        "Result: adding of new features does not affect quality  of the models"
      ],
      "metadata": {
        "id": "RKvVng797_UK"
      }
    },
    {
      "cell_type": "markdown",
      "source": [
        "###Choosing the metric\n",
        "\n",
        "\n",
        "*   The class imbalance was previously discovered.\n",
        "*   Both 'precision' and 'recall' are equally important to the practical task.\n",
        "*   The best metric is a harmonic mean of 'precision' and 'recall' - F1-measure - will be taken F1-weighted.\n"
      ],
      "metadata": {
        "id": "HTPWn1o49bLB"
      }
    },
    {
      "cell_type": "markdown",
      "source": [
        "### Pipeline"
      ],
      "metadata": {
        "id": "NwHcxZBw2dN4"
      }
    },
    {
      "cell_type": "code",
      "source": [
        "report = pd.DataFrame(columns = ['model',\n",
        "                                 'classificator',\n",
        "                                 'vectorizer',\n",
        "                                 'hparams',\n",
        "                                 'F1 score'\n",
        "                                 ])"
      ],
      "metadata": {
        "id": "fdnUSb1XRpsi"
      },
      "execution_count": null,
      "outputs": []
    },
    {
      "cell_type": "code",
      "source": [
        "a2 =  Pipeline([\n",
        "                ('selector', NumberSelector(key='A2+percent')),\n",
        "                ('standard', MinMaxScaler())\n",
        "            ])\n",
        "b1 =  Pipeline([\n",
        "                ('selector', NumberSelector(key='B1+percent')),\n",
        "                ('standard', MinMaxScaler())\n",
        "            ])\n",
        "b2 =  Pipeline([\n",
        "                ('selector', NumberSelector(key='B2+percent')),\n",
        "                ('standard', MinMaxScaler())\n",
        "            ])\n",
        "c1 =  Pipeline([\n",
        "                ('selector', NumberSelector(key='C1+percent')),\n",
        "                ('standard', MinMaxScaler())\n",
        "            ])"
      ],
      "metadata": {
        "id": "AcOFG_8TpCz9"
      },
      "execution_count": null,
      "outputs": []
    },
    {
      "cell_type": "code",
      "source": [
        "vects = [[('vec', CountVectorizer(stop_words='english')),\n",
        "          {\n",
        "           'features__text__vec__ngram_range': [(1,2),(2,2),(1,3)],\n",
        "           'features__text__vec__min_df': [2,3,4]\n",
        "           }\n",
        "          ],\n",
        "         [('vec', TfidfVectorizer(stop_words='english')),\n",
        "{\n",
        "           'features__text__vec__ngram_range': [(1,2),(2,2),(1,3)],\n",
        "           'features__text__vec__min_df': [2,3,4]\n",
        "           }\n",
        "          ]]\n",
        "\n",
        "clfs = [[SGDClassifier(random_state=STATE),\n",
        "         {'classifier__alpha': [0.001, 0.01, 0.1]}\n",
        "         ],\n",
        "          [MultinomialNB(),\n",
        "           {'classifier__alpha': [0.5, 1]}\n",
        "         ]]"
      ],
      "metadata": {
        "id": "5awwOEYOI4fF"
      },
      "execution_count": null,
      "outputs": []
    },
    {
      "cell_type": "markdown",
      "source": [
        "###Training model"
      ],
      "metadata": {
        "id": "3-_GGdSy2yHr"
      }
    },
    {
      "cell_type": "code",
      "source": [
        "%%time\n",
        "stratified_shuffle_split = StratifiedShuffleSplit(n_splits=6,\n",
        "                                                  test_size=0.25,\n",
        "                                                  random_state=STATE)\n",
        "for vec in vects:\n",
        "  vecpipe = Pipeline([('selector', TextSelector(key='subs')),\n",
        "                      vec[0]\n",
        "                      ])\n",
        "  vecpipe.fit_transform(X)\n",
        "  featscountvector = FeatureUnion([('text', vecpipe),\n",
        "                      ('A2+percent', a2),\n",
        "                      ('B1+percent', b1),\n",
        "                      ('B2+percent', b2),\n",
        "                      ('C1+percent', c1),\n",
        "                        ])\n",
        "\n",
        "  feature_processing = Pipeline([('feats', featscountvector)])\n",
        "  feature_processing.fit_transform(X)\n",
        "\n",
        "  for clf in clfs:\n",
        "    clfpipeline = Pipeline([\n",
        "        ('features', featscountvector),\n",
        "        ('classifier', clf[0]),\n",
        "    ])\n",
        "    hyperparameters = vec[1]|clf[1]\n",
        "    clfpipegridcv = GridSearchCV(clfpipeline,\n",
        "                                hyperparameters,\n",
        "                                cv=stratified_shuffle_split,\n",
        "                                scoring='f1_weighted'\n",
        "                                )\n",
        "    clfpipegridcv.fit(X, y)\n",
        "    report.loc[len(report)]=[clfpipegridcv.best_estimator_,\n",
        "                             str(clf[0]),\n",
        "                             str(vec[0]),\n",
        "                             str(clfpipegridcv.best_params_),\n",
        "                             clfpipegridcv.best_score_\n",
        "                             ]\n",
        "report = report.sort_values(by='F1 score',ascending=False)\n",
        "report.reset_index(drop= True , inplace= True )\n",
        "report"
      ],
      "metadata": {
        "colab": {
          "base_uri": "https://localhost:8080/",
          "height": 209
        },
        "id": "o_EVmf3HeOWQ",
        "outputId": "b2f258e3-653e-423e-cc85-934424ca7c28"
      },
      "execution_count": null,
      "outputs": [
        {
          "output_type": "stream",
          "name": "stdout",
          "text": [
            "CPU times: user 23min 56s, sys: 50.3 s, total: 24min 46s\n",
            "Wall time: 24min 22s\n"
          ]
        },
        {
          "output_type": "execute_result",
          "data": {
            "text/plain": [
              "                                               model  \\\n",
              "0  (FeatureUnion(transformer_list=[('text',\\n    ...   \n",
              "1  (FeatureUnion(transformer_list=[('text',\\n    ...   \n",
              "2  (FeatureUnion(transformer_list=[('text',\\n    ...   \n",
              "3  (FeatureUnion(transformer_list=[('text',\\n    ...   \n",
              "\n",
              "                   classificator  \\\n",
              "0                MultinomialNB()   \n",
              "1  SGDClassifier(random_state=0)   \n",
              "2  SGDClassifier(random_state=0)   \n",
              "3                MultinomialNB()   \n",
              "\n",
              "                                       vectorizer  \\\n",
              "0  ('vec', CountVectorizer(stop_words='english'))   \n",
              "1  ('vec', TfidfVectorizer(stop_words='english'))   \n",
              "2  ('vec', CountVectorizer(stop_words='english'))   \n",
              "3  ('vec', TfidfVectorizer(stop_words='english'))   \n",
              "\n",
              "                                             hparams  F1 score  \n",
              "0  {'classifier__alpha': 1, 'features__text__vec_...  0.698449  \n",
              "1  {'classifier__alpha': 0.001, 'features__text__...  0.679014  \n",
              "2  {'classifier__alpha': 0.1, 'features__text__ve...  0.631287  \n",
              "3  {'classifier__alpha': 0.5, 'features__text__ve...  0.333369  "
            ],
            "text/html": [
              "\n",
              "  <div id=\"df-36f1fe70-d8e0-4434-bd86-c3c7b1a4d54b\" class=\"colab-df-container\">\n",
              "    <div>\n",
              "<style scoped>\n",
              "    .dataframe tbody tr th:only-of-type {\n",
              "        vertical-align: middle;\n",
              "    }\n",
              "\n",
              "    .dataframe tbody tr th {\n",
              "        vertical-align: top;\n",
              "    }\n",
              "\n",
              "    .dataframe thead th {\n",
              "        text-align: right;\n",
              "    }\n",
              "</style>\n",
              "<table border=\"1\" class=\"dataframe\">\n",
              "  <thead>\n",
              "    <tr style=\"text-align: right;\">\n",
              "      <th></th>\n",
              "      <th>model</th>\n",
              "      <th>classificator</th>\n",
              "      <th>vectorizer</th>\n",
              "      <th>hparams</th>\n",
              "      <th>F1 score</th>\n",
              "    </tr>\n",
              "  </thead>\n",
              "  <tbody>\n",
              "    <tr>\n",
              "      <th>0</th>\n",
              "      <td>(FeatureUnion(transformer_list=[('text',\\n    ...</td>\n",
              "      <td>MultinomialNB()</td>\n",
              "      <td>('vec', CountVectorizer(stop_words='english'))</td>\n",
              "      <td>{'classifier__alpha': 1, 'features__text__vec_...</td>\n",
              "      <td>0.698449</td>\n",
              "    </tr>\n",
              "    <tr>\n",
              "      <th>1</th>\n",
              "      <td>(FeatureUnion(transformer_list=[('text',\\n    ...</td>\n",
              "      <td>SGDClassifier(random_state=0)</td>\n",
              "      <td>('vec', TfidfVectorizer(stop_words='english'))</td>\n",
              "      <td>{'classifier__alpha': 0.001, 'features__text__...</td>\n",
              "      <td>0.679014</td>\n",
              "    </tr>\n",
              "    <tr>\n",
              "      <th>2</th>\n",
              "      <td>(FeatureUnion(transformer_list=[('text',\\n    ...</td>\n",
              "      <td>SGDClassifier(random_state=0)</td>\n",
              "      <td>('vec', CountVectorizer(stop_words='english'))</td>\n",
              "      <td>{'classifier__alpha': 0.1, 'features__text__ve...</td>\n",
              "      <td>0.631287</td>\n",
              "    </tr>\n",
              "    <tr>\n",
              "      <th>3</th>\n",
              "      <td>(FeatureUnion(transformer_list=[('text',\\n    ...</td>\n",
              "      <td>MultinomialNB()</td>\n",
              "      <td>('vec', TfidfVectorizer(stop_words='english'))</td>\n",
              "      <td>{'classifier__alpha': 0.5, 'features__text__ve...</td>\n",
              "      <td>0.333369</td>\n",
              "    </tr>\n",
              "  </tbody>\n",
              "</table>\n",
              "</div>\n",
              "    <div class=\"colab-df-buttons\">\n",
              "\n",
              "  <div class=\"colab-df-container\">\n",
              "    <button class=\"colab-df-convert\" onclick=\"convertToInteractive('df-36f1fe70-d8e0-4434-bd86-c3c7b1a4d54b')\"\n",
              "            title=\"Convert this dataframe to an interactive table.\"\n",
              "            style=\"display:none;\">\n",
              "\n",
              "  <svg xmlns=\"http://www.w3.org/2000/svg\" height=\"24px\" viewBox=\"0 -960 960 960\">\n",
              "    <path d=\"M120-120v-720h720v720H120Zm60-500h600v-160H180v160Zm220 220h160v-160H400v160Zm0 220h160v-160H400v160ZM180-400h160v-160H180v160Zm440 0h160v-160H620v160ZM180-180h160v-160H180v160Zm440 0h160v-160H620v160Z\"/>\n",
              "  </svg>\n",
              "    </button>\n",
              "\n",
              "  <style>\n",
              "    .colab-df-container {\n",
              "      display:flex;\n",
              "      gap: 12px;\n",
              "    }\n",
              "\n",
              "    .colab-df-convert {\n",
              "      background-color: #E8F0FE;\n",
              "      border: none;\n",
              "      border-radius: 50%;\n",
              "      cursor: pointer;\n",
              "      display: none;\n",
              "      fill: #1967D2;\n",
              "      height: 32px;\n",
              "      padding: 0 0 0 0;\n",
              "      width: 32px;\n",
              "    }\n",
              "\n",
              "    .colab-df-convert:hover {\n",
              "      background-color: #E2EBFA;\n",
              "      box-shadow: 0px 1px 2px rgba(60, 64, 67, 0.3), 0px 1px 3px 1px rgba(60, 64, 67, 0.15);\n",
              "      fill: #174EA6;\n",
              "    }\n",
              "\n",
              "    .colab-df-buttons div {\n",
              "      margin-bottom: 4px;\n",
              "    }\n",
              "\n",
              "    [theme=dark] .colab-df-convert {\n",
              "      background-color: #3B4455;\n",
              "      fill: #D2E3FC;\n",
              "    }\n",
              "\n",
              "    [theme=dark] .colab-df-convert:hover {\n",
              "      background-color: #434B5C;\n",
              "      box-shadow: 0px 1px 3px 1px rgba(0, 0, 0, 0.15);\n",
              "      filter: drop-shadow(0px 1px 2px rgba(0, 0, 0, 0.3));\n",
              "      fill: #FFFFFF;\n",
              "    }\n",
              "  </style>\n",
              "\n",
              "    <script>\n",
              "      const buttonEl =\n",
              "        document.querySelector('#df-36f1fe70-d8e0-4434-bd86-c3c7b1a4d54b button.colab-df-convert');\n",
              "      buttonEl.style.display =\n",
              "        google.colab.kernel.accessAllowed ? 'block' : 'none';\n",
              "\n",
              "      async function convertToInteractive(key) {\n",
              "        const element = document.querySelector('#df-36f1fe70-d8e0-4434-bd86-c3c7b1a4d54b');\n",
              "        const dataTable =\n",
              "          await google.colab.kernel.invokeFunction('convertToInteractive',\n",
              "                                                    [key], {});\n",
              "        if (!dataTable) return;\n",
              "\n",
              "        const docLinkHtml = 'Like what you see? Visit the ' +\n",
              "          '<a target=\"_blank\" href=https://colab.research.google.com/notebooks/data_table.ipynb>data table notebook</a>'\n",
              "          + ' to learn more about interactive tables.';\n",
              "        element.innerHTML = '';\n",
              "        dataTable['output_type'] = 'display_data';\n",
              "        await google.colab.output.renderOutput(dataTable, element);\n",
              "        const docLink = document.createElement('div');\n",
              "        docLink.innerHTML = docLinkHtml;\n",
              "        element.appendChild(docLink);\n",
              "      }\n",
              "    </script>\n",
              "  </div>\n",
              "\n",
              "\n",
              "<div id=\"df-c9f352b1-74fd-4e97-a130-b7d4a63ed45b\">\n",
              "  <button class=\"colab-df-quickchart\" onclick=\"quickchart('df-c9f352b1-74fd-4e97-a130-b7d4a63ed45b')\"\n",
              "            title=\"Suggest charts\"\n",
              "            style=\"display:none;\">\n",
              "\n",
              "<svg xmlns=\"http://www.w3.org/2000/svg\" height=\"24px\"viewBox=\"0 0 24 24\"\n",
              "     width=\"24px\">\n",
              "    <g>\n",
              "        <path d=\"M19 3H5c-1.1 0-2 .9-2 2v14c0 1.1.9 2 2 2h14c1.1 0 2-.9 2-2V5c0-1.1-.9-2-2-2zM9 17H7v-7h2v7zm4 0h-2V7h2v10zm4 0h-2v-4h2v4z\"/>\n",
              "    </g>\n",
              "</svg>\n",
              "  </button>\n",
              "\n",
              "<style>\n",
              "  .colab-df-quickchart {\n",
              "      --bg-color: #E8F0FE;\n",
              "      --fill-color: #1967D2;\n",
              "      --hover-bg-color: #E2EBFA;\n",
              "      --hover-fill-color: #174EA6;\n",
              "      --disabled-fill-color: #AAA;\n",
              "      --disabled-bg-color: #DDD;\n",
              "  }\n",
              "\n",
              "  [theme=dark] .colab-df-quickchart {\n",
              "      --bg-color: #3B4455;\n",
              "      --fill-color: #D2E3FC;\n",
              "      --hover-bg-color: #434B5C;\n",
              "      --hover-fill-color: #FFFFFF;\n",
              "      --disabled-bg-color: #3B4455;\n",
              "      --disabled-fill-color: #666;\n",
              "  }\n",
              "\n",
              "  .colab-df-quickchart {\n",
              "    background-color: var(--bg-color);\n",
              "    border: none;\n",
              "    border-radius: 50%;\n",
              "    cursor: pointer;\n",
              "    display: none;\n",
              "    fill: var(--fill-color);\n",
              "    height: 32px;\n",
              "    padding: 0;\n",
              "    width: 32px;\n",
              "  }\n",
              "\n",
              "  .colab-df-quickchart:hover {\n",
              "    background-color: var(--hover-bg-color);\n",
              "    box-shadow: 0 1px 2px rgba(60, 64, 67, 0.3), 0 1px 3px 1px rgba(60, 64, 67, 0.15);\n",
              "    fill: var(--button-hover-fill-color);\n",
              "  }\n",
              "\n",
              "  .colab-df-quickchart-complete:disabled,\n",
              "  .colab-df-quickchart-complete:disabled:hover {\n",
              "    background-color: var(--disabled-bg-color);\n",
              "    fill: var(--disabled-fill-color);\n",
              "    box-shadow: none;\n",
              "  }\n",
              "\n",
              "  .colab-df-spinner {\n",
              "    border: 2px solid var(--fill-color);\n",
              "    border-color: transparent;\n",
              "    border-bottom-color: var(--fill-color);\n",
              "    animation:\n",
              "      spin 1s steps(1) infinite;\n",
              "  }\n",
              "\n",
              "  @keyframes spin {\n",
              "    0% {\n",
              "      border-color: transparent;\n",
              "      border-bottom-color: var(--fill-color);\n",
              "      border-left-color: var(--fill-color);\n",
              "    }\n",
              "    20% {\n",
              "      border-color: transparent;\n",
              "      border-left-color: var(--fill-color);\n",
              "      border-top-color: var(--fill-color);\n",
              "    }\n",
              "    30% {\n",
              "      border-color: transparent;\n",
              "      border-left-color: var(--fill-color);\n",
              "      border-top-color: var(--fill-color);\n",
              "      border-right-color: var(--fill-color);\n",
              "    }\n",
              "    40% {\n",
              "      border-color: transparent;\n",
              "      border-right-color: var(--fill-color);\n",
              "      border-top-color: var(--fill-color);\n",
              "    }\n",
              "    60% {\n",
              "      border-color: transparent;\n",
              "      border-right-color: var(--fill-color);\n",
              "    }\n",
              "    80% {\n",
              "      border-color: transparent;\n",
              "      border-right-color: var(--fill-color);\n",
              "      border-bottom-color: var(--fill-color);\n",
              "    }\n",
              "    90% {\n",
              "      border-color: transparent;\n",
              "      border-bottom-color: var(--fill-color);\n",
              "    }\n",
              "  }\n",
              "</style>\n",
              "\n",
              "  <script>\n",
              "    async function quickchart(key) {\n",
              "      const quickchartButtonEl =\n",
              "        document.querySelector('#' + key + ' button');\n",
              "      quickchartButtonEl.disabled = true;  // To prevent multiple clicks.\n",
              "      quickchartButtonEl.classList.add('colab-df-spinner');\n",
              "      try {\n",
              "        const charts = await google.colab.kernel.invokeFunction(\n",
              "            'suggestCharts', [key], {});\n",
              "      } catch (error) {\n",
              "        console.error('Error during call to suggestCharts:', error);\n",
              "      }\n",
              "      quickchartButtonEl.classList.remove('colab-df-spinner');\n",
              "      quickchartButtonEl.classList.add('colab-df-quickchart-complete');\n",
              "    }\n",
              "    (() => {\n",
              "      let quickchartButtonEl =\n",
              "        document.querySelector('#df-c9f352b1-74fd-4e97-a130-b7d4a63ed45b button');\n",
              "      quickchartButtonEl.style.display =\n",
              "        google.colab.kernel.accessAllowed ? 'block' : 'none';\n",
              "    })();\n",
              "  </script>\n",
              "</div>\n",
              "    </div>\n",
              "  </div>\n"
            ]
          },
          "metadata": {},
          "execution_count": 38
        }
      ]
    },
    {
      "cell_type": "code",
      "source": [
        "#select best mоdel\n",
        "clf = report['model'].loc[0]\n",
        "clf.fit(X, y)"
      ],
      "metadata": {
        "colab": {
          "base_uri": "https://localhost:8080/",
          "height": 216
        },
        "id": "xp17x2CIo1C0",
        "outputId": "90662d96-7406-4977-b327-5722c984e507"
      },
      "execution_count": null,
      "outputs": [
        {
          "output_type": "execute_result",
          "data": {
            "text/plain": [
              "Pipeline(steps=[('features',\n",
              "                 FeatureUnion(transformer_list=[('text',\n",
              "                                                 Pipeline(steps=[('selector',\n",
              "                                                                  TextSelector(key='subs')),\n",
              "                                                                 ('vec',\n",
              "                                                                  CountVectorizer(min_df=3,\n",
              "                                                                                  ngram_range=(1,\n",
              "                                                                                               3),\n",
              "                                                                                  stop_words='english'))])),\n",
              "                                                ('A2+percent',\n",
              "                                                 Pipeline(steps=[('selector',\n",
              "                                                                  NumberSelector(key='A2+percent')),\n",
              "                                                                 ('standard',\n",
              "                                                                  MinMaxScaler())])),\n",
              "                                                ('B1+percent',\n",
              "                                                 Pipeline(steps=[('selector',\n",
              "                                                                  NumberSelector(key='B1+percent')),\n",
              "                                                                 ('standard',\n",
              "                                                                  MinMaxScaler())])),\n",
              "                                                ('B2+percent',\n",
              "                                                 Pipeline(steps=[('selector',\n",
              "                                                                  NumberSelector(key='B2+percent')),\n",
              "                                                                 ('standard',\n",
              "                                                                  MinMaxScaler())])),\n",
              "                                                ('C1+percent',\n",
              "                                                 Pipeline(steps=[('selector',\n",
              "                                                                  NumberSelector(key='C1+percent')),\n",
              "                                                                 ('standard',\n",
              "                                                                  MinMaxScaler())]))])),\n",
              "                ('classifier', MultinomialNB(alpha=1))])"
            ],
            "text/html": [
              "<style>#sk-container-id-1 {color: black;background-color: white;}#sk-container-id-1 pre{padding: 0;}#sk-container-id-1 div.sk-toggleable {background-color: white;}#sk-container-id-1 label.sk-toggleable__label {cursor: pointer;display: block;width: 100%;margin-bottom: 0;padding: 0.3em;box-sizing: border-box;text-align: center;}#sk-container-id-1 label.sk-toggleable__label-arrow:before {content: \"▸\";float: left;margin-right: 0.25em;color: #696969;}#sk-container-id-1 label.sk-toggleable__label-arrow:hover:before {color: black;}#sk-container-id-1 div.sk-estimator:hover label.sk-toggleable__label-arrow:before {color: black;}#sk-container-id-1 div.sk-toggleable__content {max-height: 0;max-width: 0;overflow: hidden;text-align: left;background-color: #f0f8ff;}#sk-container-id-1 div.sk-toggleable__content pre {margin: 0.2em;color: black;border-radius: 0.25em;background-color: #f0f8ff;}#sk-container-id-1 input.sk-toggleable__control:checked~div.sk-toggleable__content {max-height: 200px;max-width: 100%;overflow: auto;}#sk-container-id-1 input.sk-toggleable__control:checked~label.sk-toggleable__label-arrow:before {content: \"▾\";}#sk-container-id-1 div.sk-estimator input.sk-toggleable__control:checked~label.sk-toggleable__label {background-color: #d4ebff;}#sk-container-id-1 div.sk-label input.sk-toggleable__control:checked~label.sk-toggleable__label {background-color: #d4ebff;}#sk-container-id-1 input.sk-hidden--visually {border: 0;clip: rect(1px 1px 1px 1px);clip: rect(1px, 1px, 1px, 1px);height: 1px;margin: -1px;overflow: hidden;padding: 0;position: absolute;width: 1px;}#sk-container-id-1 div.sk-estimator {font-family: monospace;background-color: #f0f8ff;border: 1px dotted black;border-radius: 0.25em;box-sizing: border-box;margin-bottom: 0.5em;}#sk-container-id-1 div.sk-estimator:hover {background-color: #d4ebff;}#sk-container-id-1 div.sk-parallel-item::after {content: \"\";width: 100%;border-bottom: 1px solid gray;flex-grow: 1;}#sk-container-id-1 div.sk-label:hover label.sk-toggleable__label {background-color: #d4ebff;}#sk-container-id-1 div.sk-serial::before {content: \"\";position: absolute;border-left: 1px solid gray;box-sizing: border-box;top: 0;bottom: 0;left: 50%;z-index: 0;}#sk-container-id-1 div.sk-serial {display: flex;flex-direction: column;align-items: center;background-color: white;padding-right: 0.2em;padding-left: 0.2em;position: relative;}#sk-container-id-1 div.sk-item {position: relative;z-index: 1;}#sk-container-id-1 div.sk-parallel {display: flex;align-items: stretch;justify-content: center;background-color: white;position: relative;}#sk-container-id-1 div.sk-item::before, #sk-container-id-1 div.sk-parallel-item::before {content: \"\";position: absolute;border-left: 1px solid gray;box-sizing: border-box;top: 0;bottom: 0;left: 50%;z-index: -1;}#sk-container-id-1 div.sk-parallel-item {display: flex;flex-direction: column;z-index: 1;position: relative;background-color: white;}#sk-container-id-1 div.sk-parallel-item:first-child::after {align-self: flex-end;width: 50%;}#sk-container-id-1 div.sk-parallel-item:last-child::after {align-self: flex-start;width: 50%;}#sk-container-id-1 div.sk-parallel-item:only-child::after {width: 0;}#sk-container-id-1 div.sk-dashed-wrapped {border: 1px dashed gray;margin: 0 0.4em 0.5em 0.4em;box-sizing: border-box;padding-bottom: 0.4em;background-color: white;}#sk-container-id-1 div.sk-label label {font-family: monospace;font-weight: bold;display: inline-block;line-height: 1.2em;}#sk-container-id-1 div.sk-label-container {text-align: center;}#sk-container-id-1 div.sk-container {/* jupyter's `normalize.less` sets `[hidden] { display: none; }` but bootstrap.min.css set `[hidden] { display: none !important; }` so we also need the `!important` here to be able to override the default hidden behavior on the sphinx rendered scikit-learn.org. See: https://github.com/scikit-learn/scikit-learn/issues/21755 */display: inline-block !important;position: relative;}#sk-container-id-1 div.sk-text-repr-fallback {display: none;}</style><div id=\"sk-container-id-1\" class=\"sk-top-container\"><div class=\"sk-text-repr-fallback\"><pre>Pipeline(steps=[(&#x27;features&#x27;,\n",
              "                 FeatureUnion(transformer_list=[(&#x27;text&#x27;,\n",
              "                                                 Pipeline(steps=[(&#x27;selector&#x27;,\n",
              "                                                                  TextSelector(key=&#x27;subs&#x27;)),\n",
              "                                                                 (&#x27;vec&#x27;,\n",
              "                                                                  CountVectorizer(min_df=3,\n",
              "                                                                                  ngram_range=(1,\n",
              "                                                                                               3),\n",
              "                                                                                  stop_words=&#x27;english&#x27;))])),\n",
              "                                                (&#x27;A2+percent&#x27;,\n",
              "                                                 Pipeline(steps=[(&#x27;selector&#x27;,\n",
              "                                                                  NumberSelector(key=&#x27;A2+percent&#x27;)),\n",
              "                                                                 (&#x27;standard&#x27;,\n",
              "                                                                  MinMaxScaler())])),\n",
              "                                                (&#x27;B1+percent&#x27;,\n",
              "                                                 Pipeline(steps=[(&#x27;selector&#x27;,\n",
              "                                                                  NumberSelector(key=&#x27;B1+percent&#x27;)),\n",
              "                                                                 (&#x27;standard&#x27;,\n",
              "                                                                  MinMaxScaler())])),\n",
              "                                                (&#x27;B2+percent&#x27;,\n",
              "                                                 Pipeline(steps=[(&#x27;selector&#x27;,\n",
              "                                                                  NumberSelector(key=&#x27;B2+percent&#x27;)),\n",
              "                                                                 (&#x27;standard&#x27;,\n",
              "                                                                  MinMaxScaler())])),\n",
              "                                                (&#x27;C1+percent&#x27;,\n",
              "                                                 Pipeline(steps=[(&#x27;selector&#x27;,\n",
              "                                                                  NumberSelector(key=&#x27;C1+percent&#x27;)),\n",
              "                                                                 (&#x27;standard&#x27;,\n",
              "                                                                  MinMaxScaler())]))])),\n",
              "                (&#x27;classifier&#x27;, MultinomialNB(alpha=1))])</pre><b>In a Jupyter environment, please rerun this cell to show the HTML representation or trust the notebook. <br />On GitHub, the HTML representation is unable to render, please try loading this page with nbviewer.org.</b></div><div class=\"sk-container\" hidden><div class=\"sk-item sk-dashed-wrapped\"><div class=\"sk-label-container\"><div class=\"sk-label sk-toggleable\"><input class=\"sk-toggleable__control sk-hidden--visually\" id=\"sk-estimator-id-1\" type=\"checkbox\" ><label for=\"sk-estimator-id-1\" class=\"sk-toggleable__label sk-toggleable__label-arrow\">Pipeline</label><div class=\"sk-toggleable__content\"><pre>Pipeline(steps=[(&#x27;features&#x27;,\n",
              "                 FeatureUnion(transformer_list=[(&#x27;text&#x27;,\n",
              "                                                 Pipeline(steps=[(&#x27;selector&#x27;,\n",
              "                                                                  TextSelector(key=&#x27;subs&#x27;)),\n",
              "                                                                 (&#x27;vec&#x27;,\n",
              "                                                                  CountVectorizer(min_df=3,\n",
              "                                                                                  ngram_range=(1,\n",
              "                                                                                               3),\n",
              "                                                                                  stop_words=&#x27;english&#x27;))])),\n",
              "                                                (&#x27;A2+percent&#x27;,\n",
              "                                                 Pipeline(steps=[(&#x27;selector&#x27;,\n",
              "                                                                  NumberSelector(key=&#x27;A2+percent&#x27;)),\n",
              "                                                                 (&#x27;standard&#x27;,\n",
              "                                                                  MinMaxScaler())])),\n",
              "                                                (&#x27;B1+percent&#x27;,\n",
              "                                                 Pipeline(steps=[(&#x27;selector&#x27;,\n",
              "                                                                  NumberSelector(key=&#x27;B1+percent&#x27;)),\n",
              "                                                                 (&#x27;standard&#x27;,\n",
              "                                                                  MinMaxScaler())])),\n",
              "                                                (&#x27;B2+percent&#x27;,\n",
              "                                                 Pipeline(steps=[(&#x27;selector&#x27;,\n",
              "                                                                  NumberSelector(key=&#x27;B2+percent&#x27;)),\n",
              "                                                                 (&#x27;standard&#x27;,\n",
              "                                                                  MinMaxScaler())])),\n",
              "                                                (&#x27;C1+percent&#x27;,\n",
              "                                                 Pipeline(steps=[(&#x27;selector&#x27;,\n",
              "                                                                  NumberSelector(key=&#x27;C1+percent&#x27;)),\n",
              "                                                                 (&#x27;standard&#x27;,\n",
              "                                                                  MinMaxScaler())]))])),\n",
              "                (&#x27;classifier&#x27;, MultinomialNB(alpha=1))])</pre></div></div></div><div class=\"sk-serial\"><div class=\"sk-item sk-dashed-wrapped\"><div class=\"sk-label-container\"><div class=\"sk-label sk-toggleable\"><input class=\"sk-toggleable__control sk-hidden--visually\" id=\"sk-estimator-id-2\" type=\"checkbox\" ><label for=\"sk-estimator-id-2\" class=\"sk-toggleable__label sk-toggleable__label-arrow\">features: FeatureUnion</label><div class=\"sk-toggleable__content\"><pre>FeatureUnion(transformer_list=[(&#x27;text&#x27;,\n",
              "                                Pipeline(steps=[(&#x27;selector&#x27;,\n",
              "                                                 TextSelector(key=&#x27;subs&#x27;)),\n",
              "                                                (&#x27;vec&#x27;,\n",
              "                                                 CountVectorizer(min_df=3,\n",
              "                                                                 ngram_range=(1,\n",
              "                                                                              3),\n",
              "                                                                 stop_words=&#x27;english&#x27;))])),\n",
              "                               (&#x27;A2+percent&#x27;,\n",
              "                                Pipeline(steps=[(&#x27;selector&#x27;,\n",
              "                                                 NumberSelector(key=&#x27;A2+percent&#x27;)),\n",
              "                                                (&#x27;standard&#x27;, MinMaxScaler())])),\n",
              "                               (&#x27;B1+percent&#x27;,\n",
              "                                Pipeline(steps=[(&#x27;selector&#x27;,\n",
              "                                                 NumberSelector(key=&#x27;B1+percent&#x27;)),\n",
              "                                                (&#x27;standard&#x27;, MinMaxScaler())])),\n",
              "                               (&#x27;B2+percent&#x27;,\n",
              "                                Pipeline(steps=[(&#x27;selector&#x27;,\n",
              "                                                 NumberSelector(key=&#x27;B2+percent&#x27;)),\n",
              "                                                (&#x27;standard&#x27;, MinMaxScaler())])),\n",
              "                               (&#x27;C1+percent&#x27;,\n",
              "                                Pipeline(steps=[(&#x27;selector&#x27;,\n",
              "                                                 NumberSelector(key=&#x27;C1+percent&#x27;)),\n",
              "                                                (&#x27;standard&#x27;,\n",
              "                                                 MinMaxScaler())]))])</pre></div></div></div><div class=\"sk-parallel\"><div class=\"sk-parallel-item\"><div class=\"sk-item\"><div class=\"sk-label-container\"><div class=\"sk-label sk-toggleable\"><label>text</label></div></div><div class=\"sk-serial\"><div class=\"sk-item\"><div class=\"sk-serial\"><div class=\"sk-item\"><div class=\"sk-estimator sk-toggleable\"><input class=\"sk-toggleable__control sk-hidden--visually\" id=\"sk-estimator-id-3\" type=\"checkbox\" ><label for=\"sk-estimator-id-3\" class=\"sk-toggleable__label sk-toggleable__label-arrow\">TextSelector</label><div class=\"sk-toggleable__content\"><pre>TextSelector(key=&#x27;subs&#x27;)</pre></div></div></div><div class=\"sk-item\"><div class=\"sk-estimator sk-toggleable\"><input class=\"sk-toggleable__control sk-hidden--visually\" id=\"sk-estimator-id-4\" type=\"checkbox\" ><label for=\"sk-estimator-id-4\" class=\"sk-toggleable__label sk-toggleable__label-arrow\">CountVectorizer</label><div class=\"sk-toggleable__content\"><pre>CountVectorizer(min_df=3, ngram_range=(1, 3), stop_words=&#x27;english&#x27;)</pre></div></div></div></div></div></div></div></div><div class=\"sk-parallel-item\"><div class=\"sk-item\"><div class=\"sk-label-container\"><div class=\"sk-label sk-toggleable\"><label>A2+percent</label></div></div><div class=\"sk-serial\"><div class=\"sk-item\"><div class=\"sk-serial\"><div class=\"sk-item\"><div class=\"sk-estimator sk-toggleable\"><input class=\"sk-toggleable__control sk-hidden--visually\" id=\"sk-estimator-id-5\" type=\"checkbox\" ><label for=\"sk-estimator-id-5\" class=\"sk-toggleable__label sk-toggleable__label-arrow\">NumberSelector</label><div class=\"sk-toggleable__content\"><pre>NumberSelector(key=&#x27;A2+percent&#x27;)</pre></div></div></div><div class=\"sk-item\"><div class=\"sk-estimator sk-toggleable\"><input class=\"sk-toggleable__control sk-hidden--visually\" id=\"sk-estimator-id-6\" type=\"checkbox\" ><label for=\"sk-estimator-id-6\" class=\"sk-toggleable__label sk-toggleable__label-arrow\">MinMaxScaler</label><div class=\"sk-toggleable__content\"><pre>MinMaxScaler()</pre></div></div></div></div></div></div></div></div><div class=\"sk-parallel-item\"><div class=\"sk-item\"><div class=\"sk-label-container\"><div class=\"sk-label sk-toggleable\"><label>B1+percent</label></div></div><div class=\"sk-serial\"><div class=\"sk-item\"><div class=\"sk-serial\"><div class=\"sk-item\"><div class=\"sk-estimator sk-toggleable\"><input class=\"sk-toggleable__control sk-hidden--visually\" id=\"sk-estimator-id-7\" type=\"checkbox\" ><label for=\"sk-estimator-id-7\" class=\"sk-toggleable__label sk-toggleable__label-arrow\">NumberSelector</label><div class=\"sk-toggleable__content\"><pre>NumberSelector(key=&#x27;B1+percent&#x27;)</pre></div></div></div><div class=\"sk-item\"><div class=\"sk-estimator sk-toggleable\"><input class=\"sk-toggleable__control sk-hidden--visually\" id=\"sk-estimator-id-8\" type=\"checkbox\" ><label for=\"sk-estimator-id-8\" class=\"sk-toggleable__label sk-toggleable__label-arrow\">MinMaxScaler</label><div class=\"sk-toggleable__content\"><pre>MinMaxScaler()</pre></div></div></div></div></div></div></div></div><div class=\"sk-parallel-item\"><div class=\"sk-item\"><div class=\"sk-label-container\"><div class=\"sk-label sk-toggleable\"><label>B2+percent</label></div></div><div class=\"sk-serial\"><div class=\"sk-item\"><div class=\"sk-serial\"><div class=\"sk-item\"><div class=\"sk-estimator sk-toggleable\"><input class=\"sk-toggleable__control sk-hidden--visually\" id=\"sk-estimator-id-9\" type=\"checkbox\" ><label for=\"sk-estimator-id-9\" class=\"sk-toggleable__label sk-toggleable__label-arrow\">NumberSelector</label><div class=\"sk-toggleable__content\"><pre>NumberSelector(key=&#x27;B2+percent&#x27;)</pre></div></div></div><div class=\"sk-item\"><div class=\"sk-estimator sk-toggleable\"><input class=\"sk-toggleable__control sk-hidden--visually\" id=\"sk-estimator-id-10\" type=\"checkbox\" ><label for=\"sk-estimator-id-10\" class=\"sk-toggleable__label sk-toggleable__label-arrow\">MinMaxScaler</label><div class=\"sk-toggleable__content\"><pre>MinMaxScaler()</pre></div></div></div></div></div></div></div></div><div class=\"sk-parallel-item\"><div class=\"sk-item\"><div class=\"sk-label-container\"><div class=\"sk-label sk-toggleable\"><label>C1+percent</label></div></div><div class=\"sk-serial\"><div class=\"sk-item\"><div class=\"sk-serial\"><div class=\"sk-item\"><div class=\"sk-estimator sk-toggleable\"><input class=\"sk-toggleable__control sk-hidden--visually\" id=\"sk-estimator-id-11\" type=\"checkbox\" ><label for=\"sk-estimator-id-11\" class=\"sk-toggleable__label sk-toggleable__label-arrow\">NumberSelector</label><div class=\"sk-toggleable__content\"><pre>NumberSelector(key=&#x27;C1+percent&#x27;)</pre></div></div></div><div class=\"sk-item\"><div class=\"sk-estimator sk-toggleable\"><input class=\"sk-toggleable__control sk-hidden--visually\" id=\"sk-estimator-id-12\" type=\"checkbox\" ><label for=\"sk-estimator-id-12\" class=\"sk-toggleable__label sk-toggleable__label-arrow\">MinMaxScaler</label><div class=\"sk-toggleable__content\"><pre>MinMaxScaler()</pre></div></div></div></div></div></div></div></div></div></div><div class=\"sk-item\"><div class=\"sk-estimator sk-toggleable\"><input class=\"sk-toggleable__control sk-hidden--visually\" id=\"sk-estimator-id-13\" type=\"checkbox\" ><label for=\"sk-estimator-id-13\" class=\"sk-toggleable__label sk-toggleable__label-arrow\">MultinomialNB</label><div class=\"sk-toggleable__content\"><pre>MultinomialNB(alpha=1)</pre></div></div></div></div></div></div></div>"
            ]
          },
          "metadata": {},
          "execution_count": 39
        }
      ]
    },
    {
      "cell_type": "markdown",
      "source": [
        "##Testing model"
      ],
      "metadata": {
        "id": "OA8KZZI-3I8S"
      }
    },
    {
      "cell_type": "code",
      "source": [
        "X_test['subs'] = X_test['subs'].apply(clean_subs)\n",
        "X_test.loc[:,levpercent] = X_test['subs'].apply(count_percent_words_dictionar).to_list()"
      ],
      "metadata": {
        "id": "uRGtEjyugCyj"
      },
      "execution_count": null,
      "outputs": []
    },
    {
      "cell_type": "code",
      "source": [
        "def plot_confusion_matrix(y_test, y_preds, model):\n",
        "  \"\"\"confusion matrix \"\"\"\n",
        "  fig, ax = plt.subplots(figsize=(10,10))\n",
        "  cm = confusion_matrix(y_test, y_preds)\n",
        "  cmp = ConfusionMatrixDisplay(cm, display_labels = model.classes_ )\n",
        "  cmp.plot(ax=ax)\n",
        "  plt.suptitle('Confusion matrix ', y=0.92)\n",
        "  plt.show()\n",
        "predictions =clf.predict(X_test)\n",
        "# Compute and plot confusion matrix\n",
        "print(classification_report(y_test, predictions))\n",
        "plot_confusion_matrix(y_test, predictions, clf)"
      ],
      "metadata": {
        "colab": {
          "base_uri": "https://localhost:8080/",
          "height": 1000
        },
        "id": "R7wB9eMznIu-",
        "outputId": "83ddf008-bc24-4b0f-f158-ee5ea9414205"
      },
      "execution_count": null,
      "outputs": [
        {
          "output_type": "stream",
          "name": "stdout",
          "text": [
            "              precision    recall  f1-score   support\n",
            "\n",
            "           1       1.00      0.12      0.22         8\n",
            "           2       0.46      0.79      0.58        14\n",
            "           3       0.87      0.77      0.82        26\n",
            "           4       1.00      1.00      1.00        10\n",
            "\n",
            "    accuracy                           0.72        58\n",
            "   macro avg       0.83      0.67      0.65        58\n",
            "weighted avg       0.81      0.72      0.71        58\n",
            "\n"
          ]
        },
        {
          "output_type": "display_data",
          "data": {
            "text/plain": [
              "<Figure size 1000x1000 with 2 Axes>"
            ],
            "image/png": "[encoded data removed]"
          },
          "metadata": {}
        }
      ]
    },
    {
      "cell_type": "markdown",
      "source": [
        "##Results of the model on the test selection\n",
        "\n",
        "*   MultinomialNB() model is most often wrong on boundary label\n",
        "*   The F1 weighted metric on the test was 0.71.\n"
      ],
      "metadata": {
        "id": "zYkZG8V86img"
      }
    },
    {
      "cell_type": "markdown",
      "source": [
        "#Summary results\n",
        "\n",
        "\n",
        "*   Created NumberSelector and TextSelector functions.\n",
        "*   Data was loaded and preprocessed.\n",
        "*  Data was split into training and test samples.  \n",
        "*   Adding additional features: the percentage of unique lemmas contained in each subtitle text according to the level of difficulty according to the Oxford Classical Dictionary.\n",
        "*   Feature importance was evaluated with CatBoost.\n",
        "*    For searching best hyperparameters used machine learning algorithm with pipeline, GridSearchCV.\n",
        "*   For converting subtitle text into a compact sparse matrix used CountVectorizer, TfidfVectorizer.\n",
        "*   The models for classification were MultinomialNB, SGDClassifier.\n",
        "*   The search of the best hyperparameters was done on the training subsets and validated on the test subsets.\n",
        "*   The F1 weighted metric on the test was 0.71.\n"
      ],
      "metadata": {
        "id": "XZvMmfJh64JI"
      }
    },
    {
      "cell_type": "markdown",
      "source": [
        "##Saving model"
      ],
      "metadata": {
        "id": "CZA6j8YuCpj8"
      }
    },
    {
      "cell_type": "code",
      "execution_count": null,
      "metadata": {
        "id": "382647ff",
        "colab": {
          "base_uri": "https://localhost:8080/",
          "height": 216
        },
        "outputId": "0fe8c277-dd15-4286-b9f3-81e3260d2943"
      },
      "outputs": [
        {
          "output_type": "execute_result",
          "data": {
            "text/plain": [
              "Pipeline(steps=[('features',\n",
              "                 FeatureUnion(transformer_list=[('text',\n",
              "                                                 Pipeline(steps=[('selector',\n",
              "                                                                  TextSelector(key='subs')),\n",
              "                                                                 ('vec',\n",
              "                                                                  CountVectorizer(min_df=3,\n",
              "                                                                                  ngram_range=(1,\n",
              "                                                                                               3),\n",
              "                                                                                  stop_words='english'))])),\n",
              "                                                ('A2+percent',\n",
              "                                                 Pipeline(steps=[('selector',\n",
              "                                                                  NumberSelector(key='A2+percent')),\n",
              "                                                                 ('standard',\n",
              "                                                                  MinMaxScaler())])),\n",
              "                                                ('B1+percent',\n",
              "                                                 Pipeline(steps=[('selector',\n",
              "                                                                  NumberSelector(key='B1+percent')),\n",
              "                                                                 ('standard',\n",
              "                                                                  MinMaxScaler())])),\n",
              "                                                ('B2+percent',\n",
              "                                                 Pipeline(steps=[('selector',\n",
              "                                                                  NumberSelector(key='B2+percent')),\n",
              "                                                                 ('standard',\n",
              "                                                                  MinMaxScaler())])),\n",
              "                                                ('C1+percent',\n",
              "                                                 Pipeline(steps=[('selector',\n",
              "                                                                  NumberSelector(key='C1+percent')),\n",
              "                                                                 ('standard',\n",
              "                                                                  MinMaxScaler())]))])),\n",
              "                ('classifier', MultinomialNB(alpha=1))])"
            ],
            "text/html": [
              "<style>#sk-container-id-2 {color: black;background-color: white;}#sk-container-id-2 pre{padding: 0;}#sk-container-id-2 div.sk-toggleable {background-color: white;}#sk-container-id-2 label.sk-toggleable__label {cursor: pointer;display: block;width: 100%;margin-bottom: 0;padding: 0.3em;box-sizing: border-box;text-align: center;}#sk-container-id-2 label.sk-toggleable__label-arrow:before {content: \"▸\";float: left;margin-right: 0.25em;color: #696969;}#sk-container-id-2 label.sk-toggleable__label-arrow:hover:before {color: black;}#sk-container-id-2 div.sk-estimator:hover label.sk-toggleable__label-arrow:before {color: black;}#sk-container-id-2 div.sk-toggleable__content {max-height: 0;max-width: 0;overflow: hidden;text-align: left;background-color: #f0f8ff;}#sk-container-id-2 div.sk-toggleable__content pre {margin: 0.2em;color: black;border-radius: 0.25em;background-color: #f0f8ff;}#sk-container-id-2 input.sk-toggleable__control:checked~div.sk-toggleable__content {max-height: 200px;max-width: 100%;overflow: auto;}#sk-container-id-2 input.sk-toggleable__control:checked~label.sk-toggleable__label-arrow:before {content: \"▾\";}#sk-container-id-2 div.sk-estimator input.sk-toggleable__control:checked~label.sk-toggleable__label {background-color: #d4ebff;}#sk-container-id-2 div.sk-label input.sk-toggleable__control:checked~label.sk-toggleable__label {background-color: #d4ebff;}#sk-container-id-2 input.sk-hidden--visually {border: 0;clip: rect(1px 1px 1px 1px);clip: rect(1px, 1px, 1px, 1px);height: 1px;margin: -1px;overflow: hidden;padding: 0;position: absolute;width: 1px;}#sk-container-id-2 div.sk-estimator {font-family: monospace;background-color: #f0f8ff;border: 1px dotted black;border-radius: 0.25em;box-sizing: border-box;margin-bottom: 0.5em;}#sk-container-id-2 div.sk-estimator:hover {background-color: #d4ebff;}#sk-container-id-2 div.sk-parallel-item::after {content: \"\";width: 100%;border-bottom: 1px solid gray;flex-grow: 1;}#sk-container-id-2 div.sk-label:hover label.sk-toggleable__label {background-color: #d4ebff;}#sk-container-id-2 div.sk-serial::before {content: \"\";position: absolute;border-left: 1px solid gray;box-sizing: border-box;top: 0;bottom: 0;left: 50%;z-index: 0;}#sk-container-id-2 div.sk-serial {display: flex;flex-direction: column;align-items: center;background-color: white;padding-right: 0.2em;padding-left: 0.2em;position: relative;}#sk-container-id-2 div.sk-item {position: relative;z-index: 1;}#sk-container-id-2 div.sk-parallel {display: flex;align-items: stretch;justify-content: center;background-color: white;position: relative;}#sk-container-id-2 div.sk-item::before, #sk-container-id-2 div.sk-parallel-item::before {content: \"\";position: absolute;border-left: 1px solid gray;box-sizing: border-box;top: 0;bottom: 0;left: 50%;z-index: -1;}#sk-container-id-2 div.sk-parallel-item {display: flex;flex-direction: column;z-index: 1;position: relative;background-color: white;}#sk-container-id-2 div.sk-parallel-item:first-child::after {align-self: flex-end;width: 50%;}#sk-container-id-2 div.sk-parallel-item:last-child::after {align-self: flex-start;width: 50%;}#sk-container-id-2 div.sk-parallel-item:only-child::after {width: 0;}#sk-container-id-2 div.sk-dashed-wrapped {border: 1px dashed gray;margin: 0 0.4em 0.5em 0.4em;box-sizing: border-box;padding-bottom: 0.4em;background-color: white;}#sk-container-id-2 div.sk-label label {font-family: monospace;font-weight: bold;display: inline-block;line-height: 1.2em;}#sk-container-id-2 div.sk-label-container {text-align: center;}#sk-container-id-2 div.sk-container {/* jupyter's `normalize.less` sets `[hidden] { display: none; }` but bootstrap.min.css set `[hidden] { display: none !important; }` so we also need the `!important` here to be able to override the default hidden behavior on the sphinx rendered scikit-learn.org. See: https://github.com/scikit-learn/scikit-learn/issues/21755 */display: inline-block !important;position: relative;}#sk-container-id-2 div.sk-text-repr-fallback {display: none;}</style><div id=\"sk-container-id-2\" class=\"sk-top-container\"><div class=\"sk-text-repr-fallback\"><pre>Pipeline(steps=[(&#x27;features&#x27;,\n",
              "                 FeatureUnion(transformer_list=[(&#x27;text&#x27;,\n",
              "                                                 Pipeline(steps=[(&#x27;selector&#x27;,\n",
              "                                                                  TextSelector(key=&#x27;subs&#x27;)),\n",
              "                                                                 (&#x27;vec&#x27;,\n",
              "                                                                  CountVectorizer(min_df=3,\n",
              "                                                                                  ngram_range=(1,\n",
              "                                                                                               3),\n",
              "                                                                                  stop_words=&#x27;english&#x27;))])),\n",
              "                                                (&#x27;A2+percent&#x27;,\n",
              "                                                 Pipeline(steps=[(&#x27;selector&#x27;,\n",
              "                                                                  NumberSelector(key=&#x27;A2+percent&#x27;)),\n",
              "                                                                 (&#x27;standard&#x27;,\n",
              "                                                                  MinMaxScaler())])),\n",
              "                                                (&#x27;B1+percent&#x27;,\n",
              "                                                 Pipeline(steps=[(&#x27;selector&#x27;,\n",
              "                                                                  NumberSelector(key=&#x27;B1+percent&#x27;)),\n",
              "                                                                 (&#x27;standard&#x27;,\n",
              "                                                                  MinMaxScaler())])),\n",
              "                                                (&#x27;B2+percent&#x27;,\n",
              "                                                 Pipeline(steps=[(&#x27;selector&#x27;,\n",
              "                                                                  NumberSelector(key=&#x27;B2+percent&#x27;)),\n",
              "                                                                 (&#x27;standard&#x27;,\n",
              "                                                                  MinMaxScaler())])),\n",
              "                                                (&#x27;C1+percent&#x27;,\n",
              "                                                 Pipeline(steps=[(&#x27;selector&#x27;,\n",
              "                                                                  NumberSelector(key=&#x27;C1+percent&#x27;)),\n",
              "                                                                 (&#x27;standard&#x27;,\n",
              "                                                                  MinMaxScaler())]))])),\n",
              "                (&#x27;classifier&#x27;, MultinomialNB(alpha=1))])</pre><b>In a Jupyter environment, please rerun this cell to show the HTML representation or trust the notebook. <br />On GitHub, the HTML representation is unable to render, please try loading this page with nbviewer.org.</b></div><div class=\"sk-container\" hidden><div class=\"sk-item sk-dashed-wrapped\"><div class=\"sk-label-container\"><div class=\"sk-label sk-toggleable\"><input class=\"sk-toggleable__control sk-hidden--visually\" id=\"sk-estimator-id-14\" type=\"checkbox\" ><label for=\"sk-estimator-id-14\" class=\"sk-toggleable__label sk-toggleable__label-arrow\">Pipeline</label><div class=\"sk-toggleable__content\"><pre>Pipeline(steps=[(&#x27;features&#x27;,\n",
              "                 FeatureUnion(transformer_list=[(&#x27;text&#x27;,\n",
              "                                                 Pipeline(steps=[(&#x27;selector&#x27;,\n",
              "                                                                  TextSelector(key=&#x27;subs&#x27;)),\n",
              "                                                                 (&#x27;vec&#x27;,\n",
              "                                                                  CountVectorizer(min_df=3,\n",
              "                                                                                  ngram_range=(1,\n",
              "                                                                                               3),\n",
              "                                                                                  stop_words=&#x27;english&#x27;))])),\n",
              "                                                (&#x27;A2+percent&#x27;,\n",
              "                                                 Pipeline(steps=[(&#x27;selector&#x27;,\n",
              "                                                                  NumberSelector(key=&#x27;A2+percent&#x27;)),\n",
              "                                                                 (&#x27;standard&#x27;,\n",
              "                                                                  MinMaxScaler())])),\n",
              "                                                (&#x27;B1+percent&#x27;,\n",
              "                                                 Pipeline(steps=[(&#x27;selector&#x27;,\n",
              "                                                                  NumberSelector(key=&#x27;B1+percent&#x27;)),\n",
              "                                                                 (&#x27;standard&#x27;,\n",
              "                                                                  MinMaxScaler())])),\n",
              "                                                (&#x27;B2+percent&#x27;,\n",
              "                                                 Pipeline(steps=[(&#x27;selector&#x27;,\n",
              "                                                                  NumberSelector(key=&#x27;B2+percent&#x27;)),\n",
              "                                                                 (&#x27;standard&#x27;,\n",
              "                                                                  MinMaxScaler())])),\n",
              "                                                (&#x27;C1+percent&#x27;,\n",
              "                                                 Pipeline(steps=[(&#x27;selector&#x27;,\n",
              "                                                                  NumberSelector(key=&#x27;C1+percent&#x27;)),\n",
              "                                                                 (&#x27;standard&#x27;,\n",
              "                                                                  MinMaxScaler())]))])),\n",
              "                (&#x27;classifier&#x27;, MultinomialNB(alpha=1))])</pre></div></div></div><div class=\"sk-serial\"><div class=\"sk-item sk-dashed-wrapped\"><div class=\"sk-label-container\"><div class=\"sk-label sk-toggleable\"><input class=\"sk-toggleable__control sk-hidden--visually\" id=\"sk-estimator-id-15\" type=\"checkbox\" ><label for=\"sk-estimator-id-15\" class=\"sk-toggleable__label sk-toggleable__label-arrow\">features: FeatureUnion</label><div class=\"sk-toggleable__content\"><pre>FeatureUnion(transformer_list=[(&#x27;text&#x27;,\n",
              "                                Pipeline(steps=[(&#x27;selector&#x27;,\n",
              "                                                 TextSelector(key=&#x27;subs&#x27;)),\n",
              "                                                (&#x27;vec&#x27;,\n",
              "                                                 CountVectorizer(min_df=3,\n",
              "                                                                 ngram_range=(1,\n",
              "                                                                              3),\n",
              "                                                                 stop_words=&#x27;english&#x27;))])),\n",
              "                               (&#x27;A2+percent&#x27;,\n",
              "                                Pipeline(steps=[(&#x27;selector&#x27;,\n",
              "                                                 NumberSelector(key=&#x27;A2+percent&#x27;)),\n",
              "                                                (&#x27;standard&#x27;, MinMaxScaler())])),\n",
              "                               (&#x27;B1+percent&#x27;,\n",
              "                                Pipeline(steps=[(&#x27;selector&#x27;,\n",
              "                                                 NumberSelector(key=&#x27;B1+percent&#x27;)),\n",
              "                                                (&#x27;standard&#x27;, MinMaxScaler())])),\n",
              "                               (&#x27;B2+percent&#x27;,\n",
              "                                Pipeline(steps=[(&#x27;selector&#x27;,\n",
              "                                                 NumberSelector(key=&#x27;B2+percent&#x27;)),\n",
              "                                                (&#x27;standard&#x27;, MinMaxScaler())])),\n",
              "                               (&#x27;C1+percent&#x27;,\n",
              "                                Pipeline(steps=[(&#x27;selector&#x27;,\n",
              "                                                 NumberSelector(key=&#x27;C1+percent&#x27;)),\n",
              "                                                (&#x27;standard&#x27;,\n",
              "                                                 MinMaxScaler())]))])</pre></div></div></div><div class=\"sk-parallel\"><div class=\"sk-parallel-item\"><div class=\"sk-item\"><div class=\"sk-label-container\"><div class=\"sk-label sk-toggleable\"><label>text</label></div></div><div class=\"sk-serial\"><div class=\"sk-item\"><div class=\"sk-serial\"><div class=\"sk-item\"><div class=\"sk-estimator sk-toggleable\"><input class=\"sk-toggleable__control sk-hidden--visually\" id=\"sk-estimator-id-16\" type=\"checkbox\" ><label for=\"sk-estimator-id-16\" class=\"sk-toggleable__label sk-toggleable__label-arrow\">TextSelector</label><div class=\"sk-toggleable__content\"><pre>TextSelector(key=&#x27;subs&#x27;)</pre></div></div></div><div class=\"sk-item\"><div class=\"sk-estimator sk-toggleable\"><input class=\"sk-toggleable__control sk-hidden--visually\" id=\"sk-estimator-id-17\" type=\"checkbox\" ><label for=\"sk-estimator-id-17\" class=\"sk-toggleable__label sk-toggleable__label-arrow\">CountVectorizer</label><div class=\"sk-toggleable__content\"><pre>CountVectorizer(min_df=3, ngram_range=(1, 3), stop_words=&#x27;english&#x27;)</pre></div></div></div></div></div></div></div></div><div class=\"sk-parallel-item\"><div class=\"sk-item\"><div class=\"sk-label-container\"><div class=\"sk-label sk-toggleable\"><label>A2+percent</label></div></div><div class=\"sk-serial\"><div class=\"sk-item\"><div class=\"sk-serial\"><div class=\"sk-item\"><div class=\"sk-estimator sk-toggleable\"><input class=\"sk-toggleable__control sk-hidden--visually\" id=\"sk-estimator-id-18\" type=\"checkbox\" ><label for=\"sk-estimator-id-18\" class=\"sk-toggleable__label sk-toggleable__label-arrow\">NumberSelector</label><div class=\"sk-toggleable__content\"><pre>NumberSelector(key=&#x27;A2+percent&#x27;)</pre></div></div></div><div class=\"sk-item\"><div class=\"sk-estimator sk-toggleable\"><input class=\"sk-toggleable__control sk-hidden--visually\" id=\"sk-estimator-id-19\" type=\"checkbox\" ><label for=\"sk-estimator-id-19\" class=\"sk-toggleable__label sk-toggleable__label-arrow\">MinMaxScaler</label><div class=\"sk-toggleable__content\"><pre>MinMaxScaler()</pre></div></div></div></div></div></div></div></div><div class=\"sk-parallel-item\"><div class=\"sk-item\"><div class=\"sk-label-container\"><div class=\"sk-label sk-toggleable\"><label>B1+percent</label></div></div><div class=\"sk-serial\"><div class=\"sk-item\"><div class=\"sk-serial\"><div class=\"sk-item\"><div class=\"sk-estimator sk-toggleable\"><input class=\"sk-toggleable__control sk-hidden--visually\" id=\"sk-estimator-id-20\" type=\"checkbox\" ><label for=\"sk-estimator-id-20\" class=\"sk-toggleable__label sk-toggleable__label-arrow\">NumberSelector</label><div class=\"sk-toggleable__content\"><pre>NumberSelector(key=&#x27;B1+percent&#x27;)</pre></div></div></div><div class=\"sk-item\"><div class=\"sk-estimator sk-toggleable\"><input class=\"sk-toggleable__control sk-hidden--visually\" id=\"sk-estimator-id-21\" type=\"checkbox\" ><label for=\"sk-estimator-id-21\" class=\"sk-toggleable__label sk-toggleable__label-arrow\">MinMaxScaler</label><div class=\"sk-toggleable__content\"><pre>MinMaxScaler()</pre></div></div></div></div></div></div></div></div><div class=\"sk-parallel-item\"><div class=\"sk-item\"><div class=\"sk-label-container\"><div class=\"sk-label sk-toggleable\"><label>B2+percent</label></div></div><div class=\"sk-serial\"><div class=\"sk-item\"><div class=\"sk-serial\"><div class=\"sk-item\"><div class=\"sk-estimator sk-toggleable\"><input class=\"sk-toggleable__control sk-hidden--visually\" id=\"sk-estimator-id-22\" type=\"checkbox\" ><label for=\"sk-estimator-id-22\" class=\"sk-toggleable__label sk-toggleable__label-arrow\">NumberSelector</label><div class=\"sk-toggleable__content\"><pre>NumberSelector(key=&#x27;B2+percent&#x27;)</pre></div></div></div><div class=\"sk-item\"><div class=\"sk-estimator sk-toggleable\"><input class=\"sk-toggleable__control sk-hidden--visually\" id=\"sk-estimator-id-23\" type=\"checkbox\" ><label for=\"sk-estimator-id-23\" class=\"sk-toggleable__label sk-toggleable__label-arrow\">MinMaxScaler</label><div class=\"sk-toggleable__content\"><pre>MinMaxScaler()</pre></div></div></div></div></div></div></div></div><div class=\"sk-parallel-item\"><div class=\"sk-item\"><div class=\"sk-label-container\"><div class=\"sk-label sk-toggleable\"><label>C1+percent</label></div></div><div class=\"sk-serial\"><div class=\"sk-item\"><div class=\"sk-serial\"><div class=\"sk-item\"><div class=\"sk-estimator sk-toggleable\"><input class=\"sk-toggleable__control sk-hidden--visually\" id=\"sk-estimator-id-24\" type=\"checkbox\" ><label for=\"sk-estimator-id-24\" class=\"sk-toggleable__label sk-toggleable__label-arrow\">NumberSelector</label><div class=\"sk-toggleable__content\"><pre>NumberSelector(key=&#x27;C1+percent&#x27;)</pre></div></div></div><div class=\"sk-item\"><div class=\"sk-estimator sk-toggleable\"><input class=\"sk-toggleable__control sk-hidden--visually\" id=\"sk-estimator-id-25\" type=\"checkbox\" ><label for=\"sk-estimator-id-25\" class=\"sk-toggleable__label sk-toggleable__label-arrow\">MinMaxScaler</label><div class=\"sk-toggleable__content\"><pre>MinMaxScaler()</pre></div></div></div></div></div></div></div></div></div></div><div class=\"sk-item\"><div class=\"sk-estimator sk-toggleable\"><input class=\"sk-toggleable__control sk-hidden--visually\" id=\"sk-estimator-id-26\" type=\"checkbox\" ><label for=\"sk-estimator-id-26\" class=\"sk-toggleable__label sk-toggleable__label-arrow\">MultinomialNB</label><div class=\"sk-toggleable__content\"><pre>MultinomialNB(alpha=1)</pre></div></div></div></div></div></div></div>"
            ]
          },
          "metadata": {},
          "execution_count": 42
        }
      ],
      "source": [
        "# saving best model\n",
        "clf"
      ]
    },
    {
      "cell_type": "code",
      "execution_count": null,
      "metadata": {
        "id": "32bc4b1f"
      },
      "outputs": [],
      "source": [
        "pkl_filename = \"pickle_model.pkl\"\n",
        "with open(pkl_filename, 'wb') as file:\n",
        "    pickle.dump(clf, file)"
      ]
    }
  ]
}